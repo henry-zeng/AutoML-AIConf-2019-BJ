{
  "cells": [
    {
      "metadata": {},
      "cell_type": "markdown",
      "source": "Copyright (c) Microsoft Corporation. All rights reserved.\n\nLicensed under the MIT License."
    },
    {
      "metadata": {},
      "cell_type": "markdown",
      "source": ""
    },
    {
      "metadata": {},
      "cell_type": "markdown",
      "source": "![Impressions](https://PixelServer20190423114238.azurewebsites.net/api/impressions/MachineLearningNotebooks/how-to-use-azureml/automated-machine-learning/remote-amlcompute/auto-ml-remote-amlcompute.png)"
    },
    {
      "metadata": {},
      "cell_type": "markdown",
      "source": "# Automated Machine Learning\n_**Remote Execution using AmlCompute**_\n\n## Contents\n1. [Introduction](#Introduction)\n1. [Setup](#Setup)\n1. [Data](#Data)\n1. [Train](#Train)\n1. [Results](#Results)\n1. [Test](#Test)\n\n**This notebook showcase how to run aumoml on remote compute. There are 3 quiz in this notebook, finish the quiz to win T-shirt!**"
    },
    {
      "metadata": {},
      "cell_type": "markdown",
      "source": "## Introduction\nIn this example we use the scikit-learn's [digit dataset](http://scikit-learn.org/stable/datasets/index.html#optical-recognition-of-handwritten-digits-dataset) to showcase how you can use AutoML for a simple classification problem.\n\nMake sure you have executed the [configuration](../../../configuration.ipynb) before running this notebook.\n\nIn this notebook you would see\n1. Create an `Experiment` in an existing `Workspace`.\n2. Create or Attach existing AmlCompute to a workspace.\n3. Configure AutoML using `AutoMLConfig`.\n4. Train the model using AmlCompute\n5. Explore the results.\n6. Test the best fitted model.\n\nIn addition this notebook showcases the following features\n- **Parallel** executions for iterations\n- **Asynchronous** tracking of progress\n- **Cancellation** of individual iterations or the entire run\n- Retrieving models for any iteration or logged metric\n- Specifying AutoML settings as `**kwargs`"
    },
    {
      "metadata": {},
      "cell_type": "markdown",
      "source": "## Setup\n\nAs part of the setup you have already created an Azure ML `Workspace` object. For AutoML you will need to create an `Experiment` object, which is a named object in a `Workspace` used to run experiments."
    },
    {
      "metadata": {
        "trusted": false
      },
      "cell_type": "code",
      "source": "import logging\nimport os\nimport csv\n\nfrom matplotlib import pyplot as plt\nimport numpy as np\nimport pandas as pd\nfrom sklearn import datasets\n\nimport azureml.core\nfrom azureml.core.experiment import Experiment\nfrom azureml.core.workspace import Workspace\nfrom azureml.train.automl import AutoMLConfig",
      "execution_count": null,
      "outputs": []
    },
    {
      "metadata": {
        "trusted": false
      },
      "cell_type": "code",
      "source": "ws = Workspace.from_config()\n\n# Choose a name for the run history container in the workspace.\nexperiment_name = 'automl-remote-amlcompute'\nproject_folder = './project'\n\nexperiment = Experiment(ws, experiment_name)\n\noutput = {}\noutput['SDK version'] = azureml.core.VERSION\noutput['Subscription ID'] = ws.subscription_id\noutput['Workspace Name'] = ws.name\noutput['Resource Group'] = ws.resource_group\noutput['Location'] = ws.location\noutput['Project Directory'] = project_folder\noutput['Experiment Name'] = experiment.name\npd.set_option('display.max_colwidth', -1)\noutputDf = pd.DataFrame(data = output, index = [''])\noutputDf.T",
      "execution_count": null,
      "outputs": []
    },
    {
      "metadata": {},
      "cell_type": "markdown",
      "source": "### <font color=red> ***Quiz 1 - whitelist models***</font>\n*Please fill in below cell to whitelist XGBoost, RandomForest and LigntGBM algorithm, supported algotithms can be found here:https://docs.microsoft.com/en-us/python/api/azureml-train-automl/azureml.train.automl.constants.supportedalgorithms?view=azure-ml-py *"
    },
    {
      "metadata": {
        "trusted": false
      },
      "cell_type": "code",
      "source": "whitelist_models=[]\n",
      "execution_count": null,
      "outputs": []
    },
    {
      "metadata": {},
      "cell_type": "markdown",
      "source": "### Create or Attach existing AmlCompute\nYou will need to create a [compute target](https://docs.microsoft.com/azure/machine-learning/service/concept-azure-machine-learning-architecture#compute-target) for your AutoML run. In this tutorial, you create an AmlCompute as your training compute resource.\n\nAs with other Azure services, there are limits on certain resources (e.g. AmlCompute) associated with the Azure Machine Learning service. Please read [this article](https://docs.microsoft.com/en-us/azure/machine-learning/service/how-to-manage-quotas) on the default limits and how to request more quota."
    },
    {
      "metadata": {
        "trusted": false
      },
      "cell_type": "code",
      "source": "from azureml.core.compute import AmlCompute\nfrom azureml.core.compute import ComputeTarget\n\n# Choose a name for your cluster.\namlcompute_cluster_name = \"cpucluster\"\n\nfound = False\n\n# Check if this compute target already exists in the workspace.\n\ncts = ws.compute_targets\nif amlcompute_cluster_name in cts and cts[amlcompute_cluster_name].type == 'AmlCompute':\n    found = True\n    print('Found existing compute target.')\n    compute_target = cts[amlcompute_cluster_name]\n\nif not found:\n    print('Creating a new compute target...')\n    provisioning_config = AmlCompute.provisioning_configuration(vm_size = \"STANDARD_D2_V2\", # for GPU, use \"STANDARD_NC6\"\n                                                                #vm_priority = 'lowpriority', # optional\n                                                                max_nodes = 6)\n\n    # Create the cluster.\\n\",\n    compute_target = ComputeTarget.create(ws, amlcompute_cluster_name, provisioning_config)\n\n    # Can poll for a minimum number of nodes and for a specific timeout.\n    # If no min_node_count is provided, it will use the scale settings for the cluster.\n    compute_target.wait_for_completion(show_output = True, min_node_count = None, timeout_in_minutes = 20)\n\n     # For a more detailed view of current AmlCompute status, use get_status().",
      "execution_count": null,
      "outputs": []
    },
    {
      "metadata": {},
      "cell_type": "markdown",
      "source": "## Data\nFor remote executions, you need to make the data accessible from the remote compute.\nThis can be done by uploading the data to DataStore.\nIn this example, we upload scikit-learn's [load_digits](http://scikit-learn.org/stable/modules/generated/sklearn.datasets.load_digits.html) data."
    },
    {
      "metadata": {
        "trusted": false
      },
      "cell_type": "code",
      "source": "data_train = datasets.load_digits()\n\nif not os.path.isdir('data'):\n    os.mkdir('data')\n    \nif not os.path.exists(project_folder):\n    os.makedirs(project_folder)\n    \npd.DataFrame(data_train.data).to_csv(\"data/X_train.tsv\", index=False, header=False, quoting=csv.QUOTE_ALL, sep=\"\\t\")\npd.DataFrame(data_train.target).to_csv(\"data/y_train.tsv\", index=False, header=False, sep=\"\\t\")\n\nds = ws.get_default_datastore()\nds.upload(src_dir='./data', target_path='bai_data', overwrite=True, show_progress=True)\n\nfrom azureml.core.runconfig import DataReferenceConfiguration\ndr = DataReferenceConfiguration(datastore_name=ds.name, \n                   path_on_datastore='bai_data', \n                   path_on_compute='/tmp/azureml_runs',\n                   mode='download', # download files from datastore to compute target\n                   overwrite=False)",
      "execution_count": null,
      "outputs": []
    },
    {
      "metadata": {
        "trusted": false
      },
      "cell_type": "code",
      "source": "from azureml.core.runconfig import RunConfiguration\nfrom azureml.core.conda_dependencies import CondaDependencies\n\n# create a new RunConfig object\nconda_run_config = RunConfiguration(framework=\"python\")\n\n# Set compute target to AmlCompute\nconda_run_config.target = compute_target\nconda_run_config.environment.docker.enabled = True\nconda_run_config.environment.docker.base_image = azureml.core.runconfig.DEFAULT_CPU_IMAGE\n\n# set the data reference of the run coonfiguration\nconda_run_config.data_references = {ds.name: dr}\n\ncd = CondaDependencies.create(pip_packages=['azureml-sdk[automl]'], conda_packages=['numpy','py-xgboost<=0.80'])\nconda_run_config.environment.python.conda_dependencies = cd",
      "execution_count": null,
      "outputs": []
    },
    {
      "metadata": {
        "trusted": false
      },
      "cell_type": "code",
      "source": "%%writefile $project_folder/get_data.py\n\nimport pandas as pd\n\ndef get_data():\n    X_train = pd.read_csv(\"/tmp/azureml_runs/bai_data/X_train.tsv\", delimiter=\"\\t\", header=None, quotechar='\"')\n    y_train = pd.read_csv(\"/tmp/azureml_runs/bai_data/y_train.tsv\", delimiter=\"\\t\", header=None, quotechar='\"')\n\n    return { \"X\" : X_train.values, \"y\" : y_train[0].values }\n",
      "execution_count": null,
      "outputs": []
    },
    {
      "metadata": {},
      "cell_type": "markdown",
      "source": "## Train\n\nYou can specify `automl_settings` as `**kwargs` as well. Also note that you can use a `get_data()` function for local excutions too.\n\n**Note:** When using AmlCompute, you can't pass Numpy arrays directly to the fit method.\n\n|Property|Description|\n|-|-|\n|**primary_metric**|This is the metric that you want to optimize. Classification supports the following primary metrics: <br><i>accuracy</i><br><i>AUC_weighted</i><br><i>average_precision_score_weighted</i><br><i>norm_macro_recall</i><br><i>precision_score_weighted</i>|\n|**iteration_timeout_minutes**|Time limit in minutes for each iteration.|\n|**iterations**|Number of iterations. In each iteration AutoML trains a specific pipeline with the data.|\n|**n_cross_validations**|Number of cross validation splits.|\n|**max_concurrent_iterations**|Maximum number of iterations that would be executed in parallel. This should be less than the number of cores on the DSVM.|"
    },
    {
      "metadata": {},
      "cell_type": "markdown",
      "source": "### <font color=red>*** Quiz 2 - fill automl_settings***</font>\n*Fill below cell to set automl_settings with below requirement*\n\n|Property|Description|\n|-|-|\n|**primary_metric**|AUC_weighted|\n|**iteration_timeout_minutes**|10|\n|**iterations**|10|\n|**n_cross_validations**|3|\n|**max_concurrent_iterations**|2|"
    },
    {
      "metadata": {
        "trusted": false
      },
      "cell_type": "code",
      "source": "automl_settings = {\n    \"iteration_timeout_minutes\": ,\n    \"iterations\": ,\n    \"n_cross_validations\": ,\n    \"primary_metric\": ,\n    \"preprocess\": False,\n    \"max_concurrent_iterations\": ,\n    \"verbosity\": logging.INFO\n}\n\nautoml_config = AutoMLConfig(task = 'classification',\n                             debug_log = 'automl_errors.log',\n                             path = project_folder,\n                             run_configuration=conda_run_config,\n                             data_script = project_folder + \"/get_data.py\",\n                             **automl_settings\n                            )\n",
      "execution_count": null,
      "outputs": []
    },
    {
      "metadata": {},
      "cell_type": "markdown",
      "source": "Call the `submit` method on the experiment object and pass the run configuration. For remote runs the execution is asynchronous, so you will see the iterations get populated as they complete. You can interact with the widgets and models even when the experiment is running to retrieve the best model up to that point. Once you are satisfied with the model, you can cancel a particular iteration or the whole run.\nIn this example, we specify `show_output = False` to suppress console output while the run is in progress."
    },
    {
      "metadata": {
        "trusted": false
      },
      "cell_type": "code",
      "source": "remote_run = experiment.submit(automl_config, show_output = False)",
      "execution_count": null,
      "outputs": []
    },
    {
      "metadata": {
        "trusted": false
      },
      "cell_type": "code",
      "source": "remote_run",
      "execution_count": null,
      "outputs": []
    },
    {
      "metadata": {},
      "cell_type": "markdown",
      "source": "## Results\n\n#### Loading executed runs\nIn case you need to load a previously executed run, enable the cell below and replace the `run_id` value."
    },
    {
      "metadata": {},
      "cell_type": "markdown",
      "source": " remote_run = AutoMLRun(experiment = experiment, run_id = 'AutoML_4fa1e293-ac8f-4181-a1c4-05e118ff6ad9\t')"
    },
    {
      "metadata": {},
      "cell_type": "markdown",
      "source": "#### Widget for Monitoring Runs\n\nThe widget will first report a \"loading\" status while running the first iteration. After completing the first iteration, an auto-updating graph and table will be shown. The widget will refresh once per minute, so you should see the graph update as child runs complete.\n\nYou can click on a pipeline to see run properties and output logs.  Logs are also available on the DSVM under `/tmp/azureml_run/{iterationid}/azureml-logs`\n\n**Note:** The widget displays a link at the bottom. Use this link to open a web interface to explore the individual run details."
    },
    {
      "metadata": {
        "trusted": false
      },
      "cell_type": "code",
      "source": "remote_run",
      "execution_count": null,
      "outputs": []
    },
    {
      "metadata": {
        "trusted": false
      },
      "cell_type": "code",
      "source": "from azureml.widgets import RunDetails\nRunDetails(remote_run).show() ",
      "execution_count": null,
      "outputs": []
    },
    {
      "metadata": {
        "trusted": false
      },
      "cell_type": "code",
      "source": "# Wait until the run finishes.\nremote_run.wait_for_completion(show_output = True)",
      "execution_count": null,
      "outputs": []
    },
    {
      "metadata": {},
      "cell_type": "markdown",
      "source": "\n#### Retrieve All Child Runs\nYou can also use SDK methods to fetch all the child runs and see individual metrics that we log."
    },
    {
      "metadata": {
        "trusted": false
      },
      "cell_type": "code",
      "source": "children = list(remote_run.get_children())\nmetricslist = {}\nfor run in children:\n    properties = run.get_properties()\n    metrics = {k: v for k, v in run.get_metrics().items() if isinstance(v, float)}\n    metricslist[int(properties['iteration'])] = metrics\n\nrundata = pd.DataFrame(metricslist).sort_index(1)\nrundata",
      "execution_count": null,
      "outputs": []
    },
    {
      "metadata": {},
      "cell_type": "markdown",
      "source": "### Cancelling Runs\n\nYou can cancel ongoing remote runs using the `cancel` and `cancel_iteration` functions."
    },
    {
      "metadata": {
        "trusted": false
      },
      "cell_type": "code",
      "source": "# Cancel the ongoing experiment and stop scheduling new iterations.\n# remote_run.cancel()\n\n# Cancel iteration 1 and move onto iteration 2.\n# remote_run.cancel_iteration(1)",
      "execution_count": null,
      "outputs": []
    },
    {
      "metadata": {},
      "cell_type": "markdown",
      "source": "### Retrieve the Best Model\n\nBelow we select the best pipeline from our iterations. The `get_output` method returns the best run and the fitted model. The Model includes the pipeline and any pre-processing.  Overloads on `get_output` allow you to retrieve the best run and fitted model for *any* logged metric or for a particular *iteration*."
    },
    {
      "metadata": {
        "trusted": false
      },
      "cell_type": "code",
      "source": "best_run, fitted_model = remote_run.get_output()\nprint(best_run)\nprint(fitted_model)",
      "execution_count": null,
      "outputs": []
    },
    {
      "metadata": {},
      "cell_type": "markdown",
      "source": "#### Best Model Based on Any Other Metric\nShow the run and the model which has the smallest `log_loss` value:"
    },
    {
      "metadata": {
        "trusted": false
      },
      "cell_type": "code",
      "source": "lookup_metric = \"log_loss\"\nbest_run, fitted_model = remote_run.get_output(metric = lookup_metric)\nprint(best_run)\nprint(fitted_model)",
      "execution_count": null,
      "outputs": []
    },
    {
      "metadata": {},
      "cell_type": "markdown",
      "source": "### <font color=red> *Quiz 3 - Retrieve model from specific iteration*</font>\n*Please fill in below cell to retrieve the model from 7th iteration*"
    },
    {
      "metadata": {
        "trusted": false
      },
      "cell_type": "code",
      "source": "iteration = \nseventh_run, seventh_model = remote_run.get_output(iteration = iteration)\nprint(seventh_run)\nprint(seventh_model)",
      "execution_count": null,
      "outputs": []
    },
    {
      "metadata": {},
      "cell_type": "markdown",
      "source": "## Test\n\n#### Load Test Data"
    },
    {
      "metadata": {
        "trusted": false
      },
      "cell_type": "code",
      "source": "digits = datasets.load_digits()\nX_test = digits.data[:10, :]\ny_test = digits.target[:10]\nimages = digits.images[:10]",
      "execution_count": null,
      "outputs": []
    },
    {
      "metadata": {},
      "cell_type": "markdown",
      "source": "#### Testing Our Best Fitted Model"
    },
    {
      "metadata": {
        "trusted": false
      },
      "cell_type": "code",
      "source": "# Randomly select digits and test.\nfor index in np.random.choice(len(y_test), 2, replace = False):\n    print(index)\n    predicted = fitted_model.predict(X_test[index:index + 1])[0]\n    label = y_test[index]\n    title = \"Label value = %d  Predicted value = %d \" % (label, predicted)\n    fig = plt.figure(1, figsize=(3,3))\n    ax1 = fig.add_axes((0,0,.8,.8))\n    ax1.set_title(title)\n    plt.imshow(images[index], cmap = plt.cm.gray_r, interpolation = 'nearest')\n    plt.show()",
      "execution_count": null,
      "outputs": []
    },
    {
      "metadata": {
        "trusted": false
      },
      "cell_type": "code",
      "source": "",
      "execution_count": null,
      "outputs": []
    }
  ],
  "metadata": {
    "authors": [
      {
        "name": "savitam"
      }
    ],
    "kernelspec": {
      "name": "python3",
      "display_name": "Python 3",
      "language": "python"
    },
    "language_info": {
      "mimetype": "text/x-python",
      "nbconvert_exporter": "python",
      "name": "python",
      "file_extension": ".py",
      "version": "3.5.4",
      "pygments_lexer": "ipython3",
      "codemirror_mode": {
        "version": 3,
        "name": "ipython"
      }
    }
  },
  "nbformat": 4,
  "nbformat_minor": 2
}