{
 "cells": [
  {
   "cell_type": "markdown",
   "metadata": {},
   "source": [
    "## 1. Install latest SDK"
   ]
  },
  {
   "cell_type": "code",
   "execution_count": 1,
   "metadata": {},
   "outputs": [
    {
     "name": "stdout",
     "output_type": "stream",
     "text": [
      "Requirement already satisfied: azureml-sdk[automl,explain,notebooks]==1.0.43 in c:\\users\\yozen\\appdata\\local\\continuum\\anaconda3\\envs\\aml_py365\\lib\\site-packages (1.0.43)\n",
      "Requirement already satisfied: azureml-train==1.0.43.* in c:\\users\\yozen\\appdata\\local\\continuum\\anaconda3\\envs\\aml_py365\\lib\\site-packages (from azureml-sdk[automl,explain,notebooks]==1.0.43) (1.0.43)\n",
      "Requirement already satisfied: azureml-dataprep<1.2.0a,>=1.1.3a in c:\\users\\yozen\\appdata\\local\\continuum\\anaconda3\\envs\\aml_py365\\lib\\site-packages (from azureml-sdk[automl,explain,notebooks]==1.0.43) (1.1.5)\n",
      "Requirement already satisfied: azureml-pipeline==1.0.43.* in c:\\users\\yozen\\appdata\\local\\continuum\\anaconda3\\envs\\aml_py365\\lib\\site-packages (from azureml-sdk[automl,explain,notebooks]==1.0.43) (1.0.43)\n",
      "Requirement already satisfied: azureml-core==1.0.43.* in c:\\users\\yozen\\appdata\\local\\continuum\\anaconda3\\envs\\aml_py365\\lib\\site-packages (from azureml-sdk[automl,explain,notebooks]==1.0.43) (1.0.43)\n",
      "Requirement already satisfied: azureml-train-automl==1.0.43.*; extra == \"automl\" in c:\\users\\yozen\\appdata\\local\\continuum\\anaconda3\\envs\\aml_py365\\lib\\site-packages (from azureml-sdk[automl,explain,notebooks]==1.0.43) (1.0.43.1)\n",
      "Requirement already satisfied: azureml-explain-model==1.0.43.*; extra == \"explain\" in c:\\users\\yozen\\appdata\\local\\continuum\\anaconda3\\envs\\aml_py365\\lib\\site-packages (from azureml-sdk[automl,explain,notebooks]==1.0.43) (1.0.43)\n",
      "Requirement already satisfied: azureml-widgets==1.0.43.*; extra == \"notebooks\" in c:\\users\\yozen\\appdata\\local\\continuum\\anaconda3\\envs\\aml_py365\\lib\\site-packages (from azureml-sdk[automl,explain,notebooks]==1.0.43) (1.0.43.1)\n",
      "Requirement already satisfied: azureml-contrib-notebook==1.0.43.*; extra == \"notebooks\" in c:\\users\\yozen\\appdata\\local\\continuum\\anaconda3\\envs\\aml_py365\\lib\\site-packages (from azureml-sdk[automl,explain,notebooks]==1.0.43) (1.0.43)\n",
      "Requirement already satisfied: azureml-train-core==1.0.43.* in c:\\users\\yozen\\appdata\\local\\continuum\\anaconda3\\envs\\aml_py365\\lib\\site-packages (from azureml-train==1.0.43.*->azureml-sdk[automl,explain,notebooks]==1.0.43) (1.0.43)\n",
      "Requirement already satisfied: azureml-dataprep-native<14.0.0,>=13.0.0 in c:\\users\\yozen\\appdata\\local\\continuum\\anaconda3\\envs\\aml_py365\\lib\\site-packages (from azureml-dataprep<1.2.0a,>=1.1.3a->azureml-sdk[automl,explain,notebooks]==1.0.43) (13.0.0)\n",
      "Requirement already satisfied: dotnetcore2==2.1.8 in c:\\users\\yozen\\appdata\\local\\continuum\\anaconda3\\envs\\aml_py365\\lib\\site-packages (from azureml-dataprep<1.2.0a,>=1.1.3a->azureml-sdk[automl,explain,notebooks]==1.0.43) (2.1.8)\n",
      "Requirement already satisfied: azureml-pipeline-core==1.0.43.* in c:\\users\\yozen\\appdata\\local\\continuum\\anaconda3\\envs\\aml_py365\\lib\\site-packages (from azureml-pipeline==1.0.43.*->azureml-sdk[automl,explain,notebooks]==1.0.43) (1.0.43)\n",
      "Requirement already satisfied: azureml-pipeline-steps==1.0.43.* in c:\\users\\yozen\\appdata\\local\\continuum\\anaconda3\\envs\\aml_py365\\lib\\site-packages (from azureml-pipeline==1.0.43.*->azureml-sdk[automl,explain,notebooks]==1.0.43) (1.0.43)\n",
      "Requirement already satisfied: msrest>=0.5.1 in c:\\users\\yozen\\appdata\\local\\continuum\\anaconda3\\envs\\aml_py365\\lib\\site-packages (from azureml-core==1.0.43.*->azureml-sdk[automl,explain,notebooks]==1.0.43) (0.6.7)\n",
      "Requirement already satisfied: ndg-httpsclient in c:\\users\\yozen\\appdata\\local\\continuum\\anaconda3\\envs\\aml_py365\\lib\\site-packages (from azureml-core==1.0.43.*->azureml-sdk[automl,explain,notebooks]==1.0.43) (0.5.1)\n",
      "Requirement already satisfied: azure-mgmt-resource>=1.2.1 in c:\\users\\yozen\\appdata\\local\\continuum\\anaconda3\\envs\\aml_py365\\lib\\site-packages (from azureml-core==1.0.43.*->azureml-sdk[automl,explain,notebooks]==1.0.43) (3.0.0)\n",
      "Requirement already satisfied: azure-common>=1.1.12 in c:\\users\\yozen\\appdata\\local\\continuum\\anaconda3\\envs\\aml_py365\\lib\\site-packages (from azureml-core==1.0.43.*->azureml-sdk[automl,explain,notebooks]==1.0.43) (1.1.22)\n",
      "Requirement already satisfied: cryptography!=1.9,!=2.0.*,!=2.1.*,!=2.2.* in c:\\users\\yozen\\appdata\\local\\continuum\\anaconda3\\envs\\aml_py365\\lib\\site-packages (from azureml-core==1.0.43.*->azureml-sdk[automl,explain,notebooks]==1.0.43) (2.7)\n",
      "Requirement already satisfied: pytz in c:\\users\\yozen\\appdata\\local\\continuum\\anaconda3\\envs\\aml_py365\\lib\\site-packages (from azureml-core==1.0.43.*->azureml-sdk[automl,explain,notebooks]==1.0.43) (2019.1)\n",
      "Requirement already satisfied: azure-mgmt-storage>=1.5.0 in c:\\users\\yozen\\appdata\\local\\continuum\\anaconda3\\envs\\aml_py365\\lib\\site-packages (from azureml-core==1.0.43.*->azureml-sdk[automl,explain,notebooks]==1.0.43) (4.0.0)\n",
      "Requirement already satisfied: adal>=1.2.0 in c:\\users\\yozen\\appdata\\local\\continuum\\anaconda3\\envs\\aml_py365\\lib\\site-packages (from azureml-core==1.0.43.*->azureml-sdk[automl,explain,notebooks]==1.0.43) (1.2.1)\n",
      "Requirement already satisfied: contextlib2 in c:\\users\\yozen\\appdata\\local\\continuum\\anaconda3\\envs\\aml_py365\\lib\\site-packages (from azureml-core==1.0.43.*->azureml-sdk[automl,explain,notebooks]==1.0.43) (0.5.5)\n",
      "Requirement already satisfied: paramiko>=2.0.8 in c:\\users\\yozen\\appdata\\local\\continuum\\anaconda3\\envs\\aml_py365\\lib\\site-packages (from azureml-core==1.0.43.*->azureml-sdk[automl,explain,notebooks]==1.0.43) (2.5.0)\n",
      "Requirement already satisfied: azure-graphrbac>=0.40.0 in c:\\users\\yozen\\appdata\\local\\continuum\\anaconda3\\envs\\aml_py365\\lib\\site-packages (from azureml-core==1.0.43.*->azureml-sdk[automl,explain,notebooks]==1.0.43) (0.61.1)\n",
      "Requirement already satisfied: PyJWT in c:\\users\\yozen\\appdata\\local\\continuum\\anaconda3\\envs\\aml_py365\\lib\\site-packages (from azureml-core==1.0.43.*->azureml-sdk[automl,explain,notebooks]==1.0.43) (1.7.1)\n",
      "Requirement already satisfied: azure-mgmt-authorization>=0.40.0 in c:\\users\\yozen\\appdata\\local\\continuum\\anaconda3\\envs\\aml_py365\\lib\\site-packages (from azureml-core==1.0.43.*->azureml-sdk[automl,explain,notebooks]==1.0.43) (0.52.0)\n",
      "Requirement already satisfied: jmespath in c:\\users\\yozen\\appdata\\local\\continuum\\anaconda3\\envs\\aml_py365\\lib\\site-packages (from azureml-core==1.0.43.*->azureml-sdk[automl,explain,notebooks]==1.0.43) (0.9.4)\n",
      "Requirement already satisfied: ruamel.yaml<=0.15.89,>=0.15.35 in c:\\users\\yozen\\appdata\\local\\continuum\\anaconda3\\envs\\aml_py365\\lib\\site-packages (from azureml-core==1.0.43.*->azureml-sdk[automl,explain,notebooks]==1.0.43) (0.15.89)\n",
      "Requirement already satisfied: backports.tempfile in c:\\users\\yozen\\appdata\\local\\continuum\\anaconda3\\envs\\aml_py365\\lib\\site-packages (from azureml-core==1.0.43.*->azureml-sdk[automl,explain,notebooks]==1.0.43) (1.0)\n",
      "Requirement already satisfied: python-dateutil>=2.7.3 in c:\\users\\yozen\\appdata\\local\\continuum\\anaconda3\\envs\\aml_py365\\lib\\site-packages (from azureml-core==1.0.43.*->azureml-sdk[automl,explain,notebooks]==1.0.43) (2.8.0)\n",
      "Requirement already satisfied: docker in c:\\users\\yozen\\appdata\\local\\continuum\\anaconda3\\envs\\aml_py365\\lib\\site-packages (from azureml-core==1.0.43.*->azureml-sdk[automl,explain,notebooks]==1.0.43) (4.0.1)\n",
      "Requirement already satisfied: requests>=2.19.1 in c:\\users\\yozen\\appdata\\local\\continuum\\anaconda3\\envs\\aml_py365\\lib\\site-packages (from azureml-core==1.0.43.*->azureml-sdk[automl,explain,notebooks]==1.0.43) (2.22.0)\n",
      "Requirement already satisfied: pyopenssl in c:\\users\\yozen\\appdata\\local\\continuum\\anaconda3\\envs\\aml_py365\\lib\\site-packages (from azureml-core==1.0.43.*->azureml-sdk[automl,explain,notebooks]==1.0.43) (19.0.0)\n",
      "Requirement already satisfied: azure-mgmt-containerregistry>=2.0.0 in c:\\users\\yozen\\appdata\\local\\continuum\\anaconda3\\envs\\aml_py365\\lib\\site-packages (from azureml-core==1.0.43.*->azureml-sdk[automl,explain,notebooks]==1.0.43) (2.8.0)\n",
      "Requirement already satisfied: msrestazure>=0.4.33 in c:\\users\\yozen\\appdata\\local\\continuum\\anaconda3\\envs\\aml_py365\\lib\\site-packages (from azureml-core==1.0.43.*->azureml-sdk[automl,explain,notebooks]==1.0.43) (0.6.1)\n",
      "Requirement already satisfied: urllib3>=1.23 in c:\\users\\yozen\\appdata\\local\\continuum\\anaconda3\\envs\\aml_py365\\lib\\site-packages (from azureml-core==1.0.43.*->azureml-sdk[automl,explain,notebooks]==1.0.43) (1.25.3)\n",
      "Requirement already satisfied: pathspec in c:\\users\\yozen\\appdata\\local\\continuum\\anaconda3\\envs\\aml_py365\\lib\\site-packages (from azureml-core==1.0.43.*->azureml-sdk[automl,explain,notebooks]==1.0.43) (0.5.9)\n",
      "Requirement already satisfied: jsonpickle in c:\\users\\yozen\\appdata\\local\\continuum\\anaconda3\\envs\\aml_py365\\lib\\site-packages (from azureml-core==1.0.43.*->azureml-sdk[automl,explain,notebooks]==1.0.43) (1.2)\n",
      "Requirement already satisfied: SecretStorage in c:\\users\\yozen\\appdata\\local\\continuum\\anaconda3\\envs\\aml_py365\\lib\\site-packages (from azureml-core==1.0.43.*->azureml-sdk[automl,explain,notebooks]==1.0.43) (3.1.1)\n",
      "Requirement already satisfied: six>=1.11.0 in c:\\users\\yozen\\appdata\\local\\continuum\\anaconda3\\envs\\aml_py365\\lib\\site-packages (from azureml-core==1.0.43.*->azureml-sdk[automl,explain,notebooks]==1.0.43) (1.12.0)\n",
      "Requirement already satisfied: azure-mgmt-keyvault>=0.40.0 in c:\\users\\yozen\\appdata\\local\\continuum\\anaconda3\\envs\\aml_py365\\lib\\site-packages (from azureml-core==1.0.43.*->azureml-sdk[automl,explain,notebooks]==1.0.43) (1.1.0)\n",
      "Requirement already satisfied: azureml-automl-core==1.0.43.* in c:\\users\\yozen\\appdata\\local\\continuum\\anaconda3\\envs\\aml_py365\\lib\\site-packages (from azureml-train-automl==1.0.43.*; extra == \"automl\"->azureml-sdk[automl,explain,notebooks]==1.0.43) (1.0.43)\n",
      "Requirement already satisfied: dill>=0.2.8 in c:\\users\\yozen\\appdata\\local\\continuum\\anaconda3\\envs\\aml_py365\\lib\\site-packages (from azureml-train-automl==1.0.43.*; extra == \"automl\"->azureml-sdk[automl,explain,notebooks]==1.0.43) (0.2.9)\n",
      "Requirement already satisfied: skl2onnx==1.4.9; python_version < \"3.7\" in c:\\users\\yozen\\appdata\\local\\continuum\\anaconda3\\envs\\aml_py365\\lib\\site-packages (from azureml-train-automl==1.0.43.*; extra == \"automl\"->azureml-sdk[automl,explain,notebooks]==1.0.43) (1.4.9)\n",
      "Requirement already satisfied: resource>=0.1.8 in c:\\users\\yozen\\appdata\\local\\continuum\\anaconda3\\envs\\aml_py365\\lib\\site-packages (from azureml-train-automl==1.0.43.*; extra == \"automl\"->azureml-sdk[automl,explain,notebooks]==1.0.43) (0.2.1)\n",
      "Requirement already satisfied: gensim in c:\\users\\yozen\\appdata\\local\\continuum\\anaconda3\\envs\\aml_py365\\lib\\site-packages (from azureml-train-automl==1.0.43.*; extra == \"automl\"->azureml-sdk[automl,explain,notebooks]==1.0.43) (3.7.3)\n",
      "Requirement already satisfied: statsmodels>=0.9.0 in c:\\users\\yozen\\appdata\\local\\continuum\\anaconda3\\envs\\aml_py365\\lib\\site-packages (from azureml-train-automl==1.0.43.*; extra == \"automl\"->azureml-sdk[automl,explain,notebooks]==1.0.43) (0.9.0)\n",
      "Requirement already satisfied: pandas<=0.23.4,>=0.21.0 in c:\\users\\yozen\\appdata\\local\\continuum\\anaconda3\\envs\\aml_py365\\lib\\site-packages (from azureml-train-automl==1.0.43.*; extra == \"automl\"->azureml-sdk[automl,explain,notebooks]==1.0.43) (0.23.4)\n",
      "Requirement already satisfied: azureml-telemetry==1.0.43.* in c:\\users\\yozen\\appdata\\local\\continuum\\anaconda3\\envs\\aml_py365\\lib\\site-packages (from azureml-train-automl==1.0.43.*; extra == \"automl\"->azureml-sdk[automl,explain,notebooks]==1.0.43) (1.0.43.1)\n",
      "Requirement already satisfied: scipy<=1.1.0,>=1.0.0 in c:\\users\\yozen\\appdata\\local\\continuum\\anaconda3\\envs\\aml_py365\\lib\\site-packages (from azureml-train-automl==1.0.43.*; extra == \"automl\"->azureml-sdk[automl,explain,notebooks]==1.0.43) (1.1.0)\n",
      "Requirement already satisfied: lightgbm<=2.2.1,>=2.0.11 in c:\\users\\yozen\\appdata\\local\\continuum\\anaconda3\\envs\\aml_py365\\lib\\site-packages (from azureml-train-automl==1.0.43.*; extra == \"automl\"->azureml-sdk[automl,explain,notebooks]==1.0.43) (2.2.1)\n",
      "Requirement already satisfied: nimbusml==0.6.5; python_version < \"3.7\" in c:\\users\\yozen\\appdata\\local\\continuum\\anaconda3\\envs\\aml_py365\\lib\\site-packages (from azureml-train-automl==1.0.43.*; extra == \"automl\"->azureml-sdk[automl,explain,notebooks]==1.0.43) (0.6.5)\n",
      "Requirement already satisfied: patsy>=0.5.1 in c:\\users\\yozen\\appdata\\local\\continuum\\anaconda3\\envs\\aml_py365\\lib\\site-packages (from azureml-train-automl==1.0.43.*; extra == \"automl\"->azureml-sdk[automl,explain,notebooks]==1.0.43) (0.5.1)\n",
      "Requirement already satisfied: scikit-learn<=0.20.3,>=0.19.0 in c:\\users\\yozen\\appdata\\local\\continuum\\anaconda3\\envs\\aml_py365\\lib\\site-packages (from azureml-train-automl==1.0.43.*; extra == \"automl\"->azureml-sdk[automl,explain,notebooks]==1.0.43) (0.20.3)\n",
      "Requirement already satisfied: onnxconverter-common==1.4.2; python_version < \"3.7\" in c:\\users\\yozen\\appdata\\local\\continuum\\anaconda3\\envs\\aml_py365\\lib\\site-packages (from azureml-train-automl==1.0.43.*; extra == \"automl\"->azureml-sdk[automl,explain,notebooks]==1.0.43) (1.4.2)\n",
      "Requirement already satisfied: wheel==0.30.0 in c:\\users\\yozen\\appdata\\local\\continuum\\anaconda3\\envs\\aml_py365\\lib\\site-packages (from azureml-train-automl==1.0.43.*; extra == \"automl\"->azureml-sdk[automl,explain,notebooks]==1.0.43) (0.30.0)\n",
      "Requirement already satisfied: sklearn-pandas<=1.7.0,>=1.4.0 in c:\\users\\yozen\\appdata\\local\\continuum\\anaconda3\\envs\\aml_py365\\lib\\site-packages (from azureml-train-automl==1.0.43.*; extra == \"automl\"->azureml-sdk[automl,explain,notebooks]==1.0.43) (1.7.0)\n",
      "Requirement already satisfied: numpy<=1.16.2,>=1.11.0 in c:\\users\\yozen\\appdata\\local\\continuum\\anaconda3\\envs\\aml_py365\\lib\\site-packages (from azureml-train-automl==1.0.43.*; extra == \"automl\"->azureml-sdk[automl,explain,notebooks]==1.0.43) (1.16.2)\n",
      "Requirement already satisfied: onnxmltools==1.4.1; python_version < \"3.7\" in c:\\users\\yozen\\appdata\\local\\continuum\\anaconda3\\envs\\aml_py365\\lib\\site-packages (from azureml-train-automl==1.0.43.*; extra == \"automl\"->azureml-sdk[automl,explain,notebooks]==1.0.43) (1.4.1)\n",
      "Requirement already satisfied: shap<=0.29.1,>=0.20.0 in c:\\users\\yozen\\appdata\\local\\continuum\\anaconda3\\envs\\aml_py365\\lib\\site-packages (from azureml-explain-model==1.0.43.*; extra == \"explain\"->azureml-sdk[automl,explain,notebooks]==1.0.43) (0.29.1)\n",
      "Requirement already satisfied: ipywidgets>=7.0.0 in c:\\users\\yozen\\appdata\\local\\continuum\\anaconda3\\envs\\aml_py365\\lib\\site-packages (from azureml-widgets==1.0.43.*; extra == \"notebooks\"->azureml-sdk[automl,explain,notebooks]==1.0.43) (7.4.2)\n",
      "Requirement already satisfied: ipykernel in c:\\users\\yozen\\appdata\\local\\continuum\\anaconda3\\envs\\aml_py365\\lib\\site-packages (from azureml-contrib-notebook==1.0.43.*; extra == \"notebooks\"->azureml-sdk[automl,explain,notebooks]==1.0.43) (5.1.1)\n",
      "Requirement already satisfied: papermill in c:\\users\\yozen\\appdata\\local\\continuum\\anaconda3\\envs\\aml_py365\\lib\\site-packages (from azureml-contrib-notebook==1.0.43.*; extra == \"notebooks\"->azureml-sdk[automl,explain,notebooks]==1.0.43) (1.0.1)\n",
      "Requirement already satisfied: ipython in c:\\users\\yozen\\appdata\\local\\continuum\\anaconda3\\envs\\aml_py365\\lib\\site-packages (from azureml-contrib-notebook==1.0.43.*; extra == \"notebooks\"->azureml-sdk[automl,explain,notebooks]==1.0.43) (7.5.0)\n",
      "Requirement already satisfied: azureml-train-restclients-hyperdrive==1.0.43.* in c:\\users\\yozen\\appdata\\local\\continuum\\anaconda3\\envs\\aml_py365\\lib\\site-packages (from azureml-train-core==1.0.43.*->azureml-train==1.0.43.*->azureml-sdk[automl,explain,notebooks]==1.0.43) (1.0.43)\n",
      "Requirement already satisfied: distro>=1.2.0 in c:\\users\\yozen\\appdata\\local\\continuum\\anaconda3\\envs\\aml_py365\\lib\\site-packages (from dotnetcore2==2.1.8->azureml-dataprep<1.2.0a,>=1.1.3a->azureml-sdk[automl,explain,notebooks]==1.0.43) (1.4.0)\n",
      "Requirement already satisfied: isodate>=0.6.0 in c:\\users\\yozen\\appdata\\local\\continuum\\anaconda3\\envs\\aml_py365\\lib\\site-packages (from msrest>=0.5.1->azureml-core==1.0.43.*->azureml-sdk[automl,explain,notebooks]==1.0.43) (0.6.0)\n",
      "Requirement already satisfied: requests-oauthlib>=0.5.0 in c:\\users\\yozen\\appdata\\local\\continuum\\anaconda3\\envs\\aml_py365\\lib\\site-packages (from msrest>=0.5.1->azureml-core==1.0.43.*->azureml-sdk[automl,explain,notebooks]==1.0.43) (1.2.0)\n",
      "Requirement already satisfied: certifi>=2017.4.17 in c:\\users\\yozen\\appdata\\local\\continuum\\anaconda3\\envs\\aml_py365\\lib\\site-packages (from msrest>=0.5.1->azureml-core==1.0.43.*->azureml-sdk[automl,explain,notebooks]==1.0.43) (2019.3.9)\n",
      "Requirement already satisfied: pyasn1>=0.1.1 in c:\\users\\yozen\\appdata\\local\\continuum\\anaconda3\\envs\\aml_py365\\lib\\site-packages (from ndg-httpsclient->azureml-core==1.0.43.*->azureml-sdk[automl,explain,notebooks]==1.0.43) (0.4.5)\n",
      "Requirement already satisfied: cffi!=1.11.3,>=1.8 in c:\\users\\yozen\\appdata\\local\\continuum\\anaconda3\\envs\\aml_py365\\lib\\site-packages (from cryptography!=1.9,!=2.0.*,!=2.1.*,!=2.2.*->azureml-core==1.0.43.*->azureml-sdk[automl,explain,notebooks]==1.0.43) (1.12.3)\n",
      "Requirement already satisfied: asn1crypto>=0.21.0 in c:\\users\\yozen\\appdata\\local\\continuum\\anaconda3\\envs\\aml_py365\\lib\\site-packages (from cryptography!=1.9,!=2.0.*,!=2.1.*,!=2.2.*->azureml-core==1.0.43.*->azureml-sdk[automl,explain,notebooks]==1.0.43) (0.24.0)\n",
      "Requirement already satisfied: bcrypt>=3.1.3 in c:\\users\\yozen\\appdata\\local\\continuum\\anaconda3\\envs\\aml_py365\\lib\\site-packages (from paramiko>=2.0.8->azureml-core==1.0.43.*->azureml-sdk[automl,explain,notebooks]==1.0.43) (3.1.6)\n",
      "Requirement already satisfied: pynacl>=1.0.1 in c:\\users\\yozen\\appdata\\local\\continuum\\anaconda3\\envs\\aml_py365\\lib\\site-packages (from paramiko>=2.0.8->azureml-core==1.0.43.*->azureml-sdk[automl,explain,notebooks]==1.0.43) (1.3.0)\n",
      "Requirement already satisfied: backports.weakref in c:\\users\\yozen\\appdata\\local\\continuum\\anaconda3\\envs\\aml_py365\\lib\\site-packages (from backports.tempfile->azureml-core==1.0.43.*->azureml-sdk[automl,explain,notebooks]==1.0.43) (1.0.post1)\n",
      "Requirement already satisfied: pypiwin32==223; sys_platform == \"win32\" and python_version >= \"3.6\" in c:\\users\\yozen\\appdata\\local\\continuum\\anaconda3\\envs\\aml_py365\\lib\\site-packages (from docker->azureml-core==1.0.43.*->azureml-sdk[automl,explain,notebooks]==1.0.43) (223)\n",
      "Requirement already satisfied: websocket-client>=0.32.0 in c:\\users\\yozen\\appdata\\local\\continuum\\anaconda3\\envs\\aml_py365\\lib\\site-packages (from docker->azureml-core==1.0.43.*->azureml-sdk[automl,explain,notebooks]==1.0.43) (0.56.0)\n",
      "Requirement already satisfied: idna<2.9,>=2.5 in c:\\users\\yozen\\appdata\\local\\continuum\\anaconda3\\envs\\aml_py365\\lib\\site-packages (from requests>=2.19.1->azureml-core==1.0.43.*->azureml-sdk[automl,explain,notebooks]==1.0.43) (2.8)\n",
      "Requirement already satisfied: chardet<3.1.0,>=3.0.2 in c:\\users\\yozen\\appdata\\local\\continuum\\anaconda3\\envs\\aml_py365\\lib\\site-packages (from requests>=2.19.1->azureml-core==1.0.43.*->azureml-sdk[automl,explain,notebooks]==1.0.43) (3.0.4)\n",
      "Requirement already satisfied: jeepney in c:\\users\\yozen\\appdata\\local\\continuum\\anaconda3\\envs\\aml_py365\\lib\\site-packages (from SecretStorage->azureml-core==1.0.43.*->azureml-sdk[automl,explain,notebooks]==1.0.43) (0.4)\n",
      "Requirement already satisfied: azure-mgmt-nspkg>=2.0.0 in c:\\users\\yozen\\appdata\\local\\continuum\\anaconda3\\envs\\aml_py365\\lib\\site-packages (from azure-mgmt-keyvault>=0.40.0->azureml-core==1.0.43.*->azureml-sdk[automl,explain,notebooks]==1.0.43) (3.0.2)\n",
      "Requirement already satisfied: protobuf in c:\\users\\yozen\\appdata\\local\\continuum\\anaconda3\\envs\\aml_py365\\lib\\site-packages (from skl2onnx==1.4.9; python_version < \"3.7\"->azureml-train-automl==1.0.43.*; extra == \"automl\"->azureml-sdk[automl,explain,notebooks]==1.0.43) (3.8.0)\n",
      "Requirement already satisfied: onnx>=1.2.1 in c:\\users\\yozen\\appdata\\local\\continuum\\anaconda3\\envs\\aml_py365\\lib\\site-packages (from skl2onnx==1.4.9; python_version < \"3.7\"->azureml-train-automl==1.0.43.*; extra == \"automl\"->azureml-sdk[automl,explain,notebooks]==1.0.43) (1.5.0)\n",
      "Requirement already satisfied: JsonSir>=0.0.2 in c:\\users\\yozen\\appdata\\local\\continuum\\anaconda3\\envs\\aml_py365\\lib\\site-packages (from resource>=0.1.8->azureml-train-automl==1.0.43.*; extra == \"automl\"->azureml-sdk[automl,explain,notebooks]==1.0.43) (0.0.2)\n",
      "Requirement already satisfied: python-easyconfig>=0.1.0 in c:\\users\\yozen\\appdata\\local\\continuum\\anaconda3\\envs\\aml_py365\\lib\\site-packages (from resource>=0.1.8->azureml-train-automl==1.0.43.*; extra == \"automl\"->azureml-sdk[automl,explain,notebooks]==1.0.43) (0.1.7)\n",
      "Requirement already satisfied: JsonForm>=0.0.2 in c:\\users\\yozen\\appdata\\local\\continuum\\anaconda3\\envs\\aml_py365\\lib\\site-packages (from resource>=0.1.8->azureml-train-automl==1.0.43.*; extra == \"automl\"->azureml-sdk[automl,explain,notebooks]==1.0.43) (0.0.2)\n",
      "Requirement already satisfied: smart-open>=1.7.0 in c:\\users\\yozen\\appdata\\local\\continuum\\anaconda3\\envs\\aml_py365\\lib\\site-packages (from gensim->azureml-train-automl==1.0.43.*; extra == \"automl\"->azureml-sdk[automl,explain,notebooks]==1.0.43) (1.8.4)\n",
      "Requirement already satisfied: applicationinsights in c:\\users\\yozen\\appdata\\local\\continuum\\anaconda3\\envs\\aml_py365\\lib\\site-packages (from azureml-telemetry==1.0.43.*->azureml-train-automl==1.0.43.*; extra == \"automl\"->azureml-sdk[automl,explain,notebooks]==1.0.43) (0.11.9)\n",
      "Requirement already satisfied: keras2onnx in c:\\users\\yozen\\appdata\\local\\continuum\\anaconda3\\envs\\aml_py365\\lib\\site-packages (from onnxmltools==1.4.1; python_version < \"3.7\"->azureml-train-automl==1.0.43.*; extra == \"automl\"->azureml-sdk[automl,explain,notebooks]==1.0.43) (1.5.0)\n",
      "Requirement already satisfied: matplotlib in c:\\users\\yozen\\appdata\\local\\continuum\\anaconda3\\envs\\aml_py365\\lib\\site-packages (from shap<=0.29.1,>=0.20.0->azureml-explain-model==1.0.43.*; extra == \"explain\"->azureml-sdk[automl,explain,notebooks]==1.0.43) (3.1.0)\n",
      "Requirement already satisfied: tqdm in c:\\users\\yozen\\appdata\\local\\continuum\\anaconda3\\envs\\aml_py365\\lib\\site-packages (from shap<=0.29.1,>=0.20.0->azureml-explain-model==1.0.43.*; extra == \"explain\"->azureml-sdk[automl,explain,notebooks]==1.0.43) (4.32.1)\n",
      "Requirement already satisfied: scikit-image in c:\\users\\yozen\\appdata\\local\\continuum\\anaconda3\\envs\\aml_py365\\lib\\site-packages (from shap<=0.29.1,>=0.20.0->azureml-explain-model==1.0.43.*; extra == \"explain\"->azureml-sdk[automl,explain,notebooks]==1.0.43) (0.15.0)\n",
      "Requirement already satisfied: nbformat>=4.2.0 in c:\\users\\yozen\\appdata\\local\\continuum\\anaconda3\\envs\\aml_py365\\lib\\site-packages (from ipywidgets>=7.0.0->azureml-widgets==1.0.43.*; extra == \"notebooks\"->azureml-sdk[automl,explain,notebooks]==1.0.43) (4.4.0)\n",
      "Requirement already satisfied: widgetsnbextension~=3.4.0 in c:\\users\\yozen\\appdata\\local\\continuum\\anaconda3\\envs\\aml_py365\\lib\\site-packages (from ipywidgets>=7.0.0->azureml-widgets==1.0.43.*; extra == \"notebooks\"->azureml-sdk[automl,explain,notebooks]==1.0.43) (3.4.2)\n",
      "Requirement already satisfied: traitlets>=4.3.1 in c:\\users\\yozen\\appdata\\local\\continuum\\anaconda3\\envs\\aml_py365\\lib\\site-packages (from ipywidgets>=7.0.0->azureml-widgets==1.0.43.*; extra == \"notebooks\"->azureml-sdk[automl,explain,notebooks]==1.0.43) (4.3.2)\n",
      "Requirement already satisfied: tornado>=4.2 in c:\\users\\yozen\\appdata\\local\\continuum\\anaconda3\\envs\\aml_py365\\lib\\site-packages (from ipykernel->azureml-contrib-notebook==1.0.43.*; extra == \"notebooks\"->azureml-sdk[automl,explain,notebooks]==1.0.43) (6.0.2)\n",
      "Requirement already satisfied: jupyter-client in c:\\users\\yozen\\appdata\\local\\continuum\\anaconda3\\envs\\aml_py365\\lib\\site-packages (from ipykernel->azureml-contrib-notebook==1.0.43.*; extra == \"notebooks\"->azureml-sdk[automl,explain,notebooks]==1.0.43) (5.2.4)\n",
      "Requirement already satisfied: nbconvert>=5.5 in c:\\users\\yozen\\appdata\\local\\continuum\\anaconda3\\envs\\aml_py365\\lib\\site-packages (from papermill->azureml-contrib-notebook==1.0.43.*; extra == \"notebooks\"->azureml-sdk[automl,explain,notebooks]==1.0.43) (5.5.0)\n",
      "Requirement already satisfied: tenacity in c:\\users\\yozen\\appdata\\local\\continuum\\anaconda3\\envs\\aml_py365\\lib\\site-packages (from papermill->azureml-contrib-notebook==1.0.43.*; extra == \"notebooks\"->azureml-sdk[automl,explain,notebooks]==1.0.43) (5.0.4)\n",
      "Requirement already satisfied: ansiwrap in c:\\users\\yozen\\appdata\\local\\continuum\\anaconda3\\envs\\aml_py365\\lib\\site-packages (from papermill->azureml-contrib-notebook==1.0.43.*; extra == \"notebooks\"->azureml-sdk[automl,explain,notebooks]==1.0.43) (0.8.4)\n",
      "Requirement already satisfied: click in c:\\users\\yozen\\appdata\\local\\continuum\\anaconda3\\envs\\aml_py365\\lib\\site-packages (from papermill->azureml-contrib-notebook==1.0.43.*; extra == \"notebooks\"->azureml-sdk[automl,explain,notebooks]==1.0.43) (7.0)\n",
      "Requirement already satisfied: pyyaml in c:\\users\\yozen\\appdata\\local\\continuum\\anaconda3\\envs\\aml_py365\\lib\\site-packages (from papermill->azureml-contrib-notebook==1.0.43.*; extra == \"notebooks\"->azureml-sdk[automl,explain,notebooks]==1.0.43) (5.1.1)\n",
      "Requirement already satisfied: future in c:\\users\\yozen\\appdata\\local\\continuum\\anaconda3\\envs\\aml_py365\\lib\\site-packages (from papermill->azureml-contrib-notebook==1.0.43.*; extra == \"notebooks\"->azureml-sdk[automl,explain,notebooks]==1.0.43) (0.17.1)\n",
      "Requirement already satisfied: entrypoints in c:\\users\\yozen\\appdata\\local\\continuum\\anaconda3\\envs\\aml_py365\\lib\\site-packages (from papermill->azureml-contrib-notebook==1.0.43.*; extra == \"notebooks\"->azureml-sdk[automl,explain,notebooks]==1.0.43) (0.3)\n",
      "Requirement already satisfied: decorator in c:\\users\\yozen\\appdata\\local\\continuum\\anaconda3\\envs\\aml_py365\\lib\\site-packages (from ipython->azureml-contrib-notebook==1.0.43.*; extra == \"notebooks\"->azureml-sdk[automl,explain,notebooks]==1.0.43) (4.4.0)\n",
      "Requirement already satisfied: colorama; sys_platform == \"win32\" in c:\\users\\yozen\\appdata\\local\\continuum\\anaconda3\\envs\\aml_py365\\lib\\site-packages (from ipython->azureml-contrib-notebook==1.0.43.*; extra == \"notebooks\"->azureml-sdk[automl,explain,notebooks]==1.0.43) (0.4.1)\n",
      "Requirement already satisfied: pickleshare in c:\\users\\yozen\\appdata\\local\\continuum\\anaconda3\\envs\\aml_py365\\lib\\site-packages (from ipython->azureml-contrib-notebook==1.0.43.*; extra == \"notebooks\"->azureml-sdk[automl,explain,notebooks]==1.0.43) (0.7.5)\n",
      "Requirement already satisfied: prompt-toolkit<2.1.0,>=2.0.0 in c:\\users\\yozen\\appdata\\local\\continuum\\anaconda3\\envs\\aml_py365\\lib\\site-packages (from ipython->azureml-contrib-notebook==1.0.43.*; extra == \"notebooks\"->azureml-sdk[automl,explain,notebooks]==1.0.43) (2.0.9)\n",
      "Requirement already satisfied: setuptools>=18.5 in c:\\users\\yozen\\appdata\\local\\continuum\\anaconda3\\envs\\aml_py365\\lib\\site-packages (from ipython->azureml-contrib-notebook==1.0.43.*; extra == \"notebooks\"->azureml-sdk[automl,explain,notebooks]==1.0.43) (41.0.1)\n",
      "Requirement already satisfied: jedi>=0.10 in c:\\users\\yozen\\appdata\\local\\continuum\\anaconda3\\envs\\aml_py365\\lib\\site-packages (from ipython->azureml-contrib-notebook==1.0.43.*; extra == \"notebooks\"->azureml-sdk[automl,explain,notebooks]==1.0.43) (0.13.3)\n",
      "Requirement already satisfied: pygments in c:\\users\\yozen\\appdata\\local\\continuum\\anaconda3\\envs\\aml_py365\\lib\\site-packages (from ipython->azureml-contrib-notebook==1.0.43.*; extra == \"notebooks\"->azureml-sdk[automl,explain,notebooks]==1.0.43) (2.4.2)\n",
      "Requirement already satisfied: backcall in c:\\users\\yozen\\appdata\\local\\continuum\\anaconda3\\envs\\aml_py365\\lib\\site-packages (from ipython->azureml-contrib-notebook==1.0.43.*; extra == \"notebooks\"->azureml-sdk[automl,explain,notebooks]==1.0.43) (0.1.0)\n",
      "Requirement already satisfied: oauthlib>=3.0.0 in c:\\users\\yozen\\appdata\\local\\continuum\\anaconda3\\envs\\aml_py365\\lib\\site-packages (from requests-oauthlib>=0.5.0->msrest>=0.5.1->azureml-core==1.0.43.*->azureml-sdk[automl,explain,notebooks]==1.0.43) (3.0.1)\n",
      "Requirement already satisfied: pycparser in c:\\users\\yozen\\appdata\\local\\continuum\\anaconda3\\envs\\aml_py365\\lib\\site-packages (from cffi!=1.11.3,>=1.8->cryptography!=1.9,!=2.0.*,!=2.1.*,!=2.2.*->azureml-core==1.0.43.*->azureml-sdk[automl,explain,notebooks]==1.0.43) (2.19)\n",
      "Requirement already satisfied: pywin32>=223 in c:\\users\\yozen\\appdata\\local\\continuum\\anaconda3\\envs\\aml_py365\\lib\\site-packages (from pypiwin32==223; sys_platform == \"win32\" and python_version >= \"3.6\"->docker->azureml-core==1.0.43.*->azureml-sdk[automl,explain,notebooks]==1.0.43) (224)\n",
      "Requirement already satisfied: azure-nspkg>=3.0.0 in c:\\users\\yozen\\appdata\\local\\continuum\\anaconda3\\envs\\aml_py365\\lib\\site-packages (from azure-mgmt-nspkg>=2.0.0->azure-mgmt-keyvault>=0.40.0->azureml-core==1.0.43.*->azureml-sdk[automl,explain,notebooks]==1.0.43) (3.0.2)\n",
      "Requirement already satisfied: typing-extensions>=3.6.2.1 in c:\\users\\yozen\\appdata\\local\\continuum\\anaconda3\\envs\\aml_py365\\lib\\site-packages (from onnx>=1.2.1->skl2onnx==1.4.9; python_version < \"3.7\"->azureml-train-automl==1.0.43.*; extra == \"automl\"->azureml-sdk[automl,explain,notebooks]==1.0.43) (3.7.2)\n",
      "Requirement already satisfied: typing>=3.6.4 in c:\\users\\yozen\\appdata\\local\\continuum\\anaconda3\\envs\\aml_py365\\lib\\site-packages (from onnx>=1.2.1->skl2onnx==1.4.9; python_version < \"3.7\"->azureml-train-automl==1.0.43.*; extra == \"automl\"->azureml-sdk[automl,explain,notebooks]==1.0.43) (3.6.6)\n",
      "Requirement already satisfied: jsonschema in c:\\users\\yozen\\appdata\\local\\continuum\\anaconda3\\envs\\aml_py365\\lib\\site-packages (from JsonForm>=0.0.2->resource>=0.1.8->azureml-train-automl==1.0.43.*; extra == \"automl\"->azureml-sdk[automl,explain,notebooks]==1.0.43) (3.0.1)\n",
      "Requirement already satisfied: boto>=2.32 in c:\\users\\yozen\\appdata\\local\\continuum\\anaconda3\\envs\\aml_py365\\lib\\site-packages (from smart-open>=1.7.0->gensim->azureml-train-automl==1.0.43.*; extra == \"automl\"->azureml-sdk[automl,explain,notebooks]==1.0.43) (2.49.0)\n",
      "Requirement already satisfied: boto3 in c:\\users\\yozen\\appdata\\local\\continuum\\anaconda3\\envs\\aml_py365\\lib\\site-packages (from smart-open>=1.7.0->gensim->azureml-train-automl==1.0.43.*; extra == \"automl\"->azureml-sdk[automl,explain,notebooks]==1.0.43) (1.9.169)\n",
      "Requirement already satisfied: keras in c:\\users\\yozen\\appdata\\local\\continuum\\anaconda3\\envs\\aml_py365\\lib\\site-packages (from keras2onnx->onnxmltools==1.4.1; python_version < \"3.7\"->azureml-train-automl==1.0.43.*; extra == \"automl\"->azureml-sdk[automl,explain,notebooks]==1.0.43) (2.2.4)\n",
      "Requirement already satisfied: pyparsing!=2.0.4,!=2.1.2,!=2.1.6,>=2.0.1 in c:\\users\\yozen\\appdata\\local\\continuum\\anaconda3\\envs\\aml_py365\\lib\\site-packages (from matplotlib->shap<=0.29.1,>=0.20.0->azureml-explain-model==1.0.43.*; extra == \"explain\"->azureml-sdk[automl,explain,notebooks]==1.0.43) (2.4.0)\n",
      "Requirement already satisfied: kiwisolver>=1.0.1 in c:\\users\\yozen\\appdata\\local\\continuum\\anaconda3\\envs\\aml_py365\\lib\\site-packages (from matplotlib->shap<=0.29.1,>=0.20.0->azureml-explain-model==1.0.43.*; extra == \"explain\"->azureml-sdk[automl,explain,notebooks]==1.0.43) (1.1.0)\n",
      "Requirement already satisfied: cycler>=0.10 in c:\\users\\yozen\\appdata\\local\\continuum\\anaconda3\\envs\\aml_py365\\lib\\site-packages (from matplotlib->shap<=0.29.1,>=0.20.0->azureml-explain-model==1.0.43.*; extra == \"explain\"->azureml-sdk[automl,explain,notebooks]==1.0.43) (0.10.0)\n",
      "Requirement already satisfied: PyWavelets>=0.4.0 in c:\\users\\yozen\\appdata\\local\\continuum\\anaconda3\\envs\\aml_py365\\lib\\site-packages (from scikit-image->shap<=0.29.1,>=0.20.0->azureml-explain-model==1.0.43.*; extra == \"explain\"->azureml-sdk[automl,explain,notebooks]==1.0.43) (1.0.3)\n",
      "Requirement already satisfied: pillow>=4.3.0 in c:\\users\\yozen\\appdata\\local\\continuum\\anaconda3\\envs\\aml_py365\\lib\\site-packages (from scikit-image->shap<=0.29.1,>=0.20.0->azureml-explain-model==1.0.43.*; extra == \"explain\"->azureml-sdk[automl,explain,notebooks]==1.0.43) (6.0.0)\n",
      "Requirement already satisfied: imageio>=2.0.1 in c:\\users\\yozen\\appdata\\local\\continuum\\anaconda3\\envs\\aml_py365\\lib\\site-packages (from scikit-image->shap<=0.29.1,>=0.20.0->azureml-explain-model==1.0.43.*; extra == \"explain\"->azureml-sdk[automl,explain,notebooks]==1.0.43) (2.5.0)\n",
      "Requirement already satisfied: networkx>=2.0 in c:\\users\\yozen\\appdata\\local\\continuum\\anaconda3\\envs\\aml_py365\\lib\\site-packages (from scikit-image->shap<=0.29.1,>=0.20.0->azureml-explain-model==1.0.43.*; extra == \"explain\"->azureml-sdk[automl,explain,notebooks]==1.0.43) (2.3)\n",
      "Requirement already satisfied: ipython_genutils in c:\\users\\yozen\\appdata\\local\\continuum\\anaconda3\\envs\\aml_py365\\lib\\site-packages (from nbformat>=4.2.0->ipywidgets>=7.0.0->azureml-widgets==1.0.43.*; extra == \"notebooks\"->azureml-sdk[automl,explain,notebooks]==1.0.43) (0.2.0)\n",
      "Requirement already satisfied: jupyter_core in c:\\users\\yozen\\appdata\\local\\continuum\\anaconda3\\envs\\aml_py365\\lib\\site-packages (from nbformat>=4.2.0->ipywidgets>=7.0.0->azureml-widgets==1.0.43.*; extra == \"notebooks\"->azureml-sdk[automl,explain,notebooks]==1.0.43) (4.4.0)\n",
      "Requirement already satisfied: notebook>=4.4.1 in c:\\users\\yozen\\appdata\\local\\continuum\\anaconda3\\envs\\aml_py365\\lib\\site-packages (from widgetsnbextension~=3.4.0->ipywidgets>=7.0.0->azureml-widgets==1.0.43.*; extra == \"notebooks\"->azureml-sdk[automl,explain,notebooks]==1.0.43) (5.7.8)\n",
      "Requirement already satisfied: pyzmq>=13 in c:\\users\\yozen\\appdata\\local\\continuum\\anaconda3\\envs\\aml_py365\\lib\\site-packages (from jupyter-client->ipykernel->azureml-contrib-notebook==1.0.43.*; extra == \"notebooks\"->azureml-sdk[automl,explain,notebooks]==1.0.43) (18.0.0)\n",
      "Requirement already satisfied: defusedxml in c:\\users\\yozen\\appdata\\local\\continuum\\anaconda3\\envs\\aml_py365\\lib\\site-packages (from nbconvert>=5.5->papermill->azureml-contrib-notebook==1.0.43.*; extra == \"notebooks\"->azureml-sdk[automl,explain,notebooks]==1.0.43) (0.6.0)\n",
      "Requirement already satisfied: pandocfilters>=1.4.1 in c:\\users\\yozen\\appdata\\local\\continuum\\anaconda3\\envs\\aml_py365\\lib\\site-packages (from nbconvert>=5.5->papermill->azureml-contrib-notebook==1.0.43.*; extra == \"notebooks\"->azureml-sdk[automl,explain,notebooks]==1.0.43) (1.4.2)\n",
      "Requirement already satisfied: mistune>=0.8.1 in c:\\users\\yozen\\appdata\\local\\continuum\\anaconda3\\envs\\aml_py365\\lib\\site-packages (from nbconvert>=5.5->papermill->azureml-contrib-notebook==1.0.43.*; extra == \"notebooks\"->azureml-sdk[automl,explain,notebooks]==1.0.43) (0.8.4)\n",
      "Requirement already satisfied: bleach in c:\\users\\yozen\\appdata\\local\\continuum\\anaconda3\\envs\\aml_py365\\lib\\site-packages (from nbconvert>=5.5->papermill->azureml-contrib-notebook==1.0.43.*; extra == \"notebooks\"->azureml-sdk[automl,explain,notebooks]==1.0.43) (3.1.0)\n",
      "Requirement already satisfied: testpath in c:\\users\\yozen\\appdata\\local\\continuum\\anaconda3\\envs\\aml_py365\\lib\\site-packages (from nbconvert>=5.5->papermill->azureml-contrib-notebook==1.0.43.*; extra == \"notebooks\"->azureml-sdk[automl,explain,notebooks]==1.0.43) (0.4.2)\n",
      "Requirement already satisfied: jinja2>=2.4 in c:\\users\\yozen\\appdata\\local\\continuum\\anaconda3\\envs\\aml_py365\\lib\\site-packages (from nbconvert>=5.5->papermill->azureml-contrib-notebook==1.0.43.*; extra == \"notebooks\"->azureml-sdk[automl,explain,notebooks]==1.0.43) (2.10.1)\n",
      "Requirement already satisfied: textwrap3>=0.9.2 in c:\\users\\yozen\\appdata\\local\\continuum\\anaconda3\\envs\\aml_py365\\lib\\site-packages (from ansiwrap->papermill->azureml-contrib-notebook==1.0.43.*; extra == \"notebooks\"->azureml-sdk[automl,explain,notebooks]==1.0.43) (0.9.2)\n",
      "Requirement already satisfied: wcwidth in c:\\users\\yozen\\appdata\\local\\continuum\\anaconda3\\envs\\aml_py365\\lib\\site-packages (from prompt-toolkit<2.1.0,>=2.0.0->ipython->azureml-contrib-notebook==1.0.43.*; extra == \"notebooks\"->azureml-sdk[automl,explain,notebooks]==1.0.43) (0.1.7)\n",
      "Requirement already satisfied: parso>=0.3.0 in c:\\users\\yozen\\appdata\\local\\continuum\\anaconda3\\envs\\aml_py365\\lib\\site-packages (from jedi>=0.10->ipython->azureml-contrib-notebook==1.0.43.*; extra == \"notebooks\"->azureml-sdk[automl,explain,notebooks]==1.0.43) (0.4.0)\n",
      "Requirement already satisfied: attrs>=17.4.0 in c:\\users\\yozen\\appdata\\local\\continuum\\anaconda3\\envs\\aml_py365\\lib\\site-packages (from jsonschema->JsonForm>=0.0.2->resource>=0.1.8->azureml-train-automl==1.0.43.*; extra == \"automl\"->azureml-sdk[automl,explain,notebooks]==1.0.43) (19.1.0)\n",
      "Requirement already satisfied: pyrsistent>=0.14.0 in c:\\users\\yozen\\appdata\\local\\continuum\\anaconda3\\envs\\aml_py365\\lib\\site-packages (from jsonschema->JsonForm>=0.0.2->resource>=0.1.8->azureml-train-automl==1.0.43.*; extra == \"automl\"->azureml-sdk[automl,explain,notebooks]==1.0.43) (0.14.11)\n",
      "Requirement already satisfied: s3transfer<0.3.0,>=0.2.0 in c:\\users\\yozen\\appdata\\local\\continuum\\anaconda3\\envs\\aml_py365\\lib\\site-packages (from boto3->smart-open>=1.7.0->gensim->azureml-train-automl==1.0.43.*; extra == \"automl\"->azureml-sdk[automl,explain,notebooks]==1.0.43) (0.2.1)\n",
      "Requirement already satisfied: botocore<1.13.0,>=1.12.169 in c:\\users\\yozen\\appdata\\local\\continuum\\anaconda3\\envs\\aml_py365\\lib\\site-packages (from boto3->smart-open>=1.7.0->gensim->azureml-train-automl==1.0.43.*; extra == \"automl\"->azureml-sdk[automl,explain,notebooks]==1.0.43) (1.12.169)\n",
      "Requirement already satisfied: keras-applications>=1.0.6 in c:\\users\\yozen\\appdata\\local\\continuum\\anaconda3\\envs\\aml_py365\\lib\\site-packages (from keras->keras2onnx->onnxmltools==1.4.1; python_version < \"3.7\"->azureml-train-automl==1.0.43.*; extra == \"automl\"->azureml-sdk[automl,explain,notebooks]==1.0.43) (1.0.8)\n",
      "Requirement already satisfied: h5py in c:\\users\\yozen\\appdata\\local\\continuum\\anaconda3\\envs\\aml_py365\\lib\\site-packages (from keras->keras2onnx->onnxmltools==1.4.1; python_version < \"3.7\"->azureml-train-automl==1.0.43.*; extra == \"automl\"->azureml-sdk[automl,explain,notebooks]==1.0.43) (2.9.0)\n",
      "Requirement already satisfied: keras-preprocessing>=1.0.5 in c:\\users\\yozen\\appdata\\local\\continuum\\anaconda3\\envs\\aml_py365\\lib\\site-packages (from keras->keras2onnx->onnxmltools==1.4.1; python_version < \"3.7\"->azureml-train-automl==1.0.43.*; extra == \"automl\"->azureml-sdk[automl,explain,notebooks]==1.0.43) (1.1.0)\n",
      "Requirement already satisfied: prometheus-client in c:\\users\\yozen\\appdata\\local\\continuum\\anaconda3\\envs\\aml_py365\\lib\\site-packages (from notebook>=4.4.1->widgetsnbextension~=3.4.0->ipywidgets>=7.0.0->azureml-widgets==1.0.43.*; extra == \"notebooks\"->azureml-sdk[automl,explain,notebooks]==1.0.43) (0.6.0)\n",
      "Requirement already satisfied: terminado>=0.8.1 in c:\\users\\yozen\\appdata\\local\\continuum\\anaconda3\\envs\\aml_py365\\lib\\site-packages (from notebook>=4.4.1->widgetsnbextension~=3.4.0->ipywidgets>=7.0.0->azureml-widgets==1.0.43.*; extra == \"notebooks\"->azureml-sdk[automl,explain,notebooks]==1.0.43) (0.8.2)\n",
      "Requirement already satisfied: Send2Trash in c:\\users\\yozen\\appdata\\local\\continuum\\anaconda3\\envs\\aml_py365\\lib\\site-packages (from notebook>=4.4.1->widgetsnbextension~=3.4.0->ipywidgets>=7.0.0->azureml-widgets==1.0.43.*; extra == \"notebooks\"->azureml-sdk[automl,explain,notebooks]==1.0.43) (1.5.0)\n",
      "Requirement already satisfied: webencodings in c:\\users\\yozen\\appdata\\local\\continuum\\anaconda3\\envs\\aml_py365\\lib\\site-packages (from bleach->nbconvert>=5.5->papermill->azureml-contrib-notebook==1.0.43.*; extra == \"notebooks\"->azureml-sdk[automl,explain,notebooks]==1.0.43) (0.5.1)\n",
      "Requirement already satisfied: MarkupSafe>=0.23 in c:\\users\\yozen\\appdata\\local\\continuum\\anaconda3\\envs\\aml_py365\\lib\\site-packages (from jinja2>=2.4->nbconvert>=5.5->papermill->azureml-contrib-notebook==1.0.43.*; extra == \"notebooks\"->azureml-sdk[automl,explain,notebooks]==1.0.43) (1.1.1)\n",
      "Requirement already satisfied: docutils>=0.10 in c:\\users\\yozen\\appdata\\local\\continuum\\anaconda3\\envs\\aml_py365\\lib\\site-packages (from botocore<1.13.0,>=1.12.169->boto3->smart-open>=1.7.0->gensim->azureml-train-automl==1.0.43.*; extra == \"automl\"->azureml-sdk[automl,explain,notebooks]==1.0.43) (0.14)\n"
     ]
    }
   ],
   "source": [
    "! pip install azureml-sdk[automl,explain,notebooks]==1.0.43"
   ]
  },
  {
   "cell_type": "markdown",
   "metadata": {},
   "source": [
    "## 2. Load workspace from conf.json"
   ]
  },
  {
   "cell_type": "code",
   "execution_count": 3,
   "metadata": {},
   "outputs": [],
   "source": [
    "import azureml.core\n",
    "import pandas as pd\n",
    "import numpy as np\n",
    "import logging\n",
    "import warnings\n",
    "# Squash warning messages for cleaner output in the notebook\n",
    "warnings.showwarning = lambda *args, **kwargs: None\n",
    "\n",
    "\n",
    "from azureml.core.workspace import Workspace\n",
    "from azureml.core.experiment import Experiment\n",
    "from azureml.train.automl import AutoMLConfig\n"
   ]
  },
  {
   "cell_type": "code",
   "execution_count": 5,
   "metadata": {},
   "outputs": [
    {
     "ename": "UserErrorException",
     "evalue": "We could not find config.json in: D:\\Dev\\AutoML-AIConf-2019-BJ or in its parent directories. Please provide the full path to the config file or ensure that config.json exists in the parent directories.",
     "output_type": "error",
     "traceback": [
      "\u001b[1;31m---------------------------------------------------------------------------\u001b[0m",
      "\u001b[1;31mUserErrorException\u001b[0m                        Traceback (most recent call last)",
      "\u001b[1;32m<ipython-input-5-5da37036bcb9>\u001b[0m in \u001b[0;36m<module>\u001b[1;34m\u001b[0m\n\u001b[1;32m----> 1\u001b[1;33m \u001b[0mws\u001b[0m \u001b[1;33m=\u001b[0m \u001b[0mWorkspace\u001b[0m\u001b[1;33m.\u001b[0m\u001b[0mfrom_config\u001b[0m\u001b[1;33m(\u001b[0m\u001b[1;33m)\u001b[0m\u001b[1;33m\u001b[0m\u001b[0m\n\u001b[0m\u001b[0;32m      2\u001b[0m \u001b[1;33m\u001b[0m\u001b[0m\n\u001b[0;32m      3\u001b[0m \u001b[1;33m\u001b[0m\u001b[0m\n\u001b[0;32m      4\u001b[0m \u001b[1;33m\u001b[0m\u001b[0m\n\u001b[0;32m      5\u001b[0m \u001b[0moutput\u001b[0m \u001b[1;33m=\u001b[0m \u001b[1;33m{\u001b[0m\u001b[1;33m}\u001b[0m\u001b[1;33m\u001b[0m\u001b[0m\n",
      "\u001b[1;32m~\\AppData\\Local\\Continuum\\anaconda3\\envs\\aml_py365\\lib\\site-packages\\azureml\\core\\workspace.py\u001b[0m in \u001b[0;36mfrom_config\u001b[1;34m(path, auth, _logger, _file_name)\u001b[0m\n\u001b[0;32m    167\u001b[0m                 raise UserErrorException('We could not find config.json in: {} or in its parent directories. '\n\u001b[0;32m    168\u001b[0m                                          \u001b[1;34m'Please provide the full path to the config file or ensure that '\u001b[0m\u001b[1;33m\u001b[0m\u001b[0m\n\u001b[1;32m--> 169\u001b[1;33m                                          'config.json exists in the parent directories.'.format(normalized_path))\n\u001b[0m\u001b[0;32m    170\u001b[0m \u001b[1;33m\u001b[0m\u001b[0m\n\u001b[0;32m    171\u001b[0m         \u001b[0msubscription_id\u001b[0m\u001b[1;33m,\u001b[0m \u001b[0mresource_group\u001b[0m\u001b[1;33m,\u001b[0m \u001b[0mworkspace_name\u001b[0m \u001b[1;33m=\u001b[0m \u001b[0mproject_info\u001b[0m\u001b[1;33m.\u001b[0m\u001b[0mget_workspace_info\u001b[0m\u001b[1;33m(\u001b[0m\u001b[0mfound_path\u001b[0m\u001b[1;33m)\u001b[0m\u001b[1;33m\u001b[0m\u001b[0m\n",
      "\u001b[1;31mUserErrorException\u001b[0m: We could not find config.json in: D:\\Dev\\AutoML-AIConf-2019-BJ or in its parent directories. Please provide the full path to the config file or ensure that config.json exists in the parent directories."
     ]
    }
   ],
   "source": [
    "ws = Workspace.from_config()\n",
    "\n",
    "\n",
    "\n",
    "output = {}\n",
    "output['SDK version'] = azureml.core.VERSION\n",
    "output['Subscription ID'] = ws.subscription_id\n",
    "output['Workspace'] = ws.name\n",
    "output['Resource Group'] = ws.resource_group\n",
    "output['Location'] = ws.location\n",
    "pd.set_option('display.max_colwidth', -1)\n",
    "outputDf = pd.DataFrame(data = output, index = [''])\n",
    "outputDf.T"
   ]
  },
  {
   "cell_type": "markdown",
   "metadata": {},
   "source": [
    "## 3. Print the exiting compute in the workspace"
   ]
  },
  {
   "cell_type": "code",
   "execution_count": 2,
   "metadata": {},
   "outputs": [
    {
     "ename": "NameError",
     "evalue": "name 'ws' is not defined",
     "output_type": "error",
     "traceback": [
      "\u001b[1;31m---------------------------------------------------------------------------\u001b[0m",
      "\u001b[1;31mNameError\u001b[0m                                 Traceback (most recent call last)",
      "\u001b[1;32m<ipython-input-2-2084bfc4bed0>\u001b[0m in \u001b[0;36m<module>\u001b[1;34m\u001b[0m\n\u001b[0;32m      6\u001b[0m \u001b[1;33m\u001b[0m\u001b[0m\n\u001b[0;32m      7\u001b[0m \u001b[0mcompute_target_name\u001b[0m\u001b[1;33m=\u001b[0m\u001b[1;34m'cpucluster'\u001b[0m\u001b[1;33m\u001b[0m\u001b[0m\n\u001b[1;32m----> 8\u001b[1;33m \u001b[0mcompute\u001b[0m \u001b[1;33m=\u001b[0m \u001b[0mws\u001b[0m\u001b[1;33m.\u001b[0m\u001b[0mcompute_targets\u001b[0m\u001b[1;33m\u001b[0m\u001b[0m\n\u001b[0m\u001b[0;32m      9\u001b[0m \u001b[0mcompute_target\u001b[0m\u001b[1;33m=\u001b[0m\u001b[0mcompute\u001b[0m\u001b[1;33m[\u001b[0m\u001b[0mcompute_target_name\u001b[0m\u001b[1;33m]\u001b[0m\u001b[1;33m\u001b[0m\u001b[0m\n\u001b[0;32m     10\u001b[0m \u001b[0mprint\u001b[0m\u001b[1;33m(\u001b[0m\u001b[0mcompute_target\u001b[0m\u001b[1;33m.\u001b[0m\u001b[0mserialize\u001b[0m\u001b[1;33m(\u001b[0m\u001b[1;33m)\u001b[0m\u001b[1;33m)\u001b[0m\u001b[1;33m\u001b[0m\u001b[0m\n",
      "\u001b[1;31mNameError\u001b[0m: name 'ws' is not defined"
     ]
    }
   ],
   "source": [
    "from azureml.core.compute import AmlCompute\n",
    "from azureml.core.compute import ComputeTarget\n",
    "import os\n",
    "\n",
    "\n",
    "\n",
    "compute_target_name='cpucluster'\n",
    "compute = ws.compute_targets\n",
    "compute_target=compute[compute_target_name]\n",
    "print(compute_target.serialize())"
   ]
  },
  {
   "cell_type": "markdown",
   "metadata": {},
   "source": [
    "## 4. Upload data to blob storage for later on experiments"
   ]
  },
  {
   "cell_type": "code",
   "execution_count": 5,
   "metadata": {},
   "outputs": [
    {
     "name": "stdout",
     "output_type": "stream",
     "text": [
      "Uploading ./data/nyc_energy.csv\n",
      "Uploaded ./data/nyc_energy.csv, 1 files out of an estimated total of 1\n"
     ]
    }
   ],
   "source": [
    "ds = ws.get_default_datastore()\n",
    "ds.upload_files(['./data/nyc_energy.csv'], target_path='exp_data', overwrite=True, show_progress=True)\n",
    "\n",
    "from azureml.core.runconfig import DataReferenceConfiguration\n",
    "dr = DataReferenceConfiguration(datastore_name=ds.name, \n",
    "                   path_on_datastore='exp_data', \n",
    "                   path_on_compute='/tmp/azureml_runs',\n",
    "                   mode='download', # download files from datastore to compute target\n",
    "                   overwrite=False)"
   ]
  },
  {
   "cell_type": "code",
   "execution_count": null,
   "metadata": {},
   "outputs": [],
   "source": []
  }
 ],
 "metadata": {
  "kernelspec": {
   "display_name": "azureml-3.6.5",
   "language": "python",
   "name": "python3"
  },
  "language_info": {
   "codemirror_mode": {
    "name": "ipython",
    "version": 3
   },
   "file_extension": ".py",
   "mimetype": "text/x-python",
   "name": "python",
   "nbconvert_exporter": "python",
   "pygments_lexer": "ipython3",
   "version": "3.6.5"
  }
 },
 "nbformat": 4,
 "nbformat_minor": 2
}
