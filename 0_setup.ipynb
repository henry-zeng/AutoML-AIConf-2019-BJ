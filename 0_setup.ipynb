{
 "cells": [
  {
   "cell_type": "markdown",
   "metadata": {},
   "source": [
    "## 1. Install necessary packages"
   ]
  },
  {
   "cell_type": "code",
   "execution_count": 2,
   "metadata": {},
   "outputs": [
    {
     "name": "stdout",
     "output_type": "stream",
     "text": [
      "Requirement already satisfied: azureml-sdk[automl,explain]==1.0.43 in /home/wuh/anaconda3/envs/azure_automl/lib/python3.6/site-packages (1.0.43)\n",
      "Requirement already satisfied: matplotlib in /home/wuh/anaconda3/envs/azure_automl/lib/python3.6/site-packages (2.1.0)\n",
      "Requirement already satisfied: onnx in /home/wuh/anaconda3/envs/azure_automl/lib/python3.6/site-packages (1.5.0)\n",
      "Requirement already satisfied: opencv-python in /home/wuh/anaconda3/envs/azure_automl/lib/python3.6/site-packages (4.1.0.25)\n",
      "Requirement already satisfied: azureml-dataprep<1.2.0a,>=1.1.3a in /home/wuh/anaconda3/envs/azure_automl/lib/python3.6/site-packages (from azureml-sdk[automl,explain]==1.0.43) (1.1.5)\n",
      "Requirement already satisfied: azureml-core==1.0.43.* in /home/wuh/anaconda3/envs/azure_automl/lib/python3.6/site-packages (from azureml-sdk[automl,explain]==1.0.43) (1.0.43)\n",
      "Requirement already satisfied: azureml-train==1.0.43.* in /home/wuh/anaconda3/envs/azure_automl/lib/python3.6/site-packages (from azureml-sdk[automl,explain]==1.0.43) (1.0.43)\n",
      "Requirement already satisfied: azureml-pipeline==1.0.43.* in /home/wuh/anaconda3/envs/azure_automl/lib/python3.6/site-packages (from azureml-sdk[automl,explain]==1.0.43) (1.0.43)\n",
      "Requirement already satisfied: azureml-train-automl==1.0.43.*; extra == \"automl\" in /home/wuh/anaconda3/envs/azure_automl/lib/python3.6/site-packages (from azureml-sdk[automl,explain]==1.0.43) (1.0.43)\n",
      "Requirement already satisfied: azureml-explain-model==1.0.43.*; extra == \"explain\" in /home/wuh/anaconda3/envs/azure_automl/lib/python3.6/site-packages (from azureml-sdk[automl,explain]==1.0.43) (1.0.43)\n",
      "Requirement already satisfied: numpy>=1.7.1 in /home/wuh/anaconda3/envs/azure_automl/lib/python3.6/site-packages (from matplotlib) (1.16.2)\n",
      "Requirement already satisfied: six>=1.10 in /home/wuh/anaconda3/envs/azure_automl/lib/python3.6/site-packages (from matplotlib) (1.12.0)\n",
      "Requirement already satisfied: python-dateutil>=2.0 in /home/wuh/anaconda3/envs/azure_automl/lib/python3.6/site-packages (from matplotlib) (2.8.0)\n",
      "Requirement already satisfied: pytz in /home/wuh/anaconda3/envs/azure_automl/lib/python3.6/site-packages (from matplotlib) (2019.1)\n",
      "Requirement already satisfied: cycler>=0.10 in /home/wuh/anaconda3/envs/azure_automl/lib/python3.6/site-packages (from matplotlib) (0.10.0)\n",
      "Requirement already satisfied: pyparsing!=2.0.4,!=2.1.2,!=2.1.6,>=2.0.1 in /home/wuh/anaconda3/envs/azure_automl/lib/python3.6/site-packages (from matplotlib) (2.4.0)\n",
      "Requirement already satisfied: protobuf in /home/wuh/anaconda3/envs/azure_automl/lib/python3.6/site-packages (from onnx) (3.8.0)\n",
      "Requirement already satisfied: typing>=3.6.4 in /home/wuh/anaconda3/envs/azure_automl/lib/python3.6/site-packages (from onnx) (3.6.6)\n",
      "Requirement already satisfied: typing-extensions>=3.6.2.1 in /home/wuh/anaconda3/envs/azure_automl/lib/python3.6/site-packages (from onnx) (3.7.2)\n",
      "Requirement already satisfied: dotnetcore2==2.1.8 in /home/wuh/anaconda3/envs/azure_automl/lib/python3.6/site-packages (from azureml-dataprep<1.2.0a,>=1.1.3a->azureml-sdk[automl,explain]==1.0.43) (2.1.8)\n",
      "Requirement already satisfied: azureml-dataprep-native<14.0.0,>=13.0.0 in /home/wuh/anaconda3/envs/azure_automl/lib/python3.6/site-packages (from azureml-dataprep<1.2.0a,>=1.1.3a->azureml-sdk[automl,explain]==1.0.43) (13.0.0)\n",
      "Requirement already satisfied: contextlib2 in /home/wuh/anaconda3/envs/azure_automl/lib/python3.6/site-packages (from azureml-core==1.0.43.*->azureml-sdk[automl,explain]==1.0.43) (0.5.5)\n",
      "Requirement already satisfied: jsonpickle in /home/wuh/anaconda3/envs/azure_automl/lib/python3.6/site-packages (from azureml-core==1.0.43.*->azureml-sdk[automl,explain]==1.0.43) (1.2)\n",
      "Requirement already satisfied: ndg-httpsclient in /home/wuh/anaconda3/envs/azure_automl/lib/python3.6/site-packages (from azureml-core==1.0.43.*->azureml-sdk[automl,explain]==1.0.43) (0.5.1)\n",
      "Requirement already satisfied: SecretStorage in /home/wuh/anaconda3/envs/azure_automl/lib/python3.6/site-packages (from azureml-core==1.0.43.*->azureml-sdk[automl,explain]==1.0.43) (3.1.1)\n",
      "Requirement already satisfied: pathspec in /home/wuh/anaconda3/envs/azure_automl/lib/python3.6/site-packages (from azureml-core==1.0.43.*->azureml-sdk[automl,explain]==1.0.43) (0.5.9)\n",
      "Requirement already satisfied: urllib3>=1.23 in /home/wuh/anaconda3/envs/azure_automl/lib/python3.6/site-packages (from azureml-core==1.0.43.*->azureml-sdk[automl,explain]==1.0.43) (1.23)\n",
      "Requirement already satisfied: PyJWT in /home/wuh/anaconda3/envs/azure_automl/lib/python3.6/site-packages (from azureml-core==1.0.43.*->azureml-sdk[automl,explain]==1.0.43) (1.7.1)\n",
      "Requirement already satisfied: azure-mgmt-containerregistry>=2.0.0 in /home/wuh/anaconda3/envs/azure_automl/lib/python3.6/site-packages (from azureml-core==1.0.43.*->azureml-sdk[automl,explain]==1.0.43) (2.8.0)\n",
      "Requirement already satisfied: azure-mgmt-resource>=1.2.1 in /home/wuh/anaconda3/envs/azure_automl/lib/python3.6/site-packages (from azureml-core==1.0.43.*->azureml-sdk[automl,explain]==1.0.43) (3.0.0)\n",
      "Requirement already satisfied: adal>=1.2.0 in /home/wuh/anaconda3/envs/azure_automl/lib/python3.6/site-packages (from azureml-core==1.0.43.*->azureml-sdk[automl,explain]==1.0.43) (1.2.1)\n",
      "Requirement already satisfied: azure-mgmt-keyvault>=0.40.0 in /home/wuh/anaconda3/envs/azure_automl/lib/python3.6/site-packages (from azureml-core==1.0.43.*->azureml-sdk[automl,explain]==1.0.43) (1.1.0)\n",
      "Requirement already satisfied: msrestazure>=0.4.33 in /home/wuh/anaconda3/envs/azure_automl/lib/python3.6/site-packages (from azureml-core==1.0.43.*->azureml-sdk[automl,explain]==1.0.43) (0.6.1)\n",
      "Requirement already satisfied: ruamel.yaml<=0.15.89,>=0.15.35 in /home/wuh/anaconda3/envs/azure_automl/lib/python3.6/site-packages (from azureml-core==1.0.43.*->azureml-sdk[automl,explain]==1.0.43) (0.15.89)\n",
      "Requirement already satisfied: azure-mgmt-authorization>=0.40.0 in /home/wuh/anaconda3/envs/azure_automl/lib/python3.6/site-packages (from azureml-core==1.0.43.*->azureml-sdk[automl,explain]==1.0.43) (0.52.0)\n",
      "Requirement already satisfied: docker in /home/wuh/anaconda3/envs/azure_automl/lib/python3.6/site-packages (from azureml-core==1.0.43.*->azureml-sdk[automl,explain]==1.0.43) (4.0.1)\n",
      "Requirement already satisfied: paramiko>=2.0.8 in /home/wuh/anaconda3/envs/azure_automl/lib/python3.6/site-packages (from azureml-core==1.0.43.*->azureml-sdk[automl,explain]==1.0.43) (2.5.0)\n",
      "Requirement already satisfied: requests>=2.19.1 in /home/wuh/anaconda3/envs/azure_automl/lib/python3.6/site-packages (from azureml-core==1.0.43.*->azureml-sdk[automl,explain]==1.0.43) (2.22.0)\n",
      "Requirement already satisfied: jmespath in /home/wuh/anaconda3/envs/azure_automl/lib/python3.6/site-packages (from azureml-core==1.0.43.*->azureml-sdk[automl,explain]==1.0.43) (0.9.4)\n",
      "Requirement already satisfied: msrest>=0.5.1 in /home/wuh/anaconda3/envs/azure_automl/lib/python3.6/site-packages (from azureml-core==1.0.43.*->azureml-sdk[automl,explain]==1.0.43) (0.6.7)\n",
      "Requirement already satisfied: cryptography!=1.9,!=2.0.*,!=2.1.*,!=2.2.* in /home/wuh/anaconda3/envs/azure_automl/lib/python3.6/site-packages (from azureml-core==1.0.43.*->azureml-sdk[automl,explain]==1.0.43) (2.7)\n",
      "Requirement already satisfied: azure-mgmt-storage>=1.5.0 in /home/wuh/anaconda3/envs/azure_automl/lib/python3.6/site-packages (from azureml-core==1.0.43.*->azureml-sdk[automl,explain]==1.0.43) (4.0.0)\n",
      "Requirement already satisfied: pyopenssl in /home/wuh/anaconda3/envs/azure_automl/lib/python3.6/site-packages (from azureml-core==1.0.43.*->azureml-sdk[automl,explain]==1.0.43) (19.0.0)\n",
      "Requirement already satisfied: backports.tempfile in /home/wuh/anaconda3/envs/azure_automl/lib/python3.6/site-packages (from azureml-core==1.0.43.*->azureml-sdk[automl,explain]==1.0.43) (1.0)\n",
      "Requirement already satisfied: azure-graphrbac>=0.40.0 in /home/wuh/anaconda3/envs/azure_automl/lib/python3.6/site-packages (from azureml-core==1.0.43.*->azureml-sdk[automl,explain]==1.0.43) (0.61.1)\n",
      "Requirement already satisfied: azure-common>=1.1.12 in /home/wuh/anaconda3/envs/azure_automl/lib/python3.6/site-packages (from azureml-core==1.0.43.*->azureml-sdk[automl,explain]==1.0.43) (1.1.22)\n",
      "Requirement already satisfied: azureml-train-core==1.0.43.* in /home/wuh/anaconda3/envs/azure_automl/lib/python3.6/site-packages (from azureml-train==1.0.43.*->azureml-sdk[automl,explain]==1.0.43) (1.0.43)\n",
      "Requirement already satisfied: azureml-pipeline-core==1.0.43.* in /home/wuh/anaconda3/envs/azure_automl/lib/python3.6/site-packages (from azureml-pipeline==1.0.43.*->azureml-sdk[automl,explain]==1.0.43) (1.0.43)\n",
      "Requirement already satisfied: azureml-pipeline-steps==1.0.43.* in /home/wuh/anaconda3/envs/azure_automl/lib/python3.6/site-packages (from azureml-pipeline==1.0.43.*->azureml-sdk[automl,explain]==1.0.43) (1.0.43)\n",
      "Requirement already satisfied: pandas<=0.23.4,>=0.21.0 in /home/wuh/anaconda3/envs/azure_automl/lib/python3.6/site-packages (from azureml-train-automl==1.0.43.*; extra == \"automl\"->azureml-sdk[automl,explain]==1.0.43) (0.23.4)\n",
      "Requirement already satisfied: statsmodels>=0.9.0 in /home/wuh/anaconda3/envs/azure_automl/lib/python3.6/site-packages (from azureml-train-automl==1.0.43.*; extra == \"automl\"->azureml-sdk[automl,explain]==1.0.43) (0.9.0)\n"
     ]
    },
    {
     "name": "stdout",
     "output_type": "stream",
     "text": [
      "Requirement already satisfied: scikit-learn<=0.20.3,>=0.19.0 in /home/wuh/anaconda3/envs/azure_automl/lib/python3.6/site-packages (from azureml-train-automl==1.0.43.*; extra == \"automl\"->azureml-sdk[automl,explain]==1.0.43) (0.20.3)\n",
      "Requirement already satisfied: lightgbm<=2.2.1,>=2.0.11 in /home/wuh/anaconda3/envs/azure_automl/lib/python3.6/site-packages (from azureml-train-automl==1.0.43.*; extra == \"automl\"->azureml-sdk[automl,explain]==1.0.43) (2.2.1)\n",
      "Requirement already satisfied: wheel==0.30.0 in /home/wuh/anaconda3/envs/azure_automl/lib/python3.6/site-packages (from azureml-train-automl==1.0.43.*; extra == \"automl\"->azureml-sdk[automl,explain]==1.0.43) (0.30.0)\n",
      "Requirement already satisfied: azureml-telemetry==1.0.43.* in /home/wuh/anaconda3/envs/azure_automl/lib/python3.6/site-packages (from azureml-train-automl==1.0.43.*; extra == \"automl\"->azureml-sdk[automl,explain]==1.0.43) (1.0.43)\n",
      "Requirement already satisfied: gensim in /home/wuh/anaconda3/envs/azure_automl/lib/python3.6/site-packages (from azureml-train-automl==1.0.43.*; extra == \"automl\"->azureml-sdk[automl,explain]==1.0.43) (3.7.3)\n",
      "Requirement already satisfied: scipy<=1.1.0,>=1.0.0 in /home/wuh/anaconda3/envs/azure_automl/lib/python3.6/site-packages (from azureml-train-automl==1.0.43.*; extra == \"automl\"->azureml-sdk[automl,explain]==1.0.43) (1.1.0)\n",
      "Requirement already satisfied: sklearn-pandas<=1.7.0,>=1.4.0 in /home/wuh/anaconda3/envs/azure_automl/lib/python3.6/site-packages (from azureml-train-automl==1.0.43.*; extra == \"automl\"->azureml-sdk[automl,explain]==1.0.43) (1.7.0)\n",
      "Requirement already satisfied: onnxmltools==1.4.1; python_version < \"3.7\" in /home/wuh/anaconda3/envs/azure_automl/lib/python3.6/site-packages (from azureml-train-automl==1.0.43.*; extra == \"automl\"->azureml-sdk[automl,explain]==1.0.43) (1.4.1)\n",
      "Requirement already satisfied: dill>=0.2.8 in /home/wuh/anaconda3/envs/azure_automl/lib/python3.6/site-packages (from azureml-train-automl==1.0.43.*; extra == \"automl\"->azureml-sdk[automl,explain]==1.0.43) (0.2.9)\n",
      "Requirement already satisfied: nimbusml==0.6.5; python_version < \"3.7\" in /home/wuh/anaconda3/envs/azure_automl/lib/python3.6/site-packages (from azureml-train-automl==1.0.43.*; extra == \"automl\"->azureml-sdk[automl,explain]==1.0.43) (0.6.5)\n",
      "Requirement already satisfied: resource>=0.1.8 in /home/wuh/anaconda3/envs/azure_automl/lib/python3.6/site-packages (from azureml-train-automl==1.0.43.*; extra == \"automl\"->azureml-sdk[automl,explain]==1.0.43) (0.2.1)\n",
      "Requirement already satisfied: azureml-automl-core==1.0.43.* in /home/wuh/anaconda3/envs/azure_automl/lib/python3.6/site-packages (from azureml-train-automl==1.0.43.*; extra == \"automl\"->azureml-sdk[automl,explain]==1.0.43) (1.0.43)\n",
      "Requirement already satisfied: patsy>=0.5.1 in /home/wuh/anaconda3/envs/azure_automl/lib/python3.6/site-packages (from azureml-train-automl==1.0.43.*; extra == \"automl\"->azureml-sdk[automl,explain]==1.0.43) (0.5.1)\n",
      "Requirement already satisfied: skl2onnx==1.4.9; python_version < \"3.7\" in /home/wuh/anaconda3/envs/azure_automl/lib/python3.6/site-packages (from azureml-train-automl==1.0.43.*; extra == \"automl\"->azureml-sdk[automl,explain]==1.0.43) (1.4.9)\n",
      "Requirement already satisfied: onnxconverter-common==1.4.2; python_version < \"3.7\" in /home/wuh/anaconda3/envs/azure_automl/lib/python3.6/site-packages (from azureml-train-automl==1.0.43.*; extra == \"automl\"->azureml-sdk[automl,explain]==1.0.43) (1.4.2)\n",
      "Requirement already satisfied: shap<=0.29.1,>=0.20.0 in /home/wuh/anaconda3/envs/azure_automl/lib/python3.6/site-packages (from azureml-explain-model==1.0.43.*; extra == \"explain\"->azureml-sdk[automl,explain]==1.0.43) (0.29.1)\n",
      "Requirement already satisfied: setuptools in /home/wuh/anaconda3/envs/azure_automl/lib/python3.6/site-packages (from protobuf->onnx) (41.0.1)\n",
      "Requirement already satisfied: distro>=1.2.0 in /home/wuh/anaconda3/envs/azure_automl/lib/python3.6/site-packages (from dotnetcore2==2.1.8->azureml-dataprep<1.2.0a,>=1.1.3a->azureml-sdk[automl,explain]==1.0.43) (1.4.0)\n",
      "Requirement already satisfied: pyasn1>=0.1.1 in /home/wuh/anaconda3/envs/azure_automl/lib/python3.6/site-packages (from ndg-httpsclient->azureml-core==1.0.43.*->azureml-sdk[automl,explain]==1.0.43) (0.4.5)\n",
      "Requirement already satisfied: jeepney in /home/wuh/anaconda3/envs/azure_automl/lib/python3.6/site-packages (from SecretStorage->azureml-core==1.0.43.*->azureml-sdk[automl,explain]==1.0.43) (0.4)\n",
      "Requirement already satisfied: azure-mgmt-nspkg>=2.0.0 in /home/wuh/anaconda3/envs/azure_automl/lib/python3.6/site-packages (from azure-mgmt-keyvault>=0.40.0->azureml-core==1.0.43.*->azureml-sdk[automl,explain]==1.0.43) (3.0.2)\n",
      "Requirement already satisfied: websocket-client>=0.32.0 in /home/wuh/anaconda3/envs/azure_automl/lib/python3.6/site-packages (from docker->azureml-core==1.0.43.*->azureml-sdk[automl,explain]==1.0.43) (0.56.0)\n",
      "Requirement already satisfied: bcrypt>=3.1.3 in /home/wuh/anaconda3/envs/azure_automl/lib/python3.6/site-packages (from paramiko>=2.0.8->azureml-core==1.0.43.*->azureml-sdk[automl,explain]==1.0.43) (3.1.6)\n",
      "Requirement already satisfied: pynacl>=1.0.1 in /home/wuh/anaconda3/envs/azure_automl/lib/python3.6/site-packages (from paramiko>=2.0.8->azureml-core==1.0.43.*->azureml-sdk[automl,explain]==1.0.43) (1.3.0)\n",
      "Requirement already satisfied: certifi>=2017.4.17 in /home/wuh/anaconda3/envs/azure_automl/lib/python3.6/site-packages (from requests>=2.19.1->azureml-core==1.0.43.*->azureml-sdk[automl,explain]==1.0.43) (2019.3.9)\n",
      "Requirement already satisfied: idna<2.9,>=2.5 in /home/wuh/anaconda3/envs/azure_automl/lib/python3.6/site-packages (from requests>=2.19.1->azureml-core==1.0.43.*->azureml-sdk[automl,explain]==1.0.43) (2.8)\n",
      "Requirement already satisfied: chardet<3.1.0,>=3.0.2 in /home/wuh/anaconda3/envs/azure_automl/lib/python3.6/site-packages (from requests>=2.19.1->azureml-core==1.0.43.*->azureml-sdk[automl,explain]==1.0.43) (3.0.4)\n",
      "Requirement already satisfied: requests-oauthlib>=0.5.0 in /home/wuh/anaconda3/envs/azure_automl/lib/python3.6/site-packages (from msrest>=0.5.1->azureml-core==1.0.43.*->azureml-sdk[automl,explain]==1.0.43) (1.2.0)\n",
      "Requirement already satisfied: isodate>=0.6.0 in /home/wuh/anaconda3/envs/azure_automl/lib/python3.6/site-packages (from msrest>=0.5.1->azureml-core==1.0.43.*->azureml-sdk[automl,explain]==1.0.43) (0.6.0)\n",
      "Requirement already satisfied: cffi!=1.11.3,>=1.8 in /home/wuh/anaconda3/envs/azure_automl/lib/python3.6/site-packages (from cryptography!=1.9,!=2.0.*,!=2.1.*,!=2.2.*->azureml-core==1.0.43.*->azureml-sdk[automl,explain]==1.0.43) (1.12.3)\n",
      "Requirement already satisfied: asn1crypto>=0.21.0 in /home/wuh/anaconda3/envs/azure_automl/lib/python3.6/site-packages (from cryptography!=1.9,!=2.0.*,!=2.1.*,!=2.2.*->azureml-core==1.0.43.*->azureml-sdk[automl,explain]==1.0.43) (0.24.0)\n",
      "Requirement already satisfied: backports.weakref in /home/wuh/anaconda3/envs/azure_automl/lib/python3.6/site-packages (from backports.tempfile->azureml-core==1.0.43.*->azureml-sdk[automl,explain]==1.0.43) (1.0.post1)\n",
      "Requirement already satisfied: azureml-train-restclients-hyperdrive==1.0.43.* in /home/wuh/anaconda3/envs/azure_automl/lib/python3.6/site-packages (from azureml-train-core==1.0.43.*->azureml-train==1.0.43.*->azureml-sdk[automl,explain]==1.0.43) (1.0.43)\n",
      "Requirement already satisfied: applicationinsights in /home/wuh/anaconda3/envs/azure_automl/lib/python3.6/site-packages (from azureml-telemetry==1.0.43.*->azureml-train-automl==1.0.43.*; extra == \"automl\"->azureml-sdk[automl,explain]==1.0.43) (0.11.9)\n",
      "Requirement already satisfied: smart-open>=1.7.0 in /home/wuh/anaconda3/envs/azure_automl/lib/python3.6/site-packages (from gensim->azureml-train-automl==1.0.43.*; extra == \"automl\"->azureml-sdk[automl,explain]==1.0.43) (1.8.4)\n",
      "Requirement already satisfied: keras2onnx in /home/wuh/anaconda3/envs/azure_automl/lib/python3.6/site-packages (from onnxmltools==1.4.1; python_version < \"3.7\"->azureml-train-automl==1.0.43.*; extra == \"automl\"->azureml-sdk[automl,explain]==1.0.43) (1.5.0)\n",
      "Requirement already satisfied: JsonForm>=0.0.2 in /home/wuh/anaconda3/envs/azure_automl/lib/python3.6/site-packages (from resource>=0.1.8->azureml-train-automl==1.0.43.*; extra == \"automl\"->azureml-sdk[automl,explain]==1.0.43) (0.0.2)\n",
      "Requirement already satisfied: python-easyconfig>=0.1.0 in /home/wuh/anaconda3/envs/azure_automl/lib/python3.6/site-packages (from resource>=0.1.8->azureml-train-automl==1.0.43.*; extra == \"automl\"->azureml-sdk[automl,explain]==1.0.43) (0.1.7)\n",
      "Requirement already satisfied: JsonSir>=0.0.2 in /home/wuh/anaconda3/envs/azure_automl/lib/python3.6/site-packages (from resource>=0.1.8->azureml-train-automl==1.0.43.*; extra == \"automl\"->azureml-sdk[automl,explain]==1.0.43) (0.0.2)\n",
      "Requirement already satisfied: ipython in /home/wuh/anaconda3/envs/azure_automl/lib/python3.6/site-packages (from shap<=0.29.1,>=0.20.0->azureml-explain-model==1.0.43.*; extra == \"explain\"->azureml-sdk[automl,explain]==1.0.43) (7.5.0)\n"
     ]
    },
    {
     "name": "stdout",
     "output_type": "stream",
     "text": [
      "Requirement already satisfied: scikit-image in /home/wuh/anaconda3/envs/azure_automl/lib/python3.6/site-packages (from shap<=0.29.1,>=0.20.0->azureml-explain-model==1.0.43.*; extra == \"explain\"->azureml-sdk[automl,explain]==1.0.43) (0.15.0)\n",
      "Requirement already satisfied: tqdm in /home/wuh/anaconda3/envs/azure_automl/lib/python3.6/site-packages (from shap<=0.29.1,>=0.20.0->azureml-explain-model==1.0.43.*; extra == \"explain\"->azureml-sdk[automl,explain]==1.0.43) (4.32.1)\n",
      "Requirement already satisfied: azure-nspkg>=3.0.0 in /home/wuh/anaconda3/envs/azure_automl/lib/python3.6/site-packages (from azure-mgmt-nspkg>=2.0.0->azure-mgmt-keyvault>=0.40.0->azureml-core==1.0.43.*->azureml-sdk[automl,explain]==1.0.43) (3.0.2)\n",
      "Requirement already satisfied: oauthlib>=3.0.0 in /home/wuh/anaconda3/envs/azure_automl/lib/python3.6/site-packages (from requests-oauthlib>=0.5.0->msrest>=0.5.1->azureml-core==1.0.43.*->azureml-sdk[automl,explain]==1.0.43) (3.0.1)\n",
      "Requirement already satisfied: pycparser in /home/wuh/anaconda3/envs/azure_automl/lib/python3.6/site-packages (from cffi!=1.11.3,>=1.8->cryptography!=1.9,!=2.0.*,!=2.1.*,!=2.2.*->azureml-core==1.0.43.*->azureml-sdk[automl,explain]==1.0.43) (2.19)\n",
      "Requirement already satisfied: boto3 in /home/wuh/anaconda3/envs/azure_automl/lib/python3.6/site-packages (from smart-open>=1.7.0->gensim->azureml-train-automl==1.0.43.*; extra == \"automl\"->azureml-sdk[automl,explain]==1.0.43) (1.9.168)\n",
      "Requirement already satisfied: boto>=2.32 in /home/wuh/anaconda3/envs/azure_automl/lib/python3.6/site-packages (from smart-open>=1.7.0->gensim->azureml-train-automl==1.0.43.*; extra == \"automl\"->azureml-sdk[automl,explain]==1.0.43) (2.49.0)\n",
      "Requirement already satisfied: keras in /home/wuh/anaconda3/envs/azure_automl/lib/python3.6/site-packages (from keras2onnx->onnxmltools==1.4.1; python_version < \"3.7\"->azureml-train-automl==1.0.43.*; extra == \"automl\"->azureml-sdk[automl,explain]==1.0.43) (2.2.4)\n",
      "Requirement already satisfied: jsonschema in /home/wuh/anaconda3/envs/azure_automl/lib/python3.6/site-packages (from JsonForm>=0.0.2->resource>=0.1.8->azureml-train-automl==1.0.43.*; extra == \"automl\"->azureml-sdk[automl,explain]==1.0.43) (3.0.1)\n",
      "Requirement already satisfied: PyYAML in /home/wuh/anaconda3/envs/azure_automl/lib/python3.6/site-packages (from python-easyconfig>=0.1.0->resource>=0.1.8->azureml-train-automl==1.0.43.*; extra == \"automl\"->azureml-sdk[automl,explain]==1.0.43) (5.1.1)\n",
      "Requirement already satisfied: decorator in /home/wuh/anaconda3/envs/azure_automl/lib/python3.6/site-packages (from ipython->shap<=0.29.1,>=0.20.0->azureml-explain-model==1.0.43.*; extra == \"explain\"->azureml-sdk[automl,explain]==1.0.43) (4.4.0)\n",
      "Requirement already satisfied: pexpect; sys_platform != \"win32\" in /home/wuh/anaconda3/envs/azure_automl/lib/python3.6/site-packages (from ipython->shap<=0.29.1,>=0.20.0->azureml-explain-model==1.0.43.*; extra == \"explain\"->azureml-sdk[automl,explain]==1.0.43) (4.7.0)\n",
      "Requirement already satisfied: pickleshare in /home/wuh/anaconda3/envs/azure_automl/lib/python3.6/site-packages (from ipython->shap<=0.29.1,>=0.20.0->azureml-explain-model==1.0.43.*; extra == \"explain\"->azureml-sdk[automl,explain]==1.0.43) (0.7.5)\n",
      "Requirement already satisfied: prompt-toolkit<2.1.0,>=2.0.0 in /home/wuh/anaconda3/envs/azure_automl/lib/python3.6/site-packages (from ipython->shap<=0.29.1,>=0.20.0->azureml-explain-model==1.0.43.*; extra == \"explain\"->azureml-sdk[automl,explain]==1.0.43) (2.0.9)\n",
      "Requirement already satisfied: traitlets>=4.2 in /home/wuh/anaconda3/envs/azure_automl/lib/python3.6/site-packages (from ipython->shap<=0.29.1,>=0.20.0->azureml-explain-model==1.0.43.*; extra == \"explain\"->azureml-sdk[automl,explain]==1.0.43) (4.3.2)\n",
      "Requirement already satisfied: backcall in /home/wuh/anaconda3/envs/azure_automl/lib/python3.6/site-packages (from ipython->shap<=0.29.1,>=0.20.0->azureml-explain-model==1.0.43.*; extra == \"explain\"->azureml-sdk[automl,explain]==1.0.43) (0.1.0)\n",
      "Requirement already satisfied: pygments in /home/wuh/anaconda3/envs/azure_automl/lib/python3.6/site-packages (from ipython->shap<=0.29.1,>=0.20.0->azureml-explain-model==1.0.43.*; extra == \"explain\"->azureml-sdk[automl,explain]==1.0.43) (2.4.2)\n",
      "Requirement already satisfied: jedi>=0.10 in /home/wuh/anaconda3/envs/azure_automl/lib/python3.6/site-packages (from ipython->shap<=0.29.1,>=0.20.0->azureml-explain-model==1.0.43.*; extra == \"explain\"->azureml-sdk[automl,explain]==1.0.43) (0.13.3)\n",
      "Requirement already satisfied: networkx>=2.0 in /home/wuh/anaconda3/envs/azure_automl/lib/python3.6/site-packages (from scikit-image->shap<=0.29.1,>=0.20.0->azureml-explain-model==1.0.43.*; extra == \"explain\"->azureml-sdk[automl,explain]==1.0.43) (2.3)\n",
      "Requirement already satisfied: pillow>=4.3.0 in /home/wuh/anaconda3/envs/azure_automl/lib/python3.6/site-packages (from scikit-image->shap<=0.29.1,>=0.20.0->azureml-explain-model==1.0.43.*; extra == \"explain\"->azureml-sdk[automl,explain]==1.0.43) (6.0.0)\n",
      "Requirement already satisfied: imageio>=2.0.1 in /home/wuh/anaconda3/envs/azure_automl/lib/python3.6/site-packages (from scikit-image->shap<=0.29.1,>=0.20.0->azureml-explain-model==1.0.43.*; extra == \"explain\"->azureml-sdk[automl,explain]==1.0.43) (2.5.0)\n",
      "Requirement already satisfied: PyWavelets>=0.4.0 in /home/wuh/anaconda3/envs/azure_automl/lib/python3.6/site-packages (from scikit-image->shap<=0.29.1,>=0.20.0->azureml-explain-model==1.0.43.*; extra == \"explain\"->azureml-sdk[automl,explain]==1.0.43) (1.0.3)\n",
      "Requirement already satisfied: s3transfer<0.3.0,>=0.2.0 in /home/wuh/anaconda3/envs/azure_automl/lib/python3.6/site-packages (from boto3->smart-open>=1.7.0->gensim->azureml-train-automl==1.0.43.*; extra == \"automl\"->azureml-sdk[automl,explain]==1.0.43) (0.2.1)\n",
      "Requirement already satisfied: botocore<1.13.0,>=1.12.168 in /home/wuh/anaconda3/envs/azure_automl/lib/python3.6/site-packages (from boto3->smart-open>=1.7.0->gensim->azureml-train-automl==1.0.43.*; extra == \"automl\"->azureml-sdk[automl,explain]==1.0.43) (1.12.168)\n",
      "Requirement already satisfied: keras-preprocessing>=1.0.5 in /home/wuh/anaconda3/envs/azure_automl/lib/python3.6/site-packages (from keras->keras2onnx->onnxmltools==1.4.1; python_version < \"3.7\"->azureml-train-automl==1.0.43.*; extra == \"automl\"->azureml-sdk[automl,explain]==1.0.43) (1.1.0)\n",
      "Requirement already satisfied: h5py in /home/wuh/anaconda3/envs/azure_automl/lib/python3.6/site-packages (from keras->keras2onnx->onnxmltools==1.4.1; python_version < \"3.7\"->azureml-train-automl==1.0.43.*; extra == \"automl\"->azureml-sdk[automl,explain]==1.0.43) (2.9.0)\n",
      "Requirement already satisfied: keras-applications>=1.0.6 in /home/wuh/anaconda3/envs/azure_automl/lib/python3.6/site-packages (from keras->keras2onnx->onnxmltools==1.4.1; python_version < \"3.7\"->azureml-train-automl==1.0.43.*; extra == \"automl\"->azureml-sdk[automl,explain]==1.0.43) (1.0.8)\n",
      "Requirement already satisfied: attrs>=17.4.0 in /home/wuh/anaconda3/envs/azure_automl/lib/python3.6/site-packages (from jsonschema->JsonForm>=0.0.2->resource>=0.1.8->azureml-train-automl==1.0.43.*; extra == \"automl\"->azureml-sdk[automl,explain]==1.0.43) (19.1.0)\n",
      "Requirement already satisfied: pyrsistent>=0.14.0 in /home/wuh/anaconda3/envs/azure_automl/lib/python3.6/site-packages (from jsonschema->JsonForm>=0.0.2->resource>=0.1.8->azureml-train-automl==1.0.43.*; extra == \"automl\"->azureml-sdk[automl,explain]==1.0.43) (0.14.11)\n",
      "Requirement already satisfied: ptyprocess>=0.5 in /home/wuh/anaconda3/envs/azure_automl/lib/python3.6/site-packages (from pexpect; sys_platform != \"win32\"->ipython->shap<=0.29.1,>=0.20.0->azureml-explain-model==1.0.43.*; extra == \"explain\"->azureml-sdk[automl,explain]==1.0.43) (0.6.0)\n",
      "Requirement already satisfied: wcwidth in /home/wuh/anaconda3/envs/azure_automl/lib/python3.6/site-packages (from prompt-toolkit<2.1.0,>=2.0.0->ipython->shap<=0.29.1,>=0.20.0->azureml-explain-model==1.0.43.*; extra == \"explain\"->azureml-sdk[automl,explain]==1.0.43) (0.1.7)\n",
      "Requirement already satisfied: ipython-genutils in /home/wuh/anaconda3/envs/azure_automl/lib/python3.6/site-packages (from traitlets>=4.2->ipython->shap<=0.29.1,>=0.20.0->azureml-explain-model==1.0.43.*; extra == \"explain\"->azureml-sdk[automl,explain]==1.0.43) (0.2.0)\n",
      "Requirement already satisfied: parso>=0.3.0 in /home/wuh/anaconda3/envs/azure_automl/lib/python3.6/site-packages (from jedi>=0.10->ipython->shap<=0.29.1,>=0.20.0->azureml-explain-model==1.0.43.*; extra == \"explain\"->azureml-sdk[automl,explain]==1.0.43) (0.4.0)\n",
      "Requirement already satisfied: docutils>=0.10 in /home/wuh/anaconda3/envs/azure_automl/lib/python3.6/site-packages (from botocore<1.13.0,>=1.12.168->boto3->smart-open>=1.7.0->gensim->azureml-train-automl==1.0.43.*; extra == \"automl\"->azureml-sdk[automl,explain]==1.0.43) (0.14)\n"
     ]
    }
   ],
   "source": [
    "! pip install azureml-sdk[automl,explain]==1.0.43 matplotlib onnx opencv-python"
   ]
  },
  {
   "cell_type": "markdown",
   "metadata": {},
   "source": [
    "## 2. Load workspace from conf.json"
   ]
  },
  {
   "cell_type": "code",
   "execution_count": 2,
   "metadata": {},
   "outputs": [],
   "source": [
    "import azureml.core\n",
    "import pandas as pd\n",
    "import numpy as np\n",
    "import logging\n",
    "import warnings\n",
    "# Squash warning messages for cleaner output in the notebook\n",
    "warnings.showwarning = lambda *args, **kwargs: None\n",
    "\n",
    "\n",
    "from azureml.core.workspace import Workspace\n",
    "from azureml.core.experiment import Experiment\n",
    "from azureml.train.automl import AutoMLConfig\n"
   ]
  },
  {
   "cell_type": "code",
   "execution_count": 3,
   "metadata": {},
   "outputs": [
    {
     "data": {
      "text/html": [
       "<div>\n",
       "<style scoped>\n",
       "    .dataframe tbody tr th:only-of-type {\n",
       "        vertical-align: middle;\n",
       "    }\n",
       "\n",
       "    .dataframe tbody tr th {\n",
       "        vertical-align: top;\n",
       "    }\n",
       "\n",
       "    .dataframe thead th {\n",
       "        text-align: right;\n",
       "    }\n",
       "</style>\n",
       "<table border=\"1\" class=\"dataframe\">\n",
       "  <thead>\n",
       "    <tr style=\"text-align: right;\">\n",
       "      <th></th>\n",
       "      <th></th>\n",
       "    </tr>\n",
       "  </thead>\n",
       "  <tbody>\n",
       "    <tr>\n",
       "      <th>SDK version</th>\n",
       "      <td>1.0.43</td>\n",
       "    </tr>\n",
       "    <tr>\n",
       "      <th>Subscription ID</th>\n",
       "      <td>ee85ed72-2b26-48f6-a0e8-cb5bcf98fbd9</td>\n",
       "    </tr>\n",
       "    <tr>\n",
       "      <th>Workspace</th>\n",
       "      <td>zhanxiaAML</td>\n",
       "    </tr>\n",
       "    <tr>\n",
       "      <th>Resource Group</th>\n",
       "      <td>MT</td>\n",
       "    </tr>\n",
       "    <tr>\n",
       "      <th>Location</th>\n",
       "      <td>eastus</td>\n",
       "    </tr>\n",
       "  </tbody>\n",
       "</table>\n",
       "</div>"
      ],
      "text/plain": [
       "                                                     \n",
       "SDK version      1.0.43                              \n",
       "Subscription ID  ee85ed72-2b26-48f6-a0e8-cb5bcf98fbd9\n",
       "Workspace        zhanxiaAML                          \n",
       "Resource Group   MT                                  \n",
       "Location         eastus                              "
      ]
     },
     "execution_count": 3,
     "metadata": {},
     "output_type": "execute_result"
    }
   ],
   "source": [
    "ws = Workspace.from_config()\n",
    "\n",
    "output = {}\n",
    "output['SDK version'] = azureml.core.VERSION\n",
    "output['Subscription ID'] = ws.subscription_id\n",
    "output['Workspace'] = ws.name\n",
    "output['Resource Group'] = ws.resource_group\n",
    "output['Location'] = ws.location\n",
    "pd.set_option('display.max_colwidth', -1)\n",
    "outputDf = pd.DataFrame(data = output, index = [''])\n",
    "outputDf.T"
   ]
  },
  {
   "cell_type": "markdown",
   "metadata": {},
   "source": [
    "## 3. Print the exiting compute in the workspace"
   ]
  },
  {
   "cell_type": "code",
   "execution_count": 4,
   "metadata": {},
   "outputs": [
    {
     "data": {
      "text/plain": [
       "{'TryNotenook': <azureml.core.compute.dsvm.DsvmCompute at 0x7f0a6db53518>,\n",
       " 'DefaultAKS': <azureml.core.compute.aks.AksCompute at 0x7f0a6db53630>,\n",
       " 'aml-compute': <azureml.core.compute.amlcompute.AmlCompute at 0x7f0a6db537b8>,\n",
       " 'cpucluster': <azureml.core.compute.amlcompute.AmlCompute at 0x7f0a6db538d0>,\n",
       " 'gpucluster': <azureml.core.compute.amlcompute.AmlCompute at 0x7f0a6db53ac8>}"
      ]
     },
     "execution_count": 4,
     "metadata": {},
     "output_type": "execute_result"
    }
   ],
   "source": [
    "from azureml.core.compute import AmlCompute\n",
    "from azureml.core.compute import ComputeTarget\n",
    "import os\n",
    "\n",
    "compute = ws.compute_targets\n",
    "compute"
   ]
  },
  {
   "cell_type": "markdown",
   "metadata": {},
   "source": [
    "## 4. Upload data for remote compute to access"
   ]
  },
  {
   "cell_type": "code",
   "execution_count": 5,
   "metadata": {},
   "outputs": [
    {
     "name": "stdout",
     "output_type": "stream",
     "text": [
      "Uploading ./data/nyc_energy.csv\n",
      "Uploaded ./data/nyc_energy.csv, 1 files out of an estimated total of 1\n"
     ]
    }
   ],
   "source": [
    "ds = ws.get_default_datastore()\n",
    "ds.upload_files(['./data/nyc_energy.csv'], target_path='exp_data', overwrite=True, show_progress=True)\n",
    "\n",
    "from azureml.core.runconfig import DataReferenceConfiguration\n",
    "dr = DataReferenceConfiguration(datastore_name=ds.name, \n",
    "                   path_on_datastore='exp_data', \n",
    "                   path_on_compute='/tmp/azureml_runs',\n",
    "                   mode='download', # download files from datastore to compute target\n",
    "                   overwrite=False)"
   ]
  },
  {
   "cell_type": "code",
   "execution_count": null,
   "metadata": {},
   "outputs": [],
   "source": []
  }
 ],
 "metadata": {
  "kernelspec": {
   "display_name": "Python (azure_automl)",
   "language": "python",
   "name": "azure_automl"
  },
  "language_info": {
   "codemirror_mode": {
    "name": "ipython",
    "version": 3
   },
   "file_extension": ".py",
   "mimetype": "text/x-python",
   "name": "python",
   "nbconvert_exporter": "python",
   "pygments_lexer": "ipython3",
   "version": "3.6.6"
  }
 },
 "nbformat": 4,
 "nbformat_minor": 2
}
