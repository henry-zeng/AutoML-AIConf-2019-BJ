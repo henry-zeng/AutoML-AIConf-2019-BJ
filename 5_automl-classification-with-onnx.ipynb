{
 "cells": [
  {
   "cell_type": "markdown",
   "metadata": {},
   "source": [
    "Copyright (c) Microsoft Corporation. All rights reserved.\n",
    "\n",
    "Licensed under the MIT License."
   ]
  },
  {
   "cell_type": "markdown",
   "metadata": {},
   "source": [
    "![Impressions](https://PixelServer20190423114238.azurewebsites.net/api/impressions/MachineLearningNotebooks/how-to-use-azureml/automated-machine-learning/classification-with-onnx/auto-ml-classification-with-onnx.png)"
   ]
  },
  {
   "cell_type": "markdown",
   "metadata": {},
   "source": [
    "# Automated Machine Learning\n",
    "_**Classification with Local Compute**_\n",
    "\n",
    "## Contents\n",
    "1. [Introduction](#Introduction)\n",
    "1. [Setup](#Setup)\n",
    "1. [Data](#Data)\n",
    "1. [Train](#Train)\n",
    "1. [Results](#Results)\n",
    "1. [Test](#Test)\n",
    "\n"
   ]
  },
  {
   "cell_type": "markdown",
   "metadata": {},
   "source": [
    "## Introduction\n",
    "\n",
    "In this example we use the scikit-learn's [digit dataset](http://scikit-learn.org/stable/datasets/index.html#optical-recognition-of-handwritten-digits-dataset) to showcase how you can use AutoML for a simple classification problem.\n",
    "\n",
    "Make sure you have executed the [configuration](../../../configuration.ipynb) before running this notebook.\n",
    "\n",
    "Please find the ONNX related documentations [here](https://github.com/onnx/onnx).\n",
    "\n",
    "In this notebook you will learn how to:\n",
    "1. Create an `Experiment` in an existing `Workspace`.\n",
    "2. Configure AutoML using `AutoMLConfig`.\n",
    "3. Train the model using local compute with ONNX compatible config on.\n",
    "4. Explore the results and save the ONNX model."
   ]
  },
  {
   "cell_type": "markdown",
   "metadata": {},
   "source": [
    "## Setup\n",
    "\n",
    "As part of the setup you have already created an Azure ML `Workspace` object. For AutoML you will need to create an `Experiment` object, which is a named object in a `Workspace` used to run experiments."
   ]
  },
  {
   "cell_type": "code",
   "execution_count": 3,
   "metadata": {},
   "outputs": [],
   "source": [
    "import logging\n",
    "\n",
    "from matplotlib import pyplot as plt\n",
    "import numpy as np\n",
    "import pandas as pd\n",
    "from sklearn import datasets\n",
    "from sklearn.model_selection import train_test_split\n",
    "\n",
    "import azureml.core\n",
    "from azureml.core.experiment import Experiment\n",
    "from azureml.core.workspace import Workspace\n",
    "from azureml.train.automl import AutoMLConfig, constants"
   ]
  },
  {
   "cell_type": "code",
   "execution_count": null,
   "metadata": {},
   "outputs": [],
   "source": [
    "ws = Workspace.from_config()\n",
    "\n",
    "# Choose a name for the experiment and specify the project folder.\n",
    "experiment_name = 'automl-classification-onnx'\n",
    "project_folder = './project/automl-classification-onnx'\n",
    "\n",
    "experiment = Experiment(ws, experiment_name)\n",
    "\n",
    "output = {}\n",
    "output['SDK version'] = azureml.core.VERSION\n",
    "output['Subscription ID'] = ws.subscription_id\n",
    "output['Workspace Name'] = ws.name\n",
    "output['Resource Group'] = ws.resource_group\n",
    "output['Location'] = ws.location\n",
    "output['Project Directory'] = project_folder\n",
    "output['Experiment Name'] = experiment.name\n",
    "pd.set_option('display.max_colwidth', -1)\n",
    "outputDf = pd.DataFrame(data = output, index = [''])\n",
    "outputDf.T"
   ]
  },
  {
   "cell_type": "markdown",
   "metadata": {},
   "source": [
    "## Prepare MNIST dataset\n",
    "In order to train on the MNIST dataset we will first need to download it from Yan LeCun's web site directly and save them in a `data` folder locally."
   ]
  },
  {
   "cell_type": "code",
   "execution_count": 8,
   "metadata": {},
   "outputs": [
    {
     "name": "stdout",
     "output_type": "stream",
     "text": [
      "MNIST dataset exists on local machine. Skip downloading.\n"
     ]
    },
    {
     "data": {
      "image/png": "[encoded data removed]",
      "text/plain": [
       "<matplotlib.figure.Figure at 0x7f6d5e9cf4a8>"
      ]
     },
     "metadata": {
      "needs_background": "light"
     },
     "output_type": "display_data"
    },
    {
     "name": "stdout",
     "output_type": "stream",
     "text": [
      "       C001  C002  C003  C004  C005  C006  C007  C008  C009  C010  ...   C775  \\\n",
      "0      0.00  0.00  0.00  0.00  0.00  0.00  0.00  0.00  0.00  0.00  ...   0.00   \n",
      "1      0.00  0.00  0.00  0.00  0.00  0.00  0.00  0.00  0.00  0.00  ...   0.00   \n",
      "2      0.00  0.00  0.00  0.00  0.00  0.00  0.00  0.00  0.00  0.00  ...   0.00   \n",
      "3      0.00  0.00  0.00  0.00  0.00  0.00  0.00  0.00  0.00  0.00  ...   0.00   \n",
      "4      0.00  0.00  0.00  0.00  0.00  0.00  0.00  0.00  0.00  0.00  ...   0.00   \n",
      "5      0.00  0.00  0.00  0.00  0.00  0.00  0.00  0.00  0.00  0.00  ...   0.00   \n",
      "6      0.00  0.00  0.00  0.00  0.00  0.00  0.00  0.00  0.00  0.00  ...   0.00   \n",
      "7      0.00  0.00  0.00  0.00  0.00  0.00  0.00  0.00  0.00  0.00  ...   0.00   \n",
      "8      0.00  0.00  0.00  0.00  0.00  0.00  0.00  0.00  0.00  0.00  ...   0.00   \n",
      "9      0.00  0.00  0.00  0.00  0.00  0.00  0.00  0.00  0.00  0.00  ...   0.00   \n",
      "10     0.00  0.00  0.00  0.00  0.00  0.00  0.00  0.00  0.00  0.00  ...   0.00   \n",
      "11     0.00  0.00  0.00  0.00  0.00  0.00  0.00  0.00  0.00  0.00  ...   0.00   \n",
      "12     0.00  0.00  0.00  0.00  0.00  0.00  0.00  0.00  0.00  0.00  ...   0.00   \n",
      "13     0.00  0.00  0.00  0.00  0.00  0.00  0.00  0.00  0.00  0.00  ...   0.00   \n",
      "14     0.00  0.00  0.00  0.00  0.00  0.00  0.00  0.00  0.00  0.00  ...   0.00   \n",
      "15     0.00  0.00  0.00  0.00  0.00  0.00  0.00  0.00  0.00  0.00  ...   0.00   \n",
      "16     0.00  0.00  0.00  0.00  0.00  0.00  0.00  0.00  0.00  0.00  ...   0.00   \n",
      "17     0.00  0.00  0.00  0.00  0.00  0.00  0.00  0.00  0.00  0.00  ...   0.00   \n",
      "18     0.00  0.00  0.00  0.00  0.00  0.00  0.00  0.00  0.00  0.00  ...   0.00   \n",
      "19     0.00  0.00  0.00  0.00  0.00  0.00  0.00  0.00  0.00  0.00  ...   0.00   \n",
      "20     0.00  0.00  0.00  0.00  0.00  0.00  0.00  0.00  0.00  0.00  ...   0.00   \n",
      "21     0.00  0.00  0.00  0.00  0.00  0.00  0.00  0.00  0.00  0.00  ...   0.00   \n",
      "22     0.00  0.00  0.00  0.00  0.00  0.00  0.00  0.00  0.00  0.00  ...   0.00   \n",
      "23     0.00  0.00  0.00  0.00  0.00  0.00  0.00  0.00  0.00  0.00  ...   0.00   \n",
      "24     0.00  0.00  0.00  0.00  0.00  0.00  0.00  0.00  0.00  0.00  ...   0.00   \n",
      "25     0.00  0.00  0.00  0.00  0.00  0.00  0.00  0.00  0.00  0.00  ...   0.00   \n",
      "26     0.00  0.00  0.00  0.00  0.00  0.00  0.00  0.00  0.00  0.00  ...   0.00   \n",
      "27     0.00  0.00  0.00  0.00  0.00  0.00  0.00  0.00  0.00  0.00  ...   0.00   \n",
      "28     0.00  0.00  0.00  0.00  0.00  0.00  0.00  0.00  0.00  0.00  ...   0.00   \n",
      "29     0.00  0.00  0.00  0.00  0.00  0.00  0.00  0.00  0.00  0.00  ...   0.00   \n",
      "...     ...   ...   ...   ...   ...   ...   ...   ...   ...   ...  ...    ...   \n",
      "59970  0.00  0.00  0.00  0.00  0.00  0.00  0.00  0.00  0.00  0.00  ...   0.00   \n",
      "59971  0.00  0.00  0.00  0.00  0.00  0.00  0.00  0.00  0.00  0.00  ...   0.00   \n",
      "59972  0.00  0.00  0.00  0.00  0.00  0.00  0.00  0.00  0.00  0.00  ...   0.00   \n",
      "59973  0.00  0.00  0.00  0.00  0.00  0.00  0.00  0.00  0.00  0.00  ...   0.00   \n",
      "59974  0.00  0.00  0.00  0.00  0.00  0.00  0.00  0.00  0.00  0.00  ...   0.00   \n",
      "59975  0.00  0.00  0.00  0.00  0.00  0.00  0.00  0.00  0.00  0.00  ...   0.00   \n",
      "59976  0.00  0.00  0.00  0.00  0.00  0.00  0.00  0.00  0.00  0.00  ...   0.00   \n",
      "59977  0.00  0.00  0.00  0.00  0.00  0.00  0.00  0.00  0.00  0.00  ...   0.00   \n",
      "59978  0.00  0.00  0.00  0.00  0.00  0.00  0.00  0.00  0.00  0.00  ...   0.00   \n",
      "59979  0.00  0.00  0.00  0.00  0.00  0.00  0.00  0.00  0.00  0.00  ...   0.00   \n",
      "59980  0.00  0.00  0.00  0.00  0.00  0.00  0.00  0.00  0.00  0.00  ...   0.00   \n",
      "59981  0.00  0.00  0.00  0.00  0.00  0.00  0.00  0.00  0.00  0.00  ...   0.00   \n",
      "59982  0.00  0.00  0.00  0.00  0.00  0.00  0.00  0.00  0.00  0.00  ...   0.00   \n",
      "59983  0.00  0.00  0.00  0.00  0.00  0.00  0.00  0.00  0.00  0.00  ...   0.00   \n",
      "59984  0.00  0.00  0.00  0.00  0.00  0.00  0.00  0.00  0.00  0.00  ...   0.00   \n",
      "59985  0.00  0.00  0.00  0.00  0.00  0.00  0.00  0.00  0.00  0.00  ...   0.00   \n",
      "59986  0.00  0.00  0.00  0.00  0.00  0.00  0.00  0.00  0.00  0.00  ...   0.00   \n",
      "59987  0.00  0.00  0.00  0.00  0.00  0.00  0.00  0.00  0.00  0.00  ...   0.00   \n",
      "59988  0.00  0.00  0.00  0.00  0.00  0.00  0.00  0.00  0.00  0.00  ...   0.00   \n",
      "59989  0.00  0.00  0.00  0.00  0.00  0.00  0.00  0.00  0.00  0.00  ...   0.00   \n",
      "59990  0.00  0.00  0.00  0.00  0.00  0.00  0.00  0.00  0.00  0.00  ...   0.00   \n",
      "59991  0.00  0.00  0.00  0.00  0.00  0.00  0.00  0.00  0.00  0.00  ...   0.00   \n",
      "59992  0.00  0.00  0.00  0.00  0.00  0.00  0.00  0.00  0.00  0.00  ...   0.00   \n",
      "59993  0.00  0.00  0.00  0.00  0.00  0.00  0.00  0.00  0.00  0.00  ...   0.00   \n",
      "59994  0.00  0.00  0.00  0.00  0.00  0.00  0.00  0.00  0.00  0.00  ...   0.00   \n",
      "59995  0.00  0.00  0.00  0.00  0.00  0.00  0.00  0.00  0.00  0.00  ...   0.00   \n",
      "59996  0.00  0.00  0.00  0.00  0.00  0.00  0.00  0.00  0.00  0.00  ...   0.00   \n",
      "59997  0.00  0.00  0.00  0.00  0.00  0.00  0.00  0.00  0.00  0.00  ...   0.00   \n",
      "59998  0.00  0.00  0.00  0.00  0.00  0.00  0.00  0.00  0.00  0.00  ...   0.00   \n",
      "59999  0.00  0.00  0.00  0.00  0.00  0.00  0.00  0.00  0.00  0.00  ...   0.00   \n",
      "\n",
      "       C776  C777  C778  C779  C780  C781  C782  C783  C784  \n",
      "0      0.00  0.00  0.00  0.00  0.00  0.00  0.00  0.00  0.00  \n",
      "1      0.00  0.00  0.00  0.00  0.00  0.00  0.00  0.00  0.00  \n",
      "2      0.00  0.00  0.00  0.00  0.00  0.00  0.00  0.00  0.00  \n",
      "3      0.00  0.00  0.00  0.00  0.00  0.00  0.00  0.00  0.00  \n",
      "4      0.00  0.00  0.00  0.00  0.00  0.00  0.00  0.00  0.00  \n",
      "5      0.00  0.00  0.00  0.00  0.00  0.00  0.00  0.00  0.00  \n",
      "6      0.00  0.00  0.00  0.00  0.00  0.00  0.00  0.00  0.00  \n",
      "7      0.00  0.00  0.00  0.00  0.00  0.00  0.00  0.00  0.00  \n",
      "8      0.00  0.00  0.00  0.00  0.00  0.00  0.00  0.00  0.00  \n",
      "9      0.00  0.00  0.00  0.00  0.00  0.00  0.00  0.00  0.00  \n",
      "10     0.00  0.00  0.00  0.00  0.00  0.00  0.00  0.00  0.00  \n",
      "11     0.00  0.00  0.00  0.00  0.00  0.00  0.00  0.00  0.00  \n",
      "12     0.00  0.00  0.00  0.00  0.00  0.00  0.00  0.00  0.00  \n",
      "13     0.00  0.00  0.00  0.00  0.00  0.00  0.00  0.00  0.00  \n",
      "14     0.00  0.00  0.00  0.00  0.00  0.00  0.00  0.00  0.00  \n",
      "15     0.00  0.00  0.00  0.00  0.00  0.00  0.00  0.00  0.00  \n",
      "16     0.00  0.00  0.00  0.00  0.00  0.00  0.00  0.00  0.00  \n",
      "17     0.00  0.00  0.00  0.00  0.00  0.00  0.00  0.00  0.00  \n",
      "18     0.00  0.00  0.00  0.00  0.00  0.00  0.00  0.00  0.00  \n",
      "19     0.00  0.00  0.00  0.00  0.00  0.00  0.00  0.00  0.00  \n",
      "20     0.00  0.00  0.00  0.00  0.00  0.00  0.00  0.00  0.00  \n",
      "21     0.00  0.00  0.00  0.00  0.00  0.00  0.00  0.00  0.00  \n",
      "22     0.00  0.00  0.00  0.00  0.00  0.00  0.00  0.00  0.00  \n",
      "23     0.00  0.00  0.00  0.00  0.00  0.00  0.00  0.00  0.00  \n",
      "24     0.00  0.00  0.00  0.00  0.00  0.00  0.00  0.00  0.00  \n",
      "25     0.00  0.00  0.00  0.00  0.00  0.00  0.00  0.00  0.00  \n",
      "26     0.00  0.00  0.00  0.00  0.00  0.00  0.00  0.00  0.00  \n",
      "27     0.00  0.00  0.00  0.00  0.00  0.00  0.00  0.00  0.00  \n",
      "28     0.00  0.00  0.00  0.00  0.00  0.00  0.00  0.00  0.00  \n",
      "29     0.00  0.00  0.00  0.00  0.00  0.00  0.00  0.00  0.00  \n",
      "...     ...   ...   ...   ...   ...   ...   ...   ...   ...  \n",
      "59970  0.00  0.00  0.00  0.00  0.00  0.00  0.00  0.00  0.00  \n",
      "59971  0.00  0.00  0.00  0.00  0.00  0.00  0.00  0.00  0.00  \n",
      "59972  0.00  0.00  0.00  0.00  0.00  0.00  0.00  0.00  0.00  \n",
      "59973  0.00  0.00  0.00  0.00  0.00  0.00  0.00  0.00  0.00  \n",
      "59974  0.00  0.00  0.00  0.00  0.00  0.00  0.00  0.00  0.00  \n",
      "59975  0.00  0.00  0.00  0.00  0.00  0.00  0.00  0.00  0.00  \n",
      "59976  0.00  0.00  0.00  0.00  0.00  0.00  0.00  0.00  0.00  \n",
      "59977  0.00  0.00  0.00  0.00  0.00  0.00  0.00  0.00  0.00  \n",
      "59978  0.00  0.00  0.00  0.00  0.00  0.00  0.00  0.00  0.00  \n",
      "59979  0.00  0.00  0.00  0.00  0.00  0.00  0.00  0.00  0.00  \n",
      "59980  0.00  0.00  0.00  0.00  0.00  0.00  0.00  0.00  0.00  \n",
      "59981  0.00  0.00  0.00  0.00  0.00  0.00  0.00  0.00  0.00  \n",
      "59982  0.00  0.00  0.00  0.00  0.00  0.00  0.00  0.00  0.00  \n",
      "59983  0.00  0.00  0.00  0.00  0.00  0.00  0.00  0.00  0.00  \n",
      "59984  0.00  0.00  0.00  0.00  0.00  0.00  0.00  0.00  0.00  \n",
      "59985  0.00  0.00  0.00  0.00  0.00  0.00  0.00  0.00  0.00  \n",
      "59986  0.00  0.00  0.00  0.00  0.00  0.00  0.00  0.00  0.00  \n",
      "59987  0.00  0.00  0.00  0.00  0.00  0.00  0.00  0.00  0.00  \n",
      "59988  0.00  0.00  0.00  0.00  0.00  0.00  0.00  0.00  0.00  \n",
      "59989  0.00  0.00  0.00  0.00  0.00  0.00  0.00  0.00  0.00  \n",
      "59990  0.00  0.00  0.00  0.00  0.00  0.00  0.00  0.00  0.00  \n",
      "59991  0.00  0.00  0.00  0.00  0.00  0.00  0.00  0.00  0.00  \n",
      "59992  0.00  0.00  0.00  0.00  0.00  0.00  0.00  0.00  0.00  \n",
      "59993  0.00  0.00  0.00  0.00  0.00  0.00  0.00  0.00  0.00  \n",
      "59994  0.00  0.00  0.00  0.00  0.00  0.00  0.00  0.00  0.00  \n",
      "59995  0.00  0.00  0.00  0.00  0.00  0.00  0.00  0.00  0.00  \n",
      "59996  0.00  0.00  0.00  0.00  0.00  0.00  0.00  0.00  0.00  \n",
      "59997  0.00  0.00  0.00  0.00  0.00  0.00  0.00  0.00  0.00  \n",
      "59998  0.00  0.00  0.00  0.00  0.00  0.00  0.00  0.00  0.00  \n",
      "59999  0.00  0.00  0.00  0.00  0.00  0.00  0.00  0.00  0.00  \n",
      "\n",
      "[60000 rows x 784 columns]\n"
     ]
    }
   ],
   "source": [
    "import os\n",
    "import urllib\n",
    "import numpy as np\n",
    "import matplotlib.pyplot as plt\n",
    "\n",
    "#\n",
    "# Download if the dataset does not exist on local machine.\n",
    "#\n",
    "\n",
    "if not os.path.exists('./data/mnist'):\n",
    "    os.makedirs('./data/mnist', exist_ok=True)\n",
    "    urllib.request.urlretrieve('http://yann.lecun.com/exdb/mnist/train-images-idx3-ubyte.gz', filename = './data/mnist/train-images.gz')\n",
    "    urllib.request.urlretrieve('http://yann.lecun.com/exdb/mnist/train-labels-idx1-ubyte.gz', filename = './data/mnist/train-labels.gz')\n",
    "    urllib.request.urlretrieve('http://yann.lecun.com/exdb/mnist/t10k-images-idx3-ubyte.gz', filename = './data/mnist/test-images.gz')\n",
    "    urllib.request.urlretrieve('http://yann.lecun.com/exdb/mnist/t10k-labels-idx1-ubyte.gz', filename = './data/mnist/test-labels.gz')\n",
    "else:\n",
    "    print(\"MNIST dataset exists on local machine. Skip downloading.\")\n",
    "\n",
    "#\n",
    "# Load the dataset.\n",
    "#\n",
    "\n",
    "from src.utils import load_data\n",
    "\n",
    "# Note we also shrink the intensity values (X) from 0-255 to 0-1.\n",
    "X_train = load_data('./data/mnist/train-images.gz', False) / 255.0\n",
    "y_train = load_data('./data/mnist/train-labels.gz', True).reshape(-1)\n",
    "\n",
    "X_test = load_data('./data/mnist/test-images.gz', False) / 255.0\n",
    "y_test = load_data('./data/mnist/test-labels.gz', True).reshape(-1)\n",
    "\n",
    "#\n",
    "# Show some sample images.\n",
    "#\n",
    "\n",
    "count = 0\n",
    "sample_size = 30\n",
    "plt.figure(figsize = (16, 6))\n",
    "for i in np.random.permutation(X_train.shape[0])[:sample_size]:\n",
    "    count = count + 1\n",
    "    plt.subplot(1, sample_size, count)\n",
    "    plt.axhline('')\n",
    "    plt.axvline('')\n",
    "    plt.text(x = 10, y = -10, s = y_train[i], fontsize = 18)\n",
    "    plt.imshow(X_train[i].reshape(28, 28), cmap = plt.cm.Greys)\n",
    "plt.show()\n",
    "\n",
    "#\n",
    "# Convert X_train and X_test to pandas DataFrame and set column names,\n",
    "# This is needed for initializing the input variable names of ONNX model, \n",
    "# and the prediction with the ONNX model using the inference helper.\n",
    "#\n",
    "\n",
    "columns = []\n",
    "for i in range(X_train.shape[1]):\n",
    "    columns.append(\"C\" + str(i + 1).zfill(3))\n",
    "X_train_df = pd.DataFrame(X_train, columns=columns)\n",
    "X_test_df = pd.DataFrame(X_test, columns=columns)\n",
    "\n",
    "print(X_train_df)"
   ]
  },
  {
   "cell_type": "code",
   "execution_count": 6,
   "metadata": {},
   "outputs": [
    {
     "name": "stdout",
     "output_type": "stream",
     "text": [
      "(10000, 784)\n"
     ]
    }
   ],
   "source": [
    "print(X_test_df.shape)"
   ]
  },
  {
   "cell_type": "markdown",
   "metadata": {},
   "source": [
    "## Train with enable ONNX compatible models config on\n",
    "\n",
    "Instantiate an `AutoMLConfig` object to specify the settings and data used to run the experiment.\n",
    "\n",
    "Set the parameter enable_onnx_compatible_models=True, if you also want to generate the ONNX compatible models. Please note, the forecasting task and TensorFlow models are not ONNX compatible yet.\n",
    "\n",
    "|Property|Description|\n",
    "|-|-|\n",
    "|**task**|classification or regression|\n",
    "|**primary_metric**|This is the metric that you want to optimize. Classification supports the following primary metrics: <br><i>accuracy</i><br><i>AUC_weighted</i><br><i>average_precision_score_weighted</i><br><i>norm_macro_recall</i><br><i>precision_score_weighted</i>|\n",
    "|**iteration_timeout_minutes**|Time limit in minutes for each iteration.|\n",
    "|**iterations**|Number of iterations. In each iteration AutoML trains a specific pipeline with the data.|\n",
    "|**X**|(sparse) array-like, shape = [n_samples, n_features]|\n",
    "|**y**|(sparse) array-like, shape = [n_samples, ], Multi-class targets.|\n",
    "|**enable_onnx_compatible_models**|Enable the ONNX compatible models in the experiment.|\n",
    "|**path**|Relative path to the project folder. AutoML stores configuration files for the experiment under this folder. You can specify a new empty folder.|"
   ]
  },
  {
   "cell_type": "code",
   "execution_count": null,
   "metadata": {},
   "outputs": [],
   "source": [
    "automl_config = AutoMLConfig(task = 'classification',\n",
    "                             debug_log = os.path.join(project_folder, 'automl_errors.log'),\n",
    "                             primary_metric = 'AUC_weighted',\n",
    "                             iteration_timeout_minutes = 60,\n",
    "                             iterations = 5,\n",
    "                             verbosity = logging.INFO,\n",
    "                             X = X_train_df,\n",
    "                             y = y_train,\n",
    "                             preprocess=True,\n",
    "                             enable_onnx_compatible_models=True,\n",
    "                             path = project_folder)"
   ]
  },
  {
   "cell_type": "markdown",
   "metadata": {},
   "source": [
    "Call the `submit` method on the experiment object and pass the run configuration. Execution of local runs is synchronous. Depending on the data and the number of iterations this can run for a while.\n",
    "In this example, we specify `show_output = True` to print currently running iterations to the console."
   ]
  },
  {
   "cell_type": "code",
   "execution_count": null,
   "metadata": {},
   "outputs": [],
   "source": [
    "local_run = experiment.submit(automl_config, show_output = True)"
   ]
  },
  {
   "cell_type": "code",
   "execution_count": null,
   "metadata": {},
   "outputs": [],
   "source": [
    "local_run"
   ]
  },
  {
   "cell_type": "markdown",
   "metadata": {},
   "source": [
    "## Results"
   ]
  },
  {
   "cell_type": "markdown",
   "metadata": {},
   "source": [
    "#### Widget for Monitoring Runs\n",
    "\n",
    "The widget will first report a \"loading\" status while running the first iteration. After completing the first iteration, an auto-updating graph and table will be shown. The widget will refresh once per minute, so you should see the graph update as child runs complete.\n",
    "\n",
    "**Note:** The widget displays a link at the bottom. Use this link to open a web interface to explore the individual run details."
   ]
  },
  {
   "cell_type": "code",
   "execution_count": null,
   "metadata": {},
   "outputs": [],
   "source": [
    "from azureml.widgets import RunDetails\n",
    "RunDetails(local_run).show() "
   ]
  },
  {
   "cell_type": "markdown",
   "metadata": {},
   "source": [
    "### Retrieve the best ONNX model\n",
    "\n",
    "Below we select the best pipeline from our iterations. The `get_output` method returns the best run and the fitted model. The Model includes the pipeline and any pre-processing.  Overloads on `get_output` allow you to retrieve the best run and fitted model for *any* logged metric or for a particular *iteration*.\n",
    "\n",
    "Set the parameter return_onnx_model=True to retrieve the best ONNX model, instead of the Python model."
   ]
  },
  {
   "cell_type": "code",
   "execution_count": null,
   "metadata": {},
   "outputs": [],
   "source": [
    "best_run, onnx_mdl = local_run.get_output(return_onnx_model=True)"
   ]
  },
  {
   "cell_type": "markdown",
   "metadata": {},
   "source": [
    "### Save the best ONNX model"
   ]
  },
  {
   "cell_type": "code",
   "execution_count": null,
   "metadata": {},
   "outputs": [],
   "source": [
    "from azureml.automl.core.onnx_convert import OnnxConverter\n",
    "onnx_fl_path = os.path.join(project_folder, \"best_model.onnx\")\n",
    "OnnxConverter.save_onnx_model(onnx_mdl, onnx_fl_path)"
   ]
  },
  {
   "cell_type": "markdown",
   "metadata": {},
   "source": [
    "### (Optional) Predict with the ONNX model, using onnxruntime package"
   ]
  },
  {
   "cell_type": "code",
   "execution_count": 1,
   "metadata": {},
   "outputs": [
    {
     "ename": "NameError",
     "evalue": "name 'onnx_mdl' is not defined",
     "output_type": "error",
     "traceback": [
      "\u001b[0;31m---------------------------------------------------------------------------\u001b[0m",
      "\u001b[0;31mNameError\u001b[0m                                 Traceback (most recent call last)",
      "\u001b[0;32m<ipython-input-1-f6a184c81412>\u001b[0m in \u001b[0;36m<module>\u001b[0;34m\u001b[0m\n\u001b[1;32m     23\u001b[0m \u001b[0;34m\u001b[0m\u001b[0m\n\u001b[1;32m     24\u001b[0m \u001b[0;32mif\u001b[0m \u001b[0monnxrt_present\u001b[0m \u001b[0;32mand\u001b[0m \u001b[0mpython_version_compatible\u001b[0m\u001b[0;34m:\u001b[0m\u001b[0;34m\u001b[0m\u001b[0m\n\u001b[0;32m---> 25\u001b[0;31m     \u001b[0mmdl_bytes\u001b[0m \u001b[0;34m=\u001b[0m \u001b[0monnx_mdl\u001b[0m\u001b[0;34m.\u001b[0m\u001b[0mSerializeToString\u001b[0m\u001b[0;34m(\u001b[0m\u001b[0;34m)\u001b[0m\u001b[0;34m\u001b[0m\u001b[0m\n\u001b[0m\u001b[1;32m     26\u001b[0m     \u001b[0monnx_res\u001b[0m \u001b[0;34m=\u001b[0m \u001b[0mget_onnx_res\u001b[0m\u001b[0;34m(\u001b[0m\u001b[0mbest_run\u001b[0m\u001b[0;34m)\u001b[0m\u001b[0;34m\u001b[0m\u001b[0m\n\u001b[1;32m     27\u001b[0m \u001b[0;34m\u001b[0m\u001b[0m\n",
      "\u001b[0;31mNameError\u001b[0m: name 'onnx_mdl' is not defined"
     ]
    }
   ],
   "source": [
    "import sys\n",
    "import json\n",
    "from azureml.automl.core.onnx_convert import OnnxConvertConstants\n",
    "\n",
    "if sys.version_info < OnnxConvertConstants.OnnxIncompatiblePythonVersion:\n",
    "    python_version_compatible = True\n",
    "else:\n",
    "    python_version_compatible = False\n",
    "\n",
    "try:\n",
    "    import onnxruntime\n",
    "    from azureml.automl.core.onnx_convert import OnnxInferenceHelper    \n",
    "    onnxrt_present = True\n",
    "except ImportError:\n",
    "    onnxrt_present = False\n",
    "\n",
    "def get_onnx_res(run):\n",
    "    res_path = os.path.join(project_folder, '_debug_y_trans_converter.json')\n",
    "    run.download_file(name=constants.MODEL_RESOURCE_PATH_ONNX, output_file_path=res_path)\n",
    "    with open(res_path) as f:\n",
    "        onnx_res = json.load(f)\n",
    "    return onnx_res\n",
    "\n",
    "if onnxrt_present and python_version_compatible:    \n",
    "    mdl_bytes = onnx_mdl.SerializeToString()\n",
    "    onnx_res = get_onnx_res(best_run)\n",
    "\n",
    "    onnxrt_helper = OnnxInferenceHelper(mdl_bytes, onnx_res)\n",
    "    pred_onnx, pred_prob_onnx = onnxrt_helper.predict(X_test_df)\n",
    "\n",
    "    print(pred_onnx)\n",
    "    print(pred_prob_onnx)\n",
    "else:\n",
    "    if not python_version_compatible:\n",
    "        print('Please use Python version 3.6 to run the inference helper.')    \n",
    "    if not onnxrt_present:\n",
    "        print('Please install the onnxruntime package to do the prediction with ONNX model.')"
   ]
  },
  {
   "cell_type": "code",
   "execution_count": null,
   "metadata": {},
   "outputs": [],
   "source": []
  }
 ],
 "metadata": {
  "authors": [
   {
    "name": "savitam"
   }
  ],
  "kernelspec": {
   "display_name": "Python (azure_automl)",
   "language": "python",
   "name": "azure_automl"
  },
  "language_info": {
   "codemirror_mode": {
    "name": "ipython",
    "version": 3
   },
   "file_extension": ".py",
   "mimetype": "text/x-python",
   "name": "python",
   "nbconvert_exporter": "python",
   "pygments_lexer": "ipython3",
   "version": "3.6.6"
  }
 },
 "nbformat": 4,
 "nbformat_minor": 2
}
