{
  "cells": [
    {
      "metadata": {},
      "cell_type": "markdown",
      "source": "# Ridge regression with polynomial features of degree 2\n"
    },
    {
      "metadata": {
        "trusted": true
      },
      "cell_type": "code",
      "source": "%matplotlib inline\nimport pandas as pd\nimport numpy as np\nimport matplotlib\nmatplotlib.use('Agg')\nimport matplotlib.pyplot as plt\nfrom sklearn.pipeline import Pipeline\nfrom sklearn.preprocessing import OneHotEncoder\nfrom sklearn.linear_model import Ridge\nfrom sklearn.metrics import mean_squared_error\nfrom sklearn.model_selection import TimeSeriesSplit\nfrom sklearn.model_selection import RandomizedSearchCV\nfrom sklearn.preprocessing import PolynomialFeatures\nimport pickle\nimport os\nimport scipy.stats as st",
      "execution_count": 1,
      "outputs": [
        {
          "output_type": "stream",
          "text": "/home/nbuser/anaconda3_501/lib/python3.6/site-packages/ipykernel/__main__.py:5: UserWarning: matplotlib.pyplot as already been imported, this call will have no effect.\n",
          "name": "stderr"
        }
      ]
    },
    {
      "metadata": {
        "trusted": true
      },
      "cell_type": "code",
      "source": "model_name = \"ridge_poly2\"\naml_dir = './data/'\ntrain = pd.read_csv(os.path.join(aml_dir, 'nyc_demand_train.csv'), parse_dates=['timeStamp'])",
      "execution_count": 2,
      "outputs": []
    },
    {
      "metadata": {},
      "cell_type": "markdown",
      "source": "Create model pipeline:\n- one-hot encode categorical features.\n- create polynomial features of degree 2. This means that for each pair of features $(x_1, x_2)$, the output features are $(x_1, x_2, x_1^2, x_1x_2, x_2^2)$\n- randomized parameter search with cross validation to find optimal values for the alpha parameter\n\nNote - to limit the training time, the number of iterations for the randomized search has been set to 20. This should train in about 3 minutes. increasing the number of iterations will increase the likelihood of finding the optimum solution but also increase training times. "
    },
    {
      "metadata": {
        "trusted": true
      },
      "cell_type": "code",
      "source": "X = train.drop(['demand', 'timeStamp'], axis=1)",
      "execution_count": 3,
      "outputs": []
    },
    {
      "metadata": {
        "trusted": true
      },
      "cell_type": "code",
      "source": "cat_cols = ['hour', 'month', 'dayofweek']\ncat_cols_idx = [X.columns.get_loc(c) for c in X.columns if c in cat_cols]\nonehot = OneHotEncoder(categorical_features=cat_cols_idx, sparse=False)\nregr = Ridge(fit_intercept=False)\npoly = PolynomialFeatures(2)\ntscv = TimeSeriesSplit(n_splits=3)",
      "execution_count": 4,
      "outputs": []
    },
    {
      "metadata": {
        "trusted": true
      },
      "cell_type": "code",
      "source": "param_dist = {'alpha': st.uniform(1e-4, 5.0)}\nregr_cv = RandomizedSearchCV(estimator=regr,\n                            param_distributions=param_dist,\n                            n_iter=20,\n                            scoring='neg_mean_squared_error',\n                            iid=False,\n                            cv=tscv,\n                            verbose=2,\n                            n_jobs=1)\nregr_pipe = Pipeline([('onehot', onehot), ('poly', poly), ('regr_cv', regr_cv)])\nregr_pipe.fit(X, y=train['demand'])",
      "execution_count": 5,
      "outputs": [
        {
          "output_type": "stream",
          "text": "Fitting 3 folds for each of 20 candidates, totalling 60 fits\n[CV] alpha=2.7760176790054576 ........................................\n",
          "name": "stdout"
        },
        {
          "output_type": "stream",
          "text": "/home/nbuser/anaconda3_501/lib/python3.6/site-packages/sklearn/linear_model/ridge.py:112: LinAlgWarning: scipy.linalg.solve\nIll-conditioned matrix detected. Result is not guaranteed to be accurate.\nReciprocal condition number1.619367e-21\n  overwrite_a=True).T\n[Parallel(n_jobs=1)]: Done   1 out of   1 | elapsed:   29.5s remaining:    0.0s\n",
          "name": "stderr"
        },
        {
          "output_type": "stream",
          "text": "[CV] ......................... alpha=2.7760176790054576, total=  29.4s\n[CV] alpha=2.7760176790054576 ........................................\n",
          "name": "stdout"
        },
        {
          "output_type": "stream",
          "text": "/home/nbuser/anaconda3_501/lib/python3.6/site-packages/sklearn/linear_model/ridge.py:112: LinAlgWarning: scipy.linalg.solve\nIll-conditioned matrix detected. Result is not guaranteed to be accurate.\nReciprocal condition number7.560489e-22\n  overwrite_a=True).T\n",
          "name": "stderr"
        },
        {
          "output_type": "stream",
          "text": "[CV] ......................... alpha=2.7760176790054576, total=  33.7s\n[CV] alpha=2.7760176790054576 ........................................\n",
          "name": "stdout"
        },
        {
          "output_type": "stream",
          "text": "/home/nbuser/anaconda3_501/lib/python3.6/site-packages/sklearn/linear_model/ridge.py:112: LinAlgWarning: scipy.linalg.solve\nIll-conditioned matrix detected. Result is not guaranteed to be accurate.\nReciprocal condition number5.166101e-22\n  overwrite_a=True).T\n",
          "name": "stderr"
        },
        {
          "output_type": "stream",
          "text": "[CV] ......................... alpha=2.7760176790054576, total= 1.1min\n[CV] alpha=4.7612405132460545 ........................................\n",
          "name": "stdout"
        },
        {
          "output_type": "stream",
          "text": "/home/nbuser/anaconda3_501/lib/python3.6/site-packages/sklearn/linear_model/ridge.py:112: LinAlgWarning: scipy.linalg.solve\nIll-conditioned matrix detected. Result is not guaranteed to be accurate.\nReciprocal condition number3.015097e-21\n  overwrite_a=True).T\n",
          "name": "stderr"
        },
        {
          "output_type": "stream",
          "text": "[CV] ......................... alpha=4.7612405132460545, total=  16.1s\n[CV] alpha=4.7612405132460545 ........................................\n",
          "name": "stdout"
        },
        {
          "output_type": "stream",
          "text": "/home/nbuser/anaconda3_501/lib/python3.6/site-packages/sklearn/linear_model/ridge.py:112: LinAlgWarning: scipy.linalg.solve\nIll-conditioned matrix detected. Result is not guaranteed to be accurate.\nReciprocal condition number1.365657e-21\n  overwrite_a=True).T\n",
          "name": "stderr"
        },
        {
          "output_type": "stream",
          "text": "[CV] ......................... alpha=4.7612405132460545, total=   8.8s\n[CV] alpha=4.7612405132460545 ........................................\n",
          "name": "stdout"
        },
        {
          "output_type": "stream",
          "text": "/home/nbuser/anaconda3_501/lib/python3.6/site-packages/sklearn/linear_model/ridge.py:112: LinAlgWarning: scipy.linalg.solve\nIll-conditioned matrix detected. Result is not guaranteed to be accurate.\nReciprocal condition number9.262717e-22\n  overwrite_a=True).T\n",
          "name": "stderr"
        },
        {
          "output_type": "stream",
          "text": "[CV] ......................... alpha=4.7612405132460545, total=  40.2s\n[CV] alpha=2.9866481954207247 ........................................\n",
          "name": "stdout"
        },
        {
          "output_type": "stream",
          "text": "/home/nbuser/anaconda3_501/lib/python3.6/site-packages/sklearn/linear_model/ridge.py:112: LinAlgWarning: scipy.linalg.solve\nIll-conditioned matrix detected. Result is not guaranteed to be accurate.\nReciprocal condition number1.759894e-21\n  overwrite_a=True).T\n",
          "name": "stderr"
        },
        {
          "output_type": "stream",
          "text": "[CV] ......................... alpha=2.9866481954207247, total=   7.1s\n[CV] alpha=2.9866481954207247 ........................................\n",
          "name": "stdout"
        },
        {
          "output_type": "stream",
          "text": "/home/nbuser/anaconda3_501/lib/python3.6/site-packages/sklearn/linear_model/ridge.py:112: LinAlgWarning: scipy.linalg.solve\nIll-conditioned matrix detected. Result is not guaranteed to be accurate.\nReciprocal condition number8.180976e-22\n  overwrite_a=True).T\n",
          "name": "stderr"
        },
        {
          "output_type": "stream",
          "text": "[CV] ......................... alpha=2.9866481954207247, total=  14.8s\n[CV] alpha=2.9866481954207247 ........................................\n",
          "name": "stdout"
        },
        {
          "output_type": "stream",
          "text": "/home/nbuser/anaconda3_501/lib/python3.6/site-packages/sklearn/linear_model/ridge.py:112: LinAlgWarning: scipy.linalg.solve\nIll-conditioned matrix detected. Result is not guaranteed to be accurate.\nReciprocal condition number5.592079e-22\n  overwrite_a=True).T\n",
          "name": "stderr"
        },
        {
          "output_type": "stream",
          "text": "[CV] ......................... alpha=2.9866481954207247, total= 1.1min\n[CV] alpha=2.139040916898977 .........................................\n",
          "name": "stdout"
        },
        {
          "output_type": "stream",
          "text": "/home/nbuser/anaconda3_501/lib/python3.6/site-packages/sklearn/linear_model/ridge.py:112: LinAlgWarning: scipy.linalg.solve\nIll-conditioned matrix detected. Result is not guaranteed to be accurate.\nReciprocal condition number1.207830e-21\n  overwrite_a=True).T\n",
          "name": "stderr"
        },
        {
          "output_type": "stream",
          "text": "[CV] .......................... alpha=2.139040916898977, total=   8.9s\n[CV] alpha=2.139040916898977 .........................................\n",
          "name": "stdout"
        },
        {
          "output_type": "stream",
          "text": "/home/nbuser/anaconda3_501/lib/python3.6/site-packages/sklearn/linear_model/ridge.py:112: LinAlgWarning: scipy.linalg.solve\nIll-conditioned matrix detected. Result is not guaranteed to be accurate.\nReciprocal condition number5.712724e-22\n  overwrite_a=True).T\n",
          "name": "stderr"
        },
        {
          "output_type": "stream",
          "text": "[CV] .......................... alpha=2.139040916898977, total=  13.2s\n[CV] alpha=2.139040916898977 .........................................\n",
          "name": "stdout"
        },
        {
          "output_type": "stream",
          "text": "/home/nbuser/anaconda3_501/lib/python3.6/site-packages/sklearn/linear_model/ridge.py:112: LinAlgWarning: scipy.linalg.solve\nIll-conditioned matrix detected. Result is not guaranteed to be accurate.\nReciprocal condition number3.899846e-22\n  overwrite_a=True).T\n",
          "name": "stderr"
        },
        {
          "output_type": "stream",
          "text": "[CV] .......................... alpha=2.139040916898977, total=  34.0s\n[CV] alpha=1.3050500265371257 ........................................\n",
          "name": "stdout"
        },
        {
          "output_type": "stream",
          "text": "/home/nbuser/anaconda3_501/lib/python3.6/site-packages/sklearn/linear_model/ridge.py:112: LinAlgWarning: scipy.linalg.solve\nIll-conditioned matrix detected. Result is not guaranteed to be accurate.\nReciprocal condition number7.033478e-22\n  overwrite_a=True).T\n",
          "name": "stderr"
        },
        {
          "output_type": "stream",
          "text": "[CV] ......................... alpha=1.3050500265371257, total=   6.4s\n[CV] alpha=1.3050500265371257 ........................................\n",
          "name": "stdout"
        },
        {
          "output_type": "stream",
          "text": "/home/nbuser/anaconda3_501/lib/python3.6/site-packages/sklearn/linear_model/ridge.py:112: LinAlgWarning: scipy.linalg.solve\nIll-conditioned matrix detected. Result is not guaranteed to be accurate.\nReciprocal condition number3.362386e-22\n  overwrite_a=True).T\n",
          "name": "stderr"
        },
        {
          "output_type": "stream",
          "text": "[CV] ......................... alpha=1.3050500265371257, total=  13.0s\n[CV] alpha=1.3050500265371257 ........................................\n",
          "name": "stdout"
        },
        {
          "output_type": "stream",
          "text": "/home/nbuser/anaconda3_501/lib/python3.6/site-packages/sklearn/linear_model/ridge.py:112: LinAlgWarning: scipy.linalg.solve\nIll-conditioned matrix detected. Result is not guaranteed to be accurate.\nReciprocal condition number2.290447e-22\n  overwrite_a=True).T\n",
          "name": "stderr"
        },
        {
          "output_type": "stream",
          "text": "[CV] ......................... alpha=1.3050500265371257, total=  20.2s\n[CV] alpha=3.054970746732062 .........................................\n",
          "name": "stdout"
        },
        {
          "output_type": "stream",
          "text": "/home/nbuser/anaconda3_501/lib/python3.6/site-packages/sklearn/linear_model/ridge.py:112: LinAlgWarning: scipy.linalg.solve\nIll-conditioned matrix detected. Result is not guaranteed to be accurate.\nReciprocal condition number1.805890e-21\n  overwrite_a=True).T\n",
          "name": "stderr"
        },
        {
          "output_type": "stream",
          "text": "[CV] .......................... alpha=3.054970746732062, total=   5.4s\n[CV] alpha=3.054970746732062 .........................................\n",
          "name": "stdout"
        },
        {
          "output_type": "stream",
          "text": "/home/nbuser/anaconda3_501/lib/python3.6/site-packages/sklearn/linear_model/ridge.py:112: LinAlgWarning: scipy.linalg.solve\nIll-conditioned matrix detected. Result is not guaranteed to be accurate.\nReciprocal condition number8.383788e-22\n  overwrite_a=True).T\n",
          "name": "stderr"
        },
        {
          "output_type": "stream",
          "text": "[CV] .......................... alpha=3.054970746732062, total=   9.2s\n[CV] alpha=3.054970746732062 .........................................\n",
          "name": "stdout"
        },
        {
          "output_type": "stream",
          "text": "/home/nbuser/anaconda3_501/lib/python3.6/site-packages/sklearn/linear_model/ridge.py:112: LinAlgWarning: scipy.linalg.solve\nIll-conditioned matrix detected. Result is not guaranteed to be accurate.\nReciprocal condition number5.730957e-22\n  overwrite_a=True).T\n",
          "name": "stderr"
        },
        {
          "output_type": "stream",
          "text": "[CV] .......................... alpha=3.054970746732062, total=  17.0s\n[CV] alpha=2.1392363363086804 ........................................\n",
          "name": "stdout"
        },
        {
          "output_type": "stream",
          "text": "/home/nbuser/anaconda3_501/lib/python3.6/site-packages/sklearn/linear_model/ridge.py:112: LinAlgWarning: scipy.linalg.solve\nIll-conditioned matrix detected. Result is not guaranteed to be accurate.\nReciprocal condition number1.207953e-21\n  overwrite_a=True).T\n",
          "name": "stderr"
        },
        {
          "output_type": "stream",
          "text": "[CV] ......................... alpha=2.1392363363086804, total=   7.1s\n[CV] alpha=2.1392363363086804 ........................................\n",
          "name": "stdout"
        },
        {
          "output_type": "stream",
          "text": "/home/nbuser/anaconda3_501/lib/python3.6/site-packages/sklearn/linear_model/ridge.py:112: LinAlgWarning: scipy.linalg.solve\nIll-conditioned matrix detected. Result is not guaranteed to be accurate.\nReciprocal condition number5.713286e-22\n  overwrite_a=True).T\n",
          "name": "stderr"
        },
        {
          "output_type": "stream",
          "text": "[CV] ......................... alpha=2.1392363363086804, total=  12.8s\n[CV] alpha=2.1392363363086804 ........................................\n",
          "name": "stdout"
        },
        {
          "output_type": "stream",
          "text": "/home/nbuser/anaconda3_501/lib/python3.6/site-packages/sklearn/linear_model/ridge.py:112: LinAlgWarning: scipy.linalg.solve\nIll-conditioned matrix detected. Result is not guaranteed to be accurate.\nReciprocal condition number3.900228e-22\n  overwrite_a=True).T\n",
          "name": "stderr"
        },
        {
          "output_type": "stream",
          "text": "[CV] ......................... alpha=2.1392363363086804, total= 1.5min\n[CV] alpha=0.03426772334035867 .......................................\n",
          "name": "stdout"
        },
        {
          "output_type": "stream",
          "text": "/home/nbuser/anaconda3_501/lib/python3.6/site-packages/sklearn/linear_model/ridge.py:112: LinAlgWarning: scipy.linalg.solve\nIll-conditioned matrix detected. Result is not guaranteed to be accurate.\nReciprocal condition number1.545093e-23\n  overwrite_a=True).T\n",
          "name": "stderr"
        },
        {
          "output_type": "stream",
          "text": "[CV] ........................ alpha=0.03426772334035867, total=  10.1s\n[CV] alpha=0.03426772334035867 .......................................\n",
          "name": "stdout"
        },
        {
          "output_type": "stream",
          "text": "/home/nbuser/anaconda3_501/lib/python3.6/site-packages/sklearn/linear_model/ridge.py:112: LinAlgWarning: scipy.linalg.solve\nIll-conditioned matrix detected. Result is not guaranteed to be accurate.\nReciprocal condition number7.637981e-24\n  overwrite_a=True).T\n",
          "name": "stderr"
        },
        {
          "output_type": "stream",
          "text": "[CV] ........................ alpha=0.03426772334035867, total=  19.3s\n[CV] alpha=0.03426772334035867 .......................................\n",
          "name": "stdout"
        },
        {
          "output_type": "stream",
          "text": "/home/nbuser/anaconda3_501/lib/python3.6/site-packages/sklearn/linear_model/ridge.py:112: LinAlgWarning: scipy.linalg.solve\nIll-conditioned matrix detected. Result is not guaranteed to be accurate.\nReciprocal condition number5.304264e-24\n  overwrite_a=True).T\n",
          "name": "stderr"
        },
        {
          "output_type": "stream",
          "text": "[CV] ........................ alpha=0.03426772334035867, total=  30.1s\n[CV] alpha=0.9574985905391896 ........................................\n",
          "name": "stdout"
        },
        {
          "output_type": "stream",
          "text": "/home/nbuser/anaconda3_501/lib/python3.6/site-packages/sklearn/linear_model/ridge.py:112: LinAlgWarning: scipy.linalg.solve\nIll-conditioned matrix detected. Result is not guaranteed to be accurate.\nReciprocal condition number5.048370e-22\n  overwrite_a=True).T\n",
          "name": "stderr"
        },
        {
          "output_type": "stream",
          "text": "[CV] ......................... alpha=0.9574985905391896, total=   5.4s\n[CV] alpha=0.9574985905391896 ........................................\n",
          "name": "stdout"
        },
        {
          "output_type": "stream",
          "text": "/home/nbuser/anaconda3_501/lib/python3.6/site-packages/sklearn/linear_model/ridge.py:112: LinAlgWarning: scipy.linalg.solve\nIll-conditioned matrix detected. Result is not guaranteed to be accurate.\nReciprocal condition number2.414833e-22\n  overwrite_a=True).T\n",
          "name": "stderr"
        },
        {
          "output_type": "stream",
          "text": "[CV] ......................... alpha=0.9574985905391896, total=  10.6s\n[CV] alpha=0.9574985905391896 ........................................\n",
          "name": "stdout"
        },
        {
          "output_type": "stream",
          "text": "/home/nbuser/anaconda3_501/lib/python3.6/site-packages/sklearn/linear_model/ridge.py:112: LinAlgWarning: scipy.linalg.solve\nIll-conditioned matrix detected. Result is not guaranteed to be accurate.\nReciprocal condition number1.648743e-22\n  overwrite_a=True).T\n",
          "name": "stderr"
        },
        {
          "output_type": "stream",
          "text": "[CV] ......................... alpha=0.9574985905391896, total=  13.6s\n[CV] alpha=3.7496345847160213 ........................................\n",
          "name": "stdout"
        },
        {
          "output_type": "stream",
          "text": "/home/nbuser/anaconda3_501/lib/python3.6/site-packages/sklearn/linear_model/ridge.py:112: LinAlgWarning: scipy.linalg.solve\nIll-conditioned matrix detected. Result is not guaranteed to be accurate.\nReciprocal condition number2.283861e-21\n  overwrite_a=True).T\n",
          "name": "stderr"
        },
        {
          "output_type": "stream",
          "text": "[CV] ......................... alpha=3.7496345847160213, total=   5.2s\n[CV] alpha=3.7496345847160213 ........................................\n",
          "name": "stdout"
        },
        {
          "output_type": "stream",
          "text": "/home/nbuser/anaconda3_501/lib/python3.6/site-packages/sklearn/linear_model/ridge.py:112: LinAlgWarning: scipy.linalg.solve\nIll-conditioned matrix detected. Result is not guaranteed to be accurate.\nReciprocal condition number1.048576e-21\n  overwrite_a=True).T\n",
          "name": "stderr"
        },
        {
          "output_type": "stream",
          "text": "[CV] ......................... alpha=3.7496345847160213, total=  10.3s\n[CV] alpha=3.7496345847160213 ........................................\n",
          "name": "stdout"
        },
        {
          "output_type": "stream",
          "text": "/home/nbuser/anaconda3_501/lib/python3.6/site-packages/sklearn/linear_model/ridge.py:112: LinAlgWarning: scipy.linalg.solve\nIll-conditioned matrix detected. Result is not guaranteed to be accurate.\nReciprocal condition number7.144784e-22\n  overwrite_a=True).T\n",
          "name": "stderr"
        },
        {
          "output_type": "stream",
          "text": "[CV] ......................... alpha=3.7496345847160213, total=  13.4s\n[CV] alpha=4.17552220810957 ..........................................\n",
          "name": "stdout"
        },
        {
          "output_type": "stream",
          "text": "/home/nbuser/anaconda3_501/lib/python3.6/site-packages/sklearn/linear_model/ridge.py:112: LinAlgWarning: scipy.linalg.solve\nIll-conditioned matrix detected. Result is not guaranteed to be accurate.\nReciprocal condition number2.586390e-21\n  overwrite_a=True).T\n",
          "name": "stderr"
        },
        {
          "output_type": "stream",
          "text": "[CV] ........................... alpha=4.17552220810957, total=   5.4s\n[CV] alpha=4.17552220810957 ..........................................\n",
          "name": "stdout"
        },
        {
          "output_type": "stream",
          "text": "/home/nbuser/anaconda3_501/lib/python3.6/site-packages/sklearn/linear_model/ridge.py:112: LinAlgWarning: scipy.linalg.solve\nIll-conditioned matrix detected. Result is not guaranteed to be accurate.\nReciprocal condition number1.180622e-21\n  overwrite_a=True).T\n",
          "name": "stderr"
        },
        {
          "output_type": "stream",
          "text": "[CV] ........................... alpha=4.17552220810957, total=   8.6s\n[CV] alpha=4.17552220810957 ..........................................\n",
          "name": "stdout"
        },
        {
          "output_type": "stream",
          "text": "/home/nbuser/anaconda3_501/lib/python3.6/site-packages/sklearn/linear_model/ridge.py:112: LinAlgWarning: scipy.linalg.solve\nIll-conditioned matrix detected. Result is not guaranteed to be accurate.\nReciprocal condition number8.028082e-22\n  overwrite_a=True).T\n",
          "name": "stderr"
        },
        {
          "output_type": "stream",
          "text": "[CV] ........................... alpha=4.17552220810957, total=  13.9s\n[CV] alpha=3.2331180765848524 ........................................\n",
          "name": "stdout"
        },
        {
          "output_type": "stream",
          "text": "/home/nbuser/anaconda3_501/lib/python3.6/site-packages/sklearn/linear_model/ridge.py:112: LinAlgWarning: scipy.linalg.solve\nIll-conditioned matrix detected. Result is not guaranteed to be accurate.\nReciprocal condition number1.926751e-21\n  overwrite_a=True).T\n",
          "name": "stderr"
        },
        {
          "output_type": "stream",
          "text": "[CV] ......................... alpha=3.2331180765848524, total=   4.8s\n[CV] alpha=3.2331180765848524 ........................................\n",
          "name": "stdout"
        },
        {
          "output_type": "stream",
          "text": "/home/nbuser/anaconda3_501/lib/python3.6/site-packages/sklearn/linear_model/ridge.py:112: LinAlgWarning: scipy.linalg.solve\nIll-conditioned matrix detected. Result is not guaranteed to be accurate.\nReciprocal condition number8.916685e-22\n  overwrite_a=True).T\n",
          "name": "stderr"
        },
        {
          "output_type": "stream",
          "text": "[CV] ......................... alpha=3.2331180765848524, total=   9.9s\n[CV] alpha=3.2331180765848524 ........................................\n",
          "name": "stdout"
        },
        {
          "output_type": "stream",
          "text": "/home/nbuser/anaconda3_501/lib/python3.6/site-packages/sklearn/linear_model/ridge.py:112: LinAlgWarning: scipy.linalg.solve\nIll-conditioned matrix detected. Result is not guaranteed to be accurate.\nReciprocal condition number6.092436e-22\n  overwrite_a=True).T\n",
          "name": "stderr"
        },
        {
          "output_type": "stream",
          "text": "[CV] ......................... alpha=3.2331180765848524, total=  12.9s\n[CV] alpha=2.893668893540443 .........................................\n",
          "name": "stdout"
        },
        {
          "output_type": "stream",
          "text": "/home/nbuser/anaconda3_501/lib/python3.6/site-packages/sklearn/linear_model/ridge.py:112: LinAlgWarning: scipy.linalg.solve\nIll-conditioned matrix detected. Result is not guaranteed to be accurate.\nReciprocal condition number1.697638e-21\n  overwrite_a=True).T\n",
          "name": "stderr"
        },
        {
          "output_type": "stream",
          "text": "[CV] .......................... alpha=2.893668893540443, total=   4.5s\n[CV] alpha=2.893668893540443 .........................................\n",
          "name": "stdout"
        },
        {
          "output_type": "stream",
          "text": "/home/nbuser/anaconda3_501/lib/python3.6/site-packages/sklearn/linear_model/ridge.py:112: LinAlgWarning: scipy.linalg.solve\nIll-conditioned matrix detected. Result is not guaranteed to be accurate.\nReciprocal condition number7.906223e-22\n  overwrite_a=True).T\n",
          "name": "stderr"
        },
        {
          "output_type": "stream",
          "text": "[CV] .......................... alpha=2.893668893540443, total=  10.5s\n[CV] alpha=2.893668893540443 .........................................\n",
          "name": "stdout"
        },
        {
          "output_type": "stream",
          "text": "/home/nbuser/anaconda3_501/lib/python3.6/site-packages/sklearn/linear_model/ridge.py:112: LinAlgWarning: scipy.linalg.solve\nIll-conditioned matrix detected. Result is not guaranteed to be accurate.\nReciprocal condition number5.403760e-22\n  overwrite_a=True).T\n",
          "name": "stderr"
        },
        {
          "output_type": "stream",
          "text": "[CV] .......................... alpha=2.893668893540443, total=  14.6s\n[CV] alpha=3.725508721339082 .........................................\n",
          "name": "stdout"
        },
        {
          "output_type": "stream",
          "text": "/home/nbuser/anaconda3_501/lib/python3.6/site-packages/sklearn/linear_model/ridge.py:112: LinAlgWarning: scipy.linalg.solve\nIll-conditioned matrix detected. Result is not guaranteed to be accurate.\nReciprocal condition number2.266997e-21\n  overwrite_a=True).T\n",
          "name": "stderr"
        },
        {
          "output_type": "stream",
          "text": "[CV] .......................... alpha=3.725508721339082, total=   4.5s\n[CV] alpha=3.725508721339082 .........................................\n",
          "name": "stdout"
        },
        {
          "output_type": "stream",
          "text": "/home/nbuser/anaconda3_501/lib/python3.6/site-packages/sklearn/linear_model/ridge.py:112: LinAlgWarning: scipy.linalg.solve\nIll-conditioned matrix detected. Result is not guaranteed to be accurate.\nReciprocal condition number1.041180e-21\n  overwrite_a=True).T\n",
          "name": "stderr"
        },
        {
          "output_type": "stream",
          "text": "[CV] .......................... alpha=3.725508721339082, total=  10.0s\n[CV] alpha=3.725508721339082 .........................................\n",
          "name": "stdout"
        },
        {
          "output_type": "stream",
          "text": "/home/nbuser/anaconda3_501/lib/python3.6/site-packages/sklearn/linear_model/ridge.py:112: LinAlgWarning: scipy.linalg.solve\nIll-conditioned matrix detected. Result is not guaranteed to be accurate.\nReciprocal condition number7.095263e-22\n  overwrite_a=True).T\n",
          "name": "stderr"
        },
        {
          "output_type": "stream",
          "text": "[CV] .......................... alpha=3.725508721339082, total=  12.9s\n[CV] alpha=2.105323835705572 .........................................\n",
          "name": "stdout"
        },
        {
          "output_type": "stream",
          "text": "/home/nbuser/anaconda3_501/lib/python3.6/site-packages/sklearn/linear_model/ridge.py:112: LinAlgWarning: scipy.linalg.solve\nIll-conditioned matrix detected. Result is not guaranteed to be accurate.\nReciprocal condition number1.186623e-21\n  overwrite_a=True).T\n",
          "name": "stderr"
        },
        {
          "output_type": "stream",
          "text": "[CV] .......................... alpha=2.105323835705572, total=   5.4s\n[CV] alpha=2.105323835705572 .........................................\n",
          "name": "stdout"
        },
        {
          "output_type": "stream",
          "text": "/home/nbuser/anaconda3_501/lib/python3.6/site-packages/sklearn/linear_model/ridge.py:112: LinAlgWarning: scipy.linalg.solve\nIll-conditioned matrix detected. Result is not guaranteed to be accurate.\nReciprocal condition number5.616012e-22\n  overwrite_a=True).T\n",
          "name": "stderr"
        },
        {
          "output_type": "stream",
          "text": "[CV] .......................... alpha=2.105323835705572, total=   6.1s\n[CV] alpha=2.105323835705572 .........................................\n",
          "name": "stdout"
        },
        {
          "output_type": "stream",
          "text": "/home/nbuser/anaconda3_501/lib/python3.6/site-packages/sklearn/linear_model/ridge.py:112: LinAlgWarning: scipy.linalg.solve\nIll-conditioned matrix detected. Result is not guaranteed to be accurate.\nReciprocal condition number3.833626e-22\n  overwrite_a=True).T\n",
          "name": "stderr"
        },
        {
          "output_type": "stream",
          "text": "[CV] .......................... alpha=2.105323835705572, total=   8.5s\n[CV] alpha=1.303707200272006 .........................................\n",
          "name": "stdout"
        },
        {
          "output_type": "stream",
          "text": "/home/nbuser/anaconda3_501/lib/python3.6/site-packages/sklearn/linear_model/ridge.py:112: LinAlgWarning: scipy.linalg.solve\nIll-conditioned matrix detected. Result is not guaranteed to be accurate.\nReciprocal condition number7.025691e-22\n  overwrite_a=True).T\n",
          "name": "stderr"
        },
        {
          "output_type": "stream",
          "text": "[CV] .......................... alpha=1.303707200272006, total=   3.3s\n[CV] alpha=1.303707200272006 .........................................\n",
          "name": "stdout"
        },
        {
          "output_type": "stream",
          "text": "/home/nbuser/anaconda3_501/lib/python3.6/site-packages/sklearn/linear_model/ridge.py:112: LinAlgWarning: scipy.linalg.solve\nIll-conditioned matrix detected. Result is not guaranteed to be accurate.\nReciprocal condition number3.358663e-22\n  overwrite_a=True).T\n",
          "name": "stderr"
        },
        {
          "output_type": "stream",
          "text": "[CV] .......................... alpha=1.303707200272006, total=   6.1s\n[CV] alpha=1.303707200272006 .........................................\n",
          "name": "stdout"
        },
        {
          "output_type": "stream",
          "text": "/home/nbuser/anaconda3_501/lib/python3.6/site-packages/sklearn/linear_model/ridge.py:112: LinAlgWarning: scipy.linalg.solve\nIll-conditioned matrix detected. Result is not guaranteed to be accurate.\nReciprocal condition number2.287943e-22\n  overwrite_a=True).T\n",
          "name": "stderr"
        },
        {
          "output_type": "stream",
          "text": "[CV] .......................... alpha=1.303707200272006, total=   9.7s\n[CV] alpha=0.8504931510309715 ........................................\n",
          "name": "stdout"
        },
        {
          "output_type": "stream",
          "text": "/home/nbuser/anaconda3_501/lib/python3.6/site-packages/sklearn/linear_model/ridge.py:112: LinAlgWarning: scipy.linalg.solve\nIll-conditioned matrix detected. Result is not guaranteed to be accurate.\nReciprocal condition number4.451480e-22\n  overwrite_a=True).T\n",
          "name": "stderr"
        },
        {
          "output_type": "stream",
          "text": "[CV] ......................... alpha=0.8504931510309715, total=   3.2s\n[CV] alpha=0.8504931510309715 ........................................\n",
          "name": "stdout"
        },
        {
          "output_type": "stream",
          "text": "/home/nbuser/anaconda3_501/lib/python3.6/site-packages/sklearn/linear_model/ridge.py:112: LinAlgWarning: scipy.linalg.solve\nIll-conditioned matrix detected. Result is not guaranteed to be accurate.\nReciprocal condition number2.130191e-22\n  overwrite_a=True).T\n",
          "name": "stderr"
        },
        {
          "output_type": "stream",
          "text": "[CV] ......................... alpha=0.8504931510309715, total=   4.6s\n[CV] alpha=0.8504931510309715 ........................................\n",
          "name": "stdout"
        },
        {
          "output_type": "stream",
          "text": "/home/nbuser/anaconda3_501/lib/python3.6/site-packages/sklearn/linear_model/ridge.py:112: LinAlgWarning: scipy.linalg.solve\nIll-conditioned matrix detected. Result is not guaranteed to be accurate.\nReciprocal condition number1.452017e-22\n  overwrite_a=True).T\n",
          "name": "stderr"
        },
        {
          "output_type": "stream",
          "text": "[CV] ......................... alpha=0.8504931510309715, total=   4.4s\n[CV] alpha=4.514220892092216 .........................................\n",
          "name": "stdout"
        },
        {
          "output_type": "stream",
          "text": "/home/nbuser/anaconda3_501/lib/python3.6/site-packages/sklearn/linear_model/ridge.py:112: LinAlgWarning: scipy.linalg.solve\nIll-conditioned matrix detected. Result is not guaranteed to be accurate.\nReciprocal condition number2.832521e-21\n  overwrite_a=True).T\n",
          "name": "stderr"
        },
        {
          "output_type": "stream",
          "text": "[CV] .......................... alpha=4.514220892092216, total=   1.8s\n[CV] alpha=4.514220892092216 .........................................\n",
          "name": "stdout"
        },
        {
          "output_type": "stream",
          "text": "/home/nbuser/anaconda3_501/lib/python3.6/site-packages/sklearn/linear_model/ridge.py:112: LinAlgWarning: scipy.linalg.solve\nIll-conditioned matrix detected. Result is not guaranteed to be accurate.\nReciprocal condition number1.287193e-21\n  overwrite_a=True).T\n",
          "name": "stderr"
        },
        {
          "output_type": "stream",
          "text": "[CV] .......................... alpha=4.514220892092216, total=   2.8s\n[CV] alpha=4.514220892092216 .........................................\n",
          "name": "stdout"
        },
        {
          "output_type": "stream",
          "text": "/home/nbuser/anaconda3_501/lib/python3.6/site-packages/sklearn/linear_model/ridge.py:112: LinAlgWarning: scipy.linalg.solve\nIll-conditioned matrix detected. Result is not guaranteed to be accurate.\nReciprocal condition number8.742087e-22\n  overwrite_a=True).T\n",
          "name": "stderr"
        },
        {
          "output_type": "stream",
          "text": "[CV] .......................... alpha=4.514220892092216, total=   4.6s\n[CV] alpha=4.54424052685573 ..........................................\n",
          "name": "stdout"
        },
        {
          "output_type": "stream",
          "text": "/home/nbuser/anaconda3_501/lib/python3.6/site-packages/sklearn/linear_model/ridge.py:112: LinAlgWarning: scipy.linalg.solve\nIll-conditioned matrix detected. Result is not guaranteed to be accurate.\nReciprocal condition number2.854562e-21\n  overwrite_a=True).T\n",
          "name": "stderr"
        },
        {
          "output_type": "stream",
          "text": "[CV] ........................... alpha=4.54424052685573, total=   1.8s\n[CV] alpha=4.54424052685573 ..........................................\n",
          "name": "stdout"
        },
        {
          "output_type": "stream",
          "text": "/home/nbuser/anaconda3_501/lib/python3.6/site-packages/sklearn/linear_model/ridge.py:112: LinAlgWarning: scipy.linalg.solve\nIll-conditioned matrix detected. Result is not guaranteed to be accurate.\nReciprocal condition number1.296688e-21\n  overwrite_a=True).T\n",
          "name": "stderr"
        },
        {
          "output_type": "stream",
          "text": "[CV] ........................... alpha=4.54424052685573, total=   3.2s\n[CV] alpha=4.54424052685573 ..........................................\n",
          "name": "stdout"
        },
        {
          "output_type": "stream",
          "text": "/home/nbuser/anaconda3_501/lib/python3.6/site-packages/sklearn/linear_model/ridge.py:112: LinAlgWarning: scipy.linalg.solve\nIll-conditioned matrix detected. Result is not guaranteed to be accurate.\nReciprocal condition number8.805138e-22\n  overwrite_a=True).T\n",
          "name": "stderr"
        },
        {
          "output_type": "stream",
          "text": "[CV] ........................... alpha=4.54424052685573, total=   4.3s\n[CV] alpha=0.9134776817031552 ........................................\n",
          "name": "stdout"
        },
        {
          "output_type": "stream",
          "text": "/home/nbuser/anaconda3_501/lib/python3.6/site-packages/sklearn/linear_model/ridge.py:112: LinAlgWarning: scipy.linalg.solve\nIll-conditioned matrix detected. Result is not guaranteed to be accurate.\nReciprocal condition number4.802445e-22\n  overwrite_a=True).T\n",
          "name": "stderr"
        },
        {
          "output_type": "stream",
          "text": "[CV] ......................... alpha=0.9134776817031552, total=   1.6s\n[CV] alpha=0.9134776817031552 ........................................\n",
          "name": "stdout"
        },
        {
          "output_type": "stream",
          "text": "/home/nbuser/anaconda3_501/lib/python3.6/site-packages/sklearn/linear_model/ridge.py:112: LinAlgWarning: scipy.linalg.solve\nIll-conditioned matrix detected. Result is not guaranteed to be accurate.\nReciprocal condition number2.297363e-22\n  overwrite_a=True).T\n",
          "name": "stderr"
        },
        {
          "output_type": "stream",
          "text": "[CV] ......................... alpha=0.9134776817031552, total=   3.1s\n[CV] alpha=0.9134776817031552 ........................................\n",
          "name": "stdout"
        },
        {
          "output_type": "stream",
          "text": "/home/nbuser/anaconda3_501/lib/python3.6/site-packages/sklearn/linear_model/ridge.py:112: LinAlgWarning: scipy.linalg.solve\nIll-conditioned matrix detected. Result is not guaranteed to be accurate.\nReciprocal condition number1.567443e-22\n  overwrite_a=True).T\n",
          "name": "stderr"
        },
        {
          "output_type": "stream",
          "text": "[CV] ......................... alpha=0.9134776817031552, total=   4.0s\n",
          "name": "stdout"
        },
        {
          "output_type": "stream",
          "text": "[Parallel(n_jobs=1)]: Done  60 out of  60 | elapsed: 14.6min finished\n/home/nbuser/anaconda3_501/lib/python3.6/site-packages/sklearn/linear_model/ridge.py:112: LinAlgWarning: scipy.linalg.solve\nIll-conditioned matrix detected. Result is not guaranteed to be accurate.\nReciprocal condition number1.206808e-22\n  overwrite_a=True).T\n",
          "name": "stderr"
        },
        {
          "output_type": "execute_result",
          "execution_count": 5,
          "data": {
            "text/plain": "Pipeline(memory=None,\n     steps=[('onehot', OneHotEncoder(categorical_features=[2, 3, 4], dtype=<class 'numpy.float64'>,\n       handle_unknown='error', n_values='auto', sparse=False)), ('poly', PolynomialFeatures(degree=2, include_bias=True, interaction_only=False)), ('regr_cv', RandomizedSearchCV(cv=TimeSeriesSplit(max_trai...=True,\n          return_train_score='warn', scoring='neg_mean_squared_error',\n          verbose=2))])"
          },
          "metadata": {}
        }
      ]
    },
    {
      "metadata": {
        "trusted": true
      },
      "cell_type": "code",
      "source": "with open(os.path.join(aml_dir, model_name + '.pkl'), 'wb') as f:\n    pickle.dump(regr_pipe, f)",
      "execution_count": 6,
      "outputs": []
    },
    {
      "metadata": {},
      "cell_type": "markdown",
      "source": "Cross validation results"
    },
    {
      "metadata": {
        "trusted": true
      },
      "cell_type": "code",
      "source": "cv_results = pd.DataFrame(regr_pipe.named_steps['regr_cv'].cv_results_)\ncv_results.sort_values(by='rank_test_score').head()",
      "execution_count": 7,
      "outputs": [
        {
          "output_type": "stream",
          "text": "/home/nbuser/anaconda3_501/lib/python3.6/site-packages/sklearn/utils/deprecation.py:122: FutureWarning: You are accessing a training score ('mean_train_score'), which will not be available by default any more in 0.21. If you need training scores, please set return_train_score=True\n  warnings.warn(*warn_args, **warn_kwargs)\n/home/nbuser/anaconda3_501/lib/python3.6/site-packages/sklearn/utils/deprecation.py:122: FutureWarning: You are accessing a training score ('split0_train_score'), which will not be available by default any more in 0.21. If you need training scores, please set return_train_score=True\n  warnings.warn(*warn_args, **warn_kwargs)\n/home/nbuser/anaconda3_501/lib/python3.6/site-packages/sklearn/utils/deprecation.py:122: FutureWarning: You are accessing a training score ('split1_train_score'), which will not be available by default any more in 0.21. If you need training scores, please set return_train_score=True\n  warnings.warn(*warn_args, **warn_kwargs)\n/home/nbuser/anaconda3_501/lib/python3.6/site-packages/sklearn/utils/deprecation.py:122: FutureWarning: You are accessing a training score ('split2_train_score'), which will not be available by default any more in 0.21. If you need training scores, please set return_train_score=True\n  warnings.warn(*warn_args, **warn_kwargs)\n/home/nbuser/anaconda3_501/lib/python3.6/site-packages/sklearn/utils/deprecation.py:122: FutureWarning: You are accessing a training score ('std_train_score'), which will not be available by default any more in 0.21. If you need training scores, please set return_train_score=True\n  warnings.warn(*warn_args, **warn_kwargs)\n",
          "name": "stderr"
        },
        {
          "output_type": "execute_result",
          "execution_count": 7,
          "data": {
            "text/html": "<div>\n<style scoped>\n    .dataframe tbody tr th:only-of-type {\n        vertical-align: middle;\n    }\n\n    .dataframe tbody tr th {\n        vertical-align: top;\n    }\n\n    .dataframe thead th {\n        text-align: right;\n    }\n</style>\n<table border=\"1\" class=\"dataframe\">\n  <thead>\n    <tr style=\"text-align: right;\">\n      <th></th>\n      <th>mean_fit_time</th>\n      <th>mean_score_time</th>\n      <th>mean_test_score</th>\n      <th>mean_train_score</th>\n      <th>param_alpha</th>\n      <th>params</th>\n      <th>rank_test_score</th>\n      <th>split0_test_score</th>\n      <th>split0_train_score</th>\n      <th>split1_test_score</th>\n      <th>split1_train_score</th>\n      <th>split2_test_score</th>\n      <th>split2_train_score</th>\n      <th>std_fit_time</th>\n      <th>std_score_time</th>\n      <th>std_test_score</th>\n      <th>std_train_score</th>\n    </tr>\n  </thead>\n  <tbody>\n    <tr>\n      <th>8</th>\n      <td>9.741263</td>\n      <td>0.127668</td>\n      <td>-1247.798726</td>\n      <td>-1044.993847</td>\n      <td>0.957499</td>\n      <td>{'alpha': 0.9574985905391896}</td>\n      <td>1</td>\n      <td>-1373.636747</td>\n      <td>-1013.167732</td>\n      <td>-1078.430181</td>\n      <td>-1077.453905</td>\n      <td>-1291.329250</td>\n      <td>-1044.359904</td>\n      <td>3.354606</td>\n      <td>0.019741</td>\n      <td>124.386250</td>\n      <td>26.248548</td>\n    </tr>\n    <tr>\n      <th>19</th>\n      <td>2.848261</td>\n      <td>0.047975</td>\n      <td>-1247.815067</td>\n      <td>-1044.614788</td>\n      <td>0.913478</td>\n      <td>{'alpha': 0.9134776817031552}</td>\n      <td>2</td>\n      <td>-1373.634242</td>\n      <td>-1012.512303</td>\n      <td>-1078.411045</td>\n      <td>-1077.166942</td>\n      <td>-1291.399915</td>\n      <td>-1044.165118</td>\n      <td>1.045081</td>\n      <td>0.023282</td>\n      <td>124.402340</td>\n      <td>26.397061</td>\n    </tr>\n    <tr>\n      <th>16</th>\n      <td>4.030509</td>\n      <td>0.043626</td>\n      <td>-1247.860393</td>\n      <td>-1044.064552</td>\n      <td>0.850493</td>\n      <td>{'alpha': 0.8504931510309715}</td>\n      <td>3</td>\n      <td>-1373.680961</td>\n      <td>-1011.565080</td>\n      <td>-1078.387371</td>\n      <td>-1076.747308</td>\n      <td>-1291.512847</td>\n      <td>-1043.881267</td>\n      <td>0.599336</td>\n      <td>0.007651</td>\n      <td>124.442031</td>\n      <td>26.610849</td>\n    </tr>\n    <tr>\n      <th>15</th>\n      <td>6.261892</td>\n      <td>0.081291</td>\n      <td>-1248.035728</td>\n      <td>-1047.861290</td>\n      <td>1.30371</td>\n      <td>{'alpha': 1.303707200272006}</td>\n      <td>4</td>\n      <td>-1374.502817</td>\n      <td>-1018.192520</td>\n      <td>-1078.640996</td>\n      <td>-1079.581859</td>\n      <td>-1290.963371</td>\n      <td>-1045.809491</td>\n      <td>2.604369</td>\n      <td>0.029626</td>\n      <td>124.540866</td>\n      <td>25.104052</td>\n    </tr>\n    <tr>\n      <th>4</th>\n      <td>13.089921</td>\n      <td>0.115392</td>\n      <td>-1248.037737</td>\n      <td>-1047.872116</td>\n      <td>1.30505</td>\n      <td>{'alpha': 1.3050500265371257}</td>\n      <td>5</td>\n      <td>-1374.508691</td>\n      <td>-1018.211683</td>\n      <td>-1078.642011</td>\n      <td>-1079.589785</td>\n      <td>-1290.962508</td>\n      <td>-1045.814881</td>\n      <td>5.635385</td>\n      <td>0.015787</td>\n      <td>124.542295</td>\n      <td>25.099694</td>\n    </tr>\n  </tbody>\n</table>\n</div>",
            "text/plain": "    mean_fit_time  mean_score_time  mean_test_score  mean_train_score  \\\n8        9.741263         0.127668     -1247.798726      -1044.993847   \n19       2.848261         0.047975     -1247.815067      -1044.614788   \n16       4.030509         0.043626     -1247.860393      -1044.064552   \n15       6.261892         0.081291     -1248.035728      -1047.861290   \n4       13.089921         0.115392     -1248.037737      -1047.872116   \n\n   param_alpha                         params  rank_test_score  \\\n8     0.957499  {'alpha': 0.9574985905391896}                1   \n19    0.913478  {'alpha': 0.9134776817031552}                2   \n16    0.850493  {'alpha': 0.8504931510309715}                3   \n15     1.30371   {'alpha': 1.303707200272006}                4   \n4      1.30505  {'alpha': 1.3050500265371257}                5   \n\n    split0_test_score  split0_train_score  split1_test_score  \\\n8        -1373.636747        -1013.167732       -1078.430181   \n19       -1373.634242        -1012.512303       -1078.411045   \n16       -1373.680961        -1011.565080       -1078.387371   \n15       -1374.502817        -1018.192520       -1078.640996   \n4        -1374.508691        -1018.211683       -1078.642011   \n\n    split1_train_score  split2_test_score  split2_train_score  std_fit_time  \\\n8         -1077.453905       -1291.329250        -1044.359904      3.354606   \n19        -1077.166942       -1291.399915        -1044.165118      1.045081   \n16        -1076.747308       -1291.512847        -1043.881267      0.599336   \n15        -1079.581859       -1290.963371        -1045.809491      2.604369   \n4         -1079.589785       -1290.962508        -1045.814881      5.635385   \n\n    std_score_time  std_test_score  std_train_score  \n8         0.019741      124.386250        26.248548  \n19        0.023282      124.402340        26.397061  \n16        0.007651      124.442031        26.610849  \n15        0.029626      124.540866        25.104052  \n4         0.015787      124.542295        25.099694  "
          },
          "metadata": {}
        }
      ]
    },
    {
      "metadata": {
        "trusted": true
      },
      "cell_type": "code",
      "source": "plt.plot(cv_results['param_alpha'], cv_results['mean_test_score'], 'ro', markersize=1)\nplt.title('CV negative mean squared error')\nplt.show()",
      "execution_count": 8,
      "outputs": [
        {
          "output_type": "display_data",
          "data": {
            "image/png": "[encoded data removed]",
            "text/plain": "<Figure size 432x288 with 1 Axes>"
          },
          "metadata": {
            "needs_background": "light"
          }
        }
      ]
    }
  ],
  "metadata": {
    "kernelspec": {
      "name": "python36",
      "display_name": "Python 3.6",
      "language": "python"
    },
    "language_info": {
      "mimetype": "text/x-python",
      "nbconvert_exporter": "python",
      "name": "python",
      "pygments_lexer": "ipython3",
      "version": "3.6.6",
      "file_extension": ".py",
      "codemirror_mode": {
        "version": 3,
        "name": "ipython"
      }
    }
  },
  "nbformat": 4,
  "nbformat_minor": 2
}