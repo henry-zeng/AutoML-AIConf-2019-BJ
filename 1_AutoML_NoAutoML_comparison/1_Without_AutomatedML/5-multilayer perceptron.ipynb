{
  "cells": [
    {
      "metadata": {},
      "cell_type": "markdown",
      "source": "# Multi-layer perceptron\n"
    },
    {
      "metadata": {
        "trusted": true
      },
      "cell_type": "code",
      "source": "%matplotlib inline\nimport pandas as pd\nimport numpy as np\nimport matplotlib\nmatplotlib.use('Agg')\nimport matplotlib.pyplot as plt\nfrom sklearn.pipeline import Pipeline\nfrom sklearn.preprocessing import OneHotEncoder\nfrom sklearn.neural_network import MLPRegressor\nfrom sklearn.metrics import mean_squared_error\nfrom sklearn.model_selection import PredefinedSplit\nfrom sklearn.model_selection import GridSearchCV\nimport pickle\nimport os",
      "execution_count": 1,
      "outputs": [
        {
          "output_type": "stream",
          "text": "/home/nbuser/anaconda3_501/lib/python3.6/site-packages/ipykernel/__main__.py:5: UserWarning: matplotlib.pyplot as already been imported, this call will have no effect.\n",
          "name": "stderr"
        }
      ]
    },
    {
      "metadata": {
        "trusted": true
      },
      "cell_type": "code",
      "source": "model_name = \"mlp\"\naml_dir = './data/'\ntrain = pd.read_csv(os.path.join(aml_dir, 'nyc_demand_train.csv'), parse_dates=['timeStamp'])\nX = train.drop(['demand', 'timeStamp'], axis=1)",
      "execution_count": 2,
      "outputs": []
    },
    {
      "metadata": {},
      "cell_type": "markdown",
      "source": "Due to the relatively long training times of neural networks, in this example we use one validation set in place of cross-validation. The validation set will be the final 25% of the training dataset. Training takes about 3 minutes."
    },
    {
      "metadata": {
        "trusted": true
      },
      "cell_type": "code",
      "source": "len_train = int(len(X) * 0.75)\nlen_valid = len(X) - len_train\ntest_fold = [-1]*len_train + [0]*len_valid\nps = PredefinedSplit(test_fold)",
      "execution_count": 3,
      "outputs": []
    },
    {
      "metadata": {
        "trusted": true
      },
      "cell_type": "code",
      "source": "regr = MLPRegressor(solver='lbfgs', verbose=True)",
      "execution_count": 4,
      "outputs": []
    },
    {
      "metadata": {},
      "cell_type": "markdown",
      "source": "We first specify a list of network structures to try. Each tuple in this list specifies the number of hidden layers and the number of units in each. For example, (5,0) specifies a network with one hidden layer containing 5 units while (10,10) creates a network with 2 hidden layers, each with 10 units. We then perform grid search to test the various network structures and regularization parameters. "
    },
    {
      "metadata": {
        "trusted": true
      },
      "cell_type": "code",
      "source": "hidden_layer_size = [(5,), (10,), (15,), (20,), (25,), (30,), (35,), (40,), (10,10), (20,20), (30,30), (40,40)]",
      "execution_count": 5,
      "outputs": []
    },
    {
      "metadata": {
        "trusted": true
      },
      "cell_type": "code",
      "source": "param_grid = {'hidden_layer_sizes': hidden_layer_size,\n             'alpha': [0.01, 0.1, 1.0, 10.0]}\nregr_cv = GridSearchCV(estimator=regr,\n            param_grid=param_grid,\n            cv=ps,\n            scoring='neg_mean_squared_error',\n            verbose=2,\n            n_jobs=-1)",
      "execution_count": 6,
      "outputs": []
    },
    {
      "metadata": {
        "trusted": true
      },
      "cell_type": "code",
      "source": "regr_pipe = Pipeline([('regr_cv', regr_cv)])\nregr_pipe.fit(X, y=train['demand'])",
      "execution_count": 7,
      "outputs": [
        {
          "output_type": "stream",
          "text": "Fitting 1 folds for each of 48 candidates, totalling 48 fits\n[CV] alpha=0.01, hidden_layer_sizes=(5,) .............................\n[CV] alpha=0.01, hidden_layer_sizes=(10,) ............................\n[CV] .............. alpha=0.01, hidden_layer_sizes=(5,), total=   1.0s\n[CV] alpha=0.01, hidden_layer_sizes=(15,) ............................\n[CV] ............. alpha=0.01, hidden_layer_sizes=(10,), total=  11.6s\n[CV] alpha=0.01, hidden_layer_sizes=(20,) ............................\n[CV] ............. alpha=0.01, hidden_layer_sizes=(15,), total=  14.4s\n[CV] alpha=0.01, hidden_layer_sizes=(25,) ............................\n[CV] ............. alpha=0.01, hidden_layer_sizes=(20,), total=  12.2s\n[CV] alpha=0.01, hidden_layer_sizes=(30,) ............................\n[CV] ............. alpha=0.01, hidden_layer_sizes=(25,), total=  18.9s\n[CV] alpha=0.01, hidden_layer_sizes=(35,) ............................\n[CV] ............. alpha=0.01, hidden_layer_sizes=(30,), total=  27.2s\n[CV] alpha=0.01, hidden_layer_sizes=(40,) ............................\n[CV] ............. alpha=0.01, hidden_layer_sizes=(35,), total=  22.3s\n[CV] alpha=0.01, hidden_layer_sizes=(10, 10) .........................\n[CV] ............. alpha=0.01, hidden_layer_sizes=(40,), total=  30.7s\n[CV] alpha=0.01, hidden_layer_sizes=(20, 20) .........................\n[CV] .......... alpha=0.01, hidden_layer_sizes=(10, 10), total=  25.6s\n[CV] alpha=0.01, hidden_layer_sizes=(30, 30) .........................\n[CV] .......... alpha=0.01, hidden_layer_sizes=(20, 20), total=  34.9s\n[CV] alpha=0.01, hidden_layer_sizes=(40, 40) .........................\n[CV] .......... alpha=0.01, hidden_layer_sizes=(30, 30), total=  47.6s\n[CV] alpha=0.1, hidden_layer_sizes=(5,) ..............................\n[CV] ............... alpha=0.1, hidden_layer_sizes=(5,), total=   5.3s\n[CV] alpha=0.1, hidden_layer_sizes=(10,) .............................\n[CV] .............. alpha=0.1, hidden_layer_sizes=(10,), total=   7.2s\n[CV] alpha=0.1, hidden_layer_sizes=(15,) .............................\n[CV] .............. alpha=0.1, hidden_layer_sizes=(15,), total=  16.5s\n[CV] alpha=0.1, hidden_layer_sizes=(20,) .............................\n[CV] .......... alpha=0.01, hidden_layer_sizes=(40, 40), total=  58.7s\n[CV] alpha=0.1, hidden_layer_sizes=(25,) .............................\n[CV] .............. alpha=0.1, hidden_layer_sizes=(20,), total=  17.0s\n[CV] alpha=0.1, hidden_layer_sizes=(30,) .............................\n[CV] .............. alpha=0.1, hidden_layer_sizes=(25,), total=  15.5s\n[CV] alpha=0.1, hidden_layer_sizes=(35,) .............................\n[CV] .............. alpha=0.1, hidden_layer_sizes=(30,), total=  20.0s\n[CV] alpha=0.1, hidden_layer_sizes=(40,) .............................\n[CV] .............. alpha=0.1, hidden_layer_sizes=(35,), total=  21.2s\n[CV] alpha=0.1, hidden_layer_sizes=(10, 10) ..........................\n[CV] .............. alpha=0.1, hidden_layer_sizes=(40,), total=  25.1s\n[CV] alpha=0.1, hidden_layer_sizes=(20, 20) ..........................\n[CV] ........... alpha=0.1, hidden_layer_sizes=(10, 10), total=  22.2s\n[CV] alpha=0.1, hidden_layer_sizes=(30, 30) ..........................\n[CV] ........... alpha=0.1, hidden_layer_sizes=(20, 20), total=  37.4s\n[CV] alpha=0.1, hidden_layer_sizes=(40, 40) ..........................\n[CV] ........... alpha=0.1, hidden_layer_sizes=(30, 30), total=  55.3s\n[CV] alpha=1.0, hidden_layer_sizes=(5,) ..............................\n[CV] ............... alpha=1.0, hidden_layer_sizes=(5,), total=   7.9s\n[CV] alpha=1.0, hidden_layer_sizes=(10,) .............................\n[CV] .............. alpha=1.0, hidden_layer_sizes=(10,), total=  14.7s\n[CV] alpha=1.0, hidden_layer_sizes=(15,) .............................\n[CV] .............. alpha=1.0, hidden_layer_sizes=(15,), total=  21.5s\n[CV] alpha=1.0, hidden_layer_sizes=(20,) .............................\n[CV] ........... alpha=0.1, hidden_layer_sizes=(40, 40), total= 1.3min\n[CV] alpha=1.0, hidden_layer_sizes=(25,) .............................\n[CV] .............. alpha=1.0, hidden_layer_sizes=(20,), total=  22.3s\n[CV] alpha=1.0, hidden_layer_sizes=(30,) .............................\n[CV] .............. alpha=1.0, hidden_layer_sizes=(25,), total=  24.1s\n[CV] alpha=1.0, hidden_layer_sizes=(35,) .............................\n[CV] .............. alpha=1.0, hidden_layer_sizes=(30,), total=  30.2s\n[CV] alpha=1.0, hidden_layer_sizes=(40,) .............................\n[CV] .............. alpha=1.0, hidden_layer_sizes=(35,), total=  32.9s\n[CV] alpha=1.0, hidden_layer_sizes=(10, 10) ..........................\n[CV] ........... alpha=1.0, hidden_layer_sizes=(10, 10), total=  25.7s\n[CV] alpha=1.0, hidden_layer_sizes=(20, 20) ..........................\n[CV] .............. alpha=1.0, hidden_layer_sizes=(40,), total=  31.5s\n[CV] alpha=1.0, hidden_layer_sizes=(30, 30) ..........................\n[CV] ........... alpha=1.0, hidden_layer_sizes=(20, 20), total=  30.2s\n[CV] alpha=1.0, hidden_layer_sizes=(40, 40) ..........................\n[CV] ........... alpha=1.0, hidden_layer_sizes=(30, 30), total=  46.6s\n[CV] alpha=10.0, hidden_layer_sizes=(5,) .............................\n[CV] .............. alpha=10.0, hidden_layer_sizes=(5,), total=   5.3s\n[CV] alpha=10.0, hidden_layer_sizes=(10,) ............................\n[CV] ............. alpha=10.0, hidden_layer_sizes=(10,), total=  11.4s\n[CV] alpha=10.0, hidden_layer_sizes=(15,) ............................\n",
          "name": "stdout"
        },
        {
          "output_type": "stream",
          "text": "[Parallel(n_jobs=-1)]: Done  37 tasks      | elapsed:  8.1min\n",
          "name": "stderr"
        },
        {
          "output_type": "stream",
          "text": "[CV] ............. alpha=10.0, hidden_layer_sizes=(15,), total=  10.0s\n[CV] alpha=10.0, hidden_layer_sizes=(20,) ............................\n[CV] ........... alpha=1.0, hidden_layer_sizes=(40, 40), total=  53.9s\n[CV] alpha=10.0, hidden_layer_sizes=(25,) ............................\n[CV] ............. alpha=10.0, hidden_layer_sizes=(20,), total=  14.2s\n[CV] alpha=10.0, hidden_layer_sizes=(30,) ............................\n[CV] ............. alpha=10.0, hidden_layer_sizes=(25,), total=  15.9s\n[CV] alpha=10.0, hidden_layer_sizes=(35,) ............................\n[CV] ............. alpha=10.0, hidden_layer_sizes=(30,), total=  18.8s\n[CV] alpha=10.0, hidden_layer_sizes=(40,) ............................\n[CV] ............. alpha=10.0, hidden_layer_sizes=(35,), total=  18.1s\n[CV] alpha=10.0, hidden_layer_sizes=(10, 10) .........................\n[CV] ............. alpha=10.0, hidden_layer_sizes=(40,), total=  25.6s\n[CV] alpha=10.0, hidden_layer_sizes=(20, 20) .........................\n[CV] .......... alpha=10.0, hidden_layer_sizes=(10, 10), total=  19.7s\n[CV] alpha=10.0, hidden_layer_sizes=(30, 30) .........................\n[CV] .......... alpha=10.0, hidden_layer_sizes=(20, 20), total=  31.4s\n[CV] alpha=10.0, hidden_layer_sizes=(40, 40) .........................\n[CV] .......... alpha=10.0, hidden_layer_sizes=(30, 30), total=  43.1s\n[CV] .......... alpha=10.0, hidden_layer_sizes=(40, 40), total=  42.3s\n",
          "name": "stdout"
        },
        {
          "output_type": "stream",
          "text": "[Parallel(n_jobs=-1)]: Done  48 out of  48 | elapsed: 10.5min finished\n",
          "name": "stderr"
        },
        {
          "output_type": "execute_result",
          "execution_count": 7,
          "data": {
            "text/plain": "Pipeline(memory=None,\n     steps=[('regr_cv', GridSearchCV(cv=PredefinedSplit(test_fold=array([-1, -1, ...,  0,  0])),\n       error_score='raise',\n       estimator=MLPRegressor(activation='relu', alpha=0.0001, batch_size='auto', beta_1=0.9,\n       beta_2=0.999, early_stopping=False, epsilon=1e-08,\n       hidden_layer_sizes=(1..._jobs', refit=True, return_train_score='warn',\n       scoring='neg_mean_squared_error', verbose=2))])"
          },
          "metadata": {}
        }
      ]
    },
    {
      "metadata": {
        "trusted": true
      },
      "cell_type": "code",
      "source": "with open(os.path.join(aml_dir, model_name + '.pkl'), 'wb') as f:\n    pickle.dump(regr_pipe, f)",
      "execution_count": 8,
      "outputs": []
    },
    {
      "metadata": {},
      "cell_type": "markdown",
      "source": "Cross validation results"
    },
    {
      "metadata": {
        "trusted": true
      },
      "cell_type": "code",
      "source": "cv_results = pd.DataFrame(regr_pipe.named_steps['regr_cv'].cv_results_)\ncv_results.sort_values(by='rank_test_score', inplace=True)\ncv_results.head()",
      "execution_count": 9,
      "outputs": [
        {
          "output_type": "stream",
          "text": "/home/nbuser/anaconda3_501/lib/python3.6/site-packages/sklearn/utils/deprecation.py:122: FutureWarning: You are accessing a training score ('mean_train_score'), which will not be available by default any more in 0.21. If you need training scores, please set return_train_score=True\n  warnings.warn(*warn_args, **warn_kwargs)\n/home/nbuser/anaconda3_501/lib/python3.6/site-packages/sklearn/utils/deprecation.py:122: FutureWarning: You are accessing a training score ('split0_train_score'), which will not be available by default any more in 0.21. If you need training scores, please set return_train_score=True\n  warnings.warn(*warn_args, **warn_kwargs)\n/home/nbuser/anaconda3_501/lib/python3.6/site-packages/sklearn/utils/deprecation.py:122: FutureWarning: You are accessing a training score ('std_train_score'), which will not be available by default any more in 0.21. If you need training scores, please set return_train_score=True\n  warnings.warn(*warn_args, **warn_kwargs)\n",
          "name": "stderr"
        },
        {
          "output_type": "execute_result",
          "execution_count": 9,
          "data": {
            "text/html": "<div>\n<style scoped>\n    .dataframe tbody tr th:only-of-type {\n        vertical-align: middle;\n    }\n\n    .dataframe tbody tr th {\n        vertical-align: top;\n    }\n\n    .dataframe thead th {\n        text-align: right;\n    }\n</style>\n<table border=\"1\" class=\"dataframe\">\n  <thead>\n    <tr style=\"text-align: right;\">\n      <th></th>\n      <th>mean_fit_time</th>\n      <th>mean_score_time</th>\n      <th>mean_test_score</th>\n      <th>mean_train_score</th>\n      <th>param_alpha</th>\n      <th>param_hidden_layer_sizes</th>\n      <th>params</th>\n      <th>rank_test_score</th>\n      <th>split0_test_score</th>\n      <th>split0_train_score</th>\n      <th>std_fit_time</th>\n      <th>std_score_time</th>\n      <th>std_test_score</th>\n      <th>std_train_score</th>\n    </tr>\n  </thead>\n  <tbody>\n    <tr>\n      <th>2</th>\n      <td>14.337078</td>\n      <td>0.018942</td>\n      <td>-5911.094651</td>\n      <td>-6940.419264</td>\n      <td>0.01</td>\n      <td>(15,)</td>\n      <td>{'alpha': 0.01, 'hidden_layer_sizes': (15,)}</td>\n      <td>1</td>\n      <td>-5911.094651</td>\n      <td>-6940.419264</td>\n      <td>0.0</td>\n      <td>0.0</td>\n      <td>0.0</td>\n      <td>0.0</td>\n    </tr>\n    <tr>\n      <th>33</th>\n      <td>30.156150</td>\n      <td>0.033946</td>\n      <td>-6232.664230</td>\n      <td>-7248.436089</td>\n      <td>1</td>\n      <td>(20, 20)</td>\n      <td>{'alpha': 1.0, 'hidden_layer_sizes': (20, 20)}</td>\n      <td>2</td>\n      <td>-6232.664230</td>\n      <td>-7248.436089</td>\n      <td>0.0</td>\n      <td>0.0</td>\n      <td>0.0</td>\n      <td>0.0</td>\n    </tr>\n    <tr>\n      <th>21</th>\n      <td>37.313997</td>\n      <td>0.040670</td>\n      <td>-6792.659147</td>\n      <td>-7952.301201</td>\n      <td>0.1</td>\n      <td>(20, 20)</td>\n      <td>{'alpha': 0.1, 'hidden_layer_sizes': (20, 20)}</td>\n      <td>3</td>\n      <td>-6792.659147</td>\n      <td>-7952.301201</td>\n      <td>0.0</td>\n      <td>0.0</td>\n      <td>0.0</td>\n      <td>0.0</td>\n    </tr>\n    <tr>\n      <th>17</th>\n      <td>20.024080</td>\n      <td>0.021181</td>\n      <td>-6887.305729</td>\n      <td>-8035.634954</td>\n      <td>0.1</td>\n      <td>(30,)</td>\n      <td>{'alpha': 0.1, 'hidden_layer_sizes': (30,)}</td>\n      <td>4</td>\n      <td>-6887.305729</td>\n      <td>-8035.634954</td>\n      <td>0.0</td>\n      <td>0.0</td>\n      <td>0.0</td>\n      <td>0.0</td>\n    </tr>\n    <tr>\n      <th>25</th>\n      <td>14.666589</td>\n      <td>0.048451</td>\n      <td>-7142.320120</td>\n      <td>-8379.513645</td>\n      <td>1</td>\n      <td>(10,)</td>\n      <td>{'alpha': 1.0, 'hidden_layer_sizes': (10,)}</td>\n      <td>5</td>\n      <td>-7142.320120</td>\n      <td>-8379.513645</td>\n      <td>0.0</td>\n      <td>0.0</td>\n      <td>0.0</td>\n      <td>0.0</td>\n    </tr>\n  </tbody>\n</table>\n</div>",
            "text/plain": "    mean_fit_time  mean_score_time  mean_test_score  mean_train_score  \\\n2       14.337078         0.018942     -5911.094651      -6940.419264   \n33      30.156150         0.033946     -6232.664230      -7248.436089   \n21      37.313997         0.040670     -6792.659147      -7952.301201   \n17      20.024080         0.021181     -6887.305729      -8035.634954   \n25      14.666589         0.048451     -7142.320120      -8379.513645   \n\n   param_alpha param_hidden_layer_sizes  \\\n2         0.01                    (15,)   \n33           1                 (20, 20)   \n21         0.1                 (20, 20)   \n17         0.1                    (30,)   \n25           1                    (10,)   \n\n                                            params  rank_test_score  \\\n2     {'alpha': 0.01, 'hidden_layer_sizes': (15,)}                1   \n33  {'alpha': 1.0, 'hidden_layer_sizes': (20, 20)}                2   \n21  {'alpha': 0.1, 'hidden_layer_sizes': (20, 20)}                3   \n17     {'alpha': 0.1, 'hidden_layer_sizes': (30,)}                4   \n25     {'alpha': 1.0, 'hidden_layer_sizes': (10,)}                5   \n\n    split0_test_score  split0_train_score  std_fit_time  std_score_time  \\\n2        -5911.094651        -6940.419264           0.0             0.0   \n33       -6232.664230        -7248.436089           0.0             0.0   \n21       -6792.659147        -7952.301201           0.0             0.0   \n17       -6887.305729        -8035.634954           0.0             0.0   \n25       -7142.320120        -8379.513645           0.0             0.0   \n\n    std_test_score  std_train_score  \n2              0.0              0.0  \n33             0.0              0.0  \n21             0.0              0.0  \n17             0.0              0.0  \n25             0.0              0.0  "
          },
          "metadata": {}
        }
      ]
    }
  ],
  "metadata": {
    "kernelspec": {
      "name": "python36",
      "display_name": "Python 3.6",
      "language": "python"
    },
    "language_info": {
      "mimetype": "text/x-python",
      "nbconvert_exporter": "python",
      "name": "python",
      "pygments_lexer": "ipython3",
      "version": "3.6.6",
      "file_extension": ".py",
      "codemirror_mode": {
        "version": 3,
        "name": "ipython"
      }
    }
  },
  "nbformat": 4,
  "nbformat_minor": 2
}