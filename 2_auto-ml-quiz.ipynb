{
  "cells": [
    {
      "metadata": {},
      "cell_type": "markdown",
      "source": "Copyright (c) Microsoft Corporation. All rights reserved.\n\nLicensed under the MIT License."
    },
    {
      "metadata": {},
      "cell_type": "markdown",
      "source": ""
    },
    {
      "metadata": {},
      "cell_type": "markdown",
      "source": "![Impressions](https://PixelServer20190423114238.azurewebsites.net/api/impressions/MachineLearningNotebooks/how-to-use-azureml/automated-machine-learning/remote-amlcompute/auto-ml-remote-amlcompute.png)"
    },
    {
      "metadata": {},
      "cell_type": "markdown",
      "source": "# Automated Machine Learning\n_**Remote Execution using AmlCompute**_\n\n## Contents\n1. [Introduction](#Introduction)\n1. [Setup](#Setup)\n1. [Data](#Data)\n1. [Train](#Train)\n1. [Results](#Results)\n1. [Test](#Test)\n\n**This notebook showcase how to run aumoml on remote compute. There are 3 quiz in this notebook, finish the quiz to win T-shirt!**"
    },
    {
      "metadata": {},
      "cell_type": "markdown",
      "source": "## Introduction\nIn this example we use the scikit-learn's [digit dataset](http://scikit-learn.org/stable/datasets/index.html#optical-recognition-of-handwritten-digits-dataset) to showcase how you can use AutoML for a simple classification problem.\n\nMake sure you have executed the [configuration](../../../configuration.ipynb) before running this notebook.\n\nIn this notebook you would see\n1. Create an `Experiment` in an existing `Workspace`.\n2. Create or Attach existing AmlCompute to a workspace.\n3. Configure AutoML using `AutoMLConfig`.\n4. Train the model using AmlCompute\n5. Explore the results.\n6. Test the best fitted model.\n\nIn addition this notebook showcases the following features\n- **Parallel** executions for iterations\n- **Asynchronous** tracking of progress\n- **Cancellation** of individual iterations or the entire run\n- Retrieving models for any iteration or logged metric\n- Specifying AutoML settings as `**kwargs`"
    },
    {
      "metadata": {},
      "cell_type": "markdown",
      "source": "## Setup\n\nAs part of the setup you have already created an Azure ML `Workspace` object. For AutoML you will need to create an `Experiment` object, which is a named object in a `Workspace` used to run experiments."
    },
    {
      "metadata": {
        "trusted": true
      },
      "cell_type": "code",
      "source": "import logging\nimport os\nimport csv\n\nfrom matplotlib import pyplot as plt\nimport numpy as np\nimport pandas as pd\nfrom sklearn import datasets\n\nimport azureml.core\nfrom azureml.core.experiment import Experiment\nfrom azureml.core.workspace import Workspace\nfrom azureml.train.automl import AutoMLConfig",
      "execution_count": 1,
      "outputs": []
    },
    {
      "metadata": {
        "trusted": true
      },
      "cell_type": "code",
      "source": "ws = Workspace.from_config()\n\n# Choose a name for the run history container in the workspace.\nexperiment_name = 'automl-remote-amlcompute'\nproject_folder = './project'\n\nexperiment = Experiment(ws, experiment_name)\n\noutput = {}\noutput['SDK version'] = azureml.core.VERSION\noutput['Subscription ID'] = ws.subscription_id\noutput['Workspace Name'] = ws.name\noutput['Resource Group'] = ws.resource_group\noutput['Location'] = ws.location\noutput['Project Directory'] = project_folder\noutput['Experiment Name'] = experiment.name\npd.set_option('display.max_colwidth', -1)\noutputDf = pd.DataFrame(data = output, index = [''])\noutputDf.T",
      "execution_count": 2,
      "outputs": [
        {
          "output_type": "execute_result",
          "execution_count": 2,
          "data": {
            "text/html": "<div>\n<style scoped>\n    .dataframe tbody tr th:only-of-type {\n        vertical-align: middle;\n    }\n\n    .dataframe tbody tr th {\n        vertical-align: top;\n    }\n\n    .dataframe thead th {\n        text-align: right;\n    }\n</style>\n<table border=\"1\" class=\"dataframe\">\n  <thead>\n    <tr style=\"text-align: right;\">\n      <th></th>\n      <th></th>\n    </tr>\n  </thead>\n  <tbody>\n    <tr>\n      <th>SDK version</th>\n      <td>1.0.43</td>\n    </tr>\n    <tr>\n      <th>Subscription ID</th>\n      <td>ea8323fb-dd33-48d1-8ffb-3d771bc5f05c</td>\n    </tr>\n    <tr>\n      <th>Workspace Name</th>\n      <td>gpu-tech-immersion-aml-70617</td>\n    </tr>\n    <tr>\n      <th>Resource Group</th>\n      <td>ODL-aml-workspace-70617</td>\n    </tr>\n    <tr>\n      <th>Location</th>\n      <td>southeastasia</td>\n    </tr>\n    <tr>\n      <th>Project Directory</th>\n      <td>./project</td>\n    </tr>\n    <tr>\n      <th>Experiment Name</th>\n      <td>automl-remote-amlcompute</td>\n    </tr>\n  </tbody>\n</table>\n</div>",
            "text/plain": "                                                       \nSDK version        1.0.43                              \nSubscription ID    ea8323fb-dd33-48d1-8ffb-3d771bc5f05c\nWorkspace Name     gpu-tech-immersion-aml-70617        \nResource Group     ODL-aml-workspace-70617             \nLocation           southeastasia                       \nProject Directory  ./project                           \nExperiment Name    automl-remote-amlcompute            "
          },
          "metadata": {}
        }
      ]
    },
    {
      "metadata": {},
      "cell_type": "markdown",
      "source": "### ***Quiz 1 - whitelist models***\n*please fill in below cell to whitelist models, supported algotithms can be found here:https://docs.microsoft.com/en-us/python/api/azureml-train-automl/azureml.train.automl.constants.supportedalgorithms?view=azure-ml-py *"
    },
    {
      "metadata": {
        "trusted": true
      },
      "cell_type": "code",
      "source": "whitelist_models=[\"XGBoostClassifier\",\"RandomForestClassifier\",\"LightGBMClassifier\"]\n",
      "execution_count": 3,
      "outputs": []
    },
    {
      "metadata": {},
      "cell_type": "markdown",
      "source": "### Create or Attach existing AmlCompute\nYou will need to create a [compute target](https://docs.microsoft.com/azure/machine-learning/service/concept-azure-machine-learning-architecture#compute-target) for your AutoML run. In this tutorial, you create an AmlCompute as your training compute resource.\n\nAs with other Azure services, there are limits on certain resources (e.g. AmlCompute) associated with the Azure Machine Learning service. Please read [this article](https://docs.microsoft.com/en-us/azure/machine-learning/service/how-to-manage-quotas) on the default limits and how to request more quota."
    },
    {
      "metadata": {
        "trusted": true
      },
      "cell_type": "code",
      "source": "from azureml.core.compute import AmlCompute\nfrom azureml.core.compute import ComputeTarget\n\n# Choose a name for your cluster.\namlcompute_cluster_name = \"cpucluster\"\n\nfound = False\n\n# Check if this compute target already exists in the workspace.\n\ncts = ws.compute_targets\nif amlcompute_cluster_name in cts and cts[amlcompute_cluster_name].type == 'AmlCompute':\n    found = True\n    print('Found existing compute target.')\n    compute_target = cts[amlcompute_cluster_name]\n\nif not found:\n    print('Creating a new compute target...')\n    provisioning_config = AmlCompute.provisioning_configuration(vm_size = \"STANDARD_D2_V2\", # for GPU, use \"STANDARD_NC6\"\n                                                                #vm_priority = 'lowpriority', # optional\n                                                                max_nodes = 6)\n\n    # Create the cluster.\\n\",\n    compute_target = ComputeTarget.create(ws, amlcompute_cluster_name, provisioning_config)\n\n    # Can poll for a minimum number of nodes and for a specific timeout.\n    # If no min_node_count is provided, it will use the scale settings for the cluster.\n    compute_target.wait_for_completion(show_output = True, min_node_count = None, timeout_in_minutes = 20)\n\n     # For a more detailed view of current AmlCompute status, use get_status().",
      "execution_count": 4,
      "outputs": [
        {
          "output_type": "stream",
          "text": "Found existing compute target.\n",
          "name": "stdout"
        }
      ]
    },
    {
      "metadata": {},
      "cell_type": "markdown",
      "source": "## Data\nFor remote executions, you need to make the data accessible from the remote compute.\nThis can be done by uploading the data to DataStore.\nIn this example, we upload scikit-learn's [load_digits](http://scikit-learn.org/stable/modules/generated/sklearn.datasets.load_digits.html) data."
    },
    {
      "metadata": {
        "trusted": true
      },
      "cell_type": "code",
      "source": "data_train = datasets.load_digits()\n\nif not os.path.isdir('data'):\n    os.mkdir('data')\n    \nif not os.path.exists(project_folder):\n    os.makedirs(project_folder)\n    \npd.DataFrame(data_train.data).to_csv(\"data/X_train.tsv\", index=False, header=False, quoting=csv.QUOTE_ALL, sep=\"\\t\")\npd.DataFrame(data_train.target).to_csv(\"data/y_train.tsv\", index=False, header=False, sep=\"\\t\")\n\nds = ws.get_default_datastore()\nds.upload(src_dir='./data', target_path='bai_data', overwrite=True, show_progress=True)\n\nfrom azureml.core.runconfig import DataReferenceConfiguration\ndr = DataReferenceConfiguration(datastore_name=ds.name, \n                   path_on_datastore='bai_data', \n                   path_on_compute='/tmp/azureml_runs',\n                   mode='download', # download files from datastore to compute target\n                   overwrite=False)",
      "execution_count": 5,
      "outputs": [
        {
          "output_type": "stream",
          "text": "Uploading ./data/X_train.tsv\nUploading ./data/nyc_energy.csv\nUploading ./data/y_train.tsv\nUploaded ./data/y_train.tsv, 1 files out of an estimated total of 3\nUploaded ./data/X_train.tsv, 2 files out of an estimated total of 3\nUploaded ./data/nyc_energy.csv, 3 files out of an estimated total of 3\n",
          "name": "stdout"
        }
      ]
    },
    {
      "metadata": {
        "trusted": true
      },
      "cell_type": "code",
      "source": "from azureml.core.runconfig import RunConfiguration\nfrom azureml.core.conda_dependencies import CondaDependencies\n\n# create a new RunConfig object\nconda_run_config = RunConfiguration(framework=\"python\")\n\n# Set compute target to AmlCompute\nconda_run_config.target = compute_target\nconda_run_config.environment.docker.enabled = True\nconda_run_config.environment.docker.base_image = azureml.core.runconfig.DEFAULT_CPU_IMAGE\n\n# set the data reference of the run coonfiguration\nconda_run_config.data_references = {ds.name: dr}\n\ncd = CondaDependencies.create(pip_packages=['azureml-sdk[automl]'], conda_packages=['numpy','py-xgboost<=0.80'])\nconda_run_config.environment.python.conda_dependencies = cd",
      "execution_count": 6,
      "outputs": []
    },
    {
      "metadata": {
        "trusted": true
      },
      "cell_type": "code",
      "source": "%%writefile $project_folder/get_data.py\n\nimport pandas as pd\n\ndef get_data():\n    X_train = pd.read_csv(\"/tmp/azureml_runs/bai_data/X_train.tsv\", delimiter=\"\\t\", header=None, quotechar='\"')\n    y_train = pd.read_csv(\"/tmp/azureml_runs/bai_data/y_train.tsv\", delimiter=\"\\t\", header=None, quotechar='\"')\n\n    return { \"X\" : X_train.values, \"y\" : y_train[0].values }\n",
      "execution_count": 7,
      "outputs": [
        {
          "output_type": "stream",
          "text": "Overwriting ./project/get_data.py\n",
          "name": "stdout"
        }
      ]
    },
    {
      "metadata": {},
      "cell_type": "markdown",
      "source": "## Train\n\nYou can specify `automl_settings` as `**kwargs` as well. Also note that you can use a `get_data()` function for local excutions too.\n\n**Note:** When using AmlCompute, you can't pass Numpy arrays directly to the fit method.\n\n|Property|Description|\n|-|-|\n|**primary_metric**|This is the metric that you want to optimize. Classification supports the following primary metrics: <br><i>accuracy</i><br><i>AUC_weighted</i><br><i>average_precision_score_weighted</i><br><i>norm_macro_recall</i><br><i>precision_score_weighted</i>|\n|**iteration_timeout_minutes**|Time limit in minutes for each iteration.|\n|**iterations**|Number of iterations. In each iteration AutoML trains a specific pipeline with the data.|\n|**n_cross_validations**|Number of cross validation splits.|\n|**max_concurrent_iterations**|Maximum number of iterations that would be executed in parallel. This should be less than the number of cores on the DSVM.|"
    },
    {
      "metadata": {},
      "cell_type": "markdown",
      "source": "### *** Quiz 2 - fill automl_settings***\n*Fill below cell to set automl_settings with below requirement*\n\n|Property|Description|\n|-|-|\n|**primary_metric**|AUC_weighted|\n|**iteration_timeout_minutes**|10|\n|**iterations**|10|\n|**n_cross_validations**|5|\n|**max_concurrent_iterations**|2|"
    },
    {
      "metadata": {
        "trusted": true
      },
      "cell_type": "code",
      "source": "automl_settings = {\n    \"iteration_timeout_minutes\": 10,\n    \"iterations\": 10,\n    \"n_cross_validations\": 5,\n    \"primary_metric\": 'AUC_weighted',\n    \"preprocess\": False,\n    \"max_concurrent_iterations\": 2,\n    \"verbosity\": logging.INFO\n}\n\nautoml_config = AutoMLConfig(task = 'classification',\n                             debug_log = 'automl_errors.log',\n                             path = project_folder,\n                             run_configuration=conda_run_config,\n                             data_script = project_folder + \"/get_data.py\",\n                             **automl_settings\n                            )\n",
      "execution_count": 8,
      "outputs": []
    },
    {
      "metadata": {},
      "cell_type": "markdown",
      "source": "Call the `submit` method on the experiment object and pass the run configuration. For remote runs the execution is asynchronous, so you will see the iterations get populated as they complete. You can interact with the widgets and models even when the experiment is running to retrieve the best model up to that point. Once you are satisfied with the model, you can cancel a particular iteration or the whole run.\nIn this example, we specify `show_output = False` to suppress console output while the run is in progress."
    },
    {
      "metadata": {
        "trusted": true
      },
      "cell_type": "code",
      "source": "remote_run = experiment.submit(automl_config, show_output = False)",
      "execution_count": 10,
      "outputs": []
    },
    {
      "metadata": {
        "trusted": true
      },
      "cell_type": "code",
      "source": "remote_run",
      "execution_count": 11,
      "outputs": [
        {
          "output_type": "execute_result",
          "execution_count": 11,
          "data": {
            "text/html": "<table style=\"width:100%\"><tr><th>Experiment</th><th>Id</th><th>Type</th><th>Status</th><th>Details Page</th><th>Docs Page</th></tr><tr><td>automl-remote-amlcompute</td><td>AutoML_5adc1476-4b77-46a8-857c-5dd8dd210b6a</td><td>automl</td><td>Preparing</td><td><a href=\"https://mlworkspace.azure.ai/portal/subscriptions/ea8323fb-dd33-48d1-8ffb-3d771bc5f05c/resourceGroups/ODL-aml-workspace-70617/providers/Microsoft.MachineLearningServices/workspaces/gpu-tech-immersion-aml-70617/experiments/automl-remote-amlcompute/runs/AutoML_5adc1476-4b77-46a8-857c-5dd8dd210b6a\" target=\"_blank\" rel=\"noopener\">Link to Azure Portal</a></td><td><a href=\"https://docs.microsoft.com/en-us/python/api/overview/azure/ml/intro?view=azure-ml-py\" target=\"_blank\" rel=\"noopener\">Link to Documentation</a></td></tr></table>",
            "text/plain": "Run(Experiment: automl-remote-amlcompute,\nId: AutoML_5adc1476-4b77-46a8-857c-5dd8dd210b6a,\nType: automl,\nStatus: Preparing)"
          },
          "metadata": {}
        }
      ]
    },
    {
      "metadata": {},
      "cell_type": "markdown",
      "source": "## Results\n\n#### Loading executed runs\nIn case you need to load a previously executed run, enable the cell below and replace the `run_id` value."
    },
    {
      "metadata": {},
      "cell_type": "markdown",
      "source": " remote_run = AutoMLRun(experiment = experiment, run_id = 'AutoML_4fa1e293-ac8f-4181-a1c4-05e118ff6ad9\t')"
    },
    {
      "metadata": {},
      "cell_type": "markdown",
      "source": "#### Widget for Monitoring Runs\n\nThe widget will first report a \"loading\" status while running the first iteration. After completing the first iteration, an auto-updating graph and table will be shown. The widget will refresh once per minute, so you should see the graph update as child runs complete.\n\nYou can click on a pipeline to see run properties and output logs.  Logs are also available on the DSVM under `/tmp/azureml_run/{iterationid}/azureml-logs`\n\n**Note:** The widget displays a link at the bottom. Use this link to open a web interface to explore the individual run details."
    },
    {
      "metadata": {
        "trusted": true
      },
      "cell_type": "code",
      "source": "remote_run",
      "execution_count": 12,
      "outputs": [
        {
          "output_type": "execute_result",
          "execution_count": 12,
          "data": {
            "text/html": "<table style=\"width:100%\"><tr><th>Experiment</th><th>Id</th><th>Type</th><th>Status</th><th>Details Page</th><th>Docs Page</th></tr><tr><td>automl-remote-amlcompute</td><td>AutoML_5adc1476-4b77-46a8-857c-5dd8dd210b6a</td><td>automl</td><td>Preparing</td><td><a href=\"https://mlworkspace.azure.ai/portal/subscriptions/ea8323fb-dd33-48d1-8ffb-3d771bc5f05c/resourceGroups/ODL-aml-workspace-70617/providers/Microsoft.MachineLearningServices/workspaces/gpu-tech-immersion-aml-70617/experiments/automl-remote-amlcompute/runs/AutoML_5adc1476-4b77-46a8-857c-5dd8dd210b6a\" target=\"_blank\" rel=\"noopener\">Link to Azure Portal</a></td><td><a href=\"https://docs.microsoft.com/en-us/python/api/overview/azure/ml/intro?view=azure-ml-py\" target=\"_blank\" rel=\"noopener\">Link to Documentation</a></td></tr></table>",
            "text/plain": "Run(Experiment: automl-remote-amlcompute,\nId: AutoML_5adc1476-4b77-46a8-857c-5dd8dd210b6a,\nType: automl,\nStatus: Preparing)"
          },
          "metadata": {}
        }
      ]
    },
    {
      "metadata": {
        "trusted": true
      },
      "cell_type": "code",
      "source": "from azureml.widgets import RunDetails\nRunDetails(remote_run).show() ",
      "execution_count": 13,
      "outputs": [
        {
          "output_type": "display_data",
          "data": {
            "application/vnd.jupyter.widget-view+json": {
              "model_id": "7cf6e2107372466d9bb60b9a1677d65e",
              "version_minor": 0,
              "version_major": 2
            },
            "text/plain": "_AutoMLWidget(widget_settings={'childWidgetDisplay': 'popup', 'send_telemetry': False, 'log_level': 'INFO', 's…"
          },
          "metadata": {}
        }
      ]
    },
    {
      "metadata": {
        "trusted": true
      },
      "cell_type": "code",
      "source": "# Wait until the run finishes.\nremote_run.wait_for_completion(show_output = True)",
      "execution_count": 14,
      "outputs": [
        {
          "output_type": "stream",
          "text": "\n****************************************************************************************************\nITERATION: The iteration being evaluated.\nPIPELINE: A summary description of the pipeline being evaluated.\nDURATION: Time taken for the current iteration.\nMETRIC: The result of computing score on the fitted pipeline.\nBEST: The best observed score thus far.\n****************************************************************************************************\n\n ITERATION   PIPELINE                                       DURATION      METRIC      BEST\n         1   StandardScalerWrapper SGD                      0:00:38       0.9972    0.9972\n         0   StandardScalerWrapper SGD                      0:01:30       0.9943    0.9972\n         2   MinMaxScaler LightGBM                          0:00:43       0.9979    0.9979\n         3   StandardScalerWrapper SGD                      0:00:46       0.9888    0.9979\n         4   StandardScalerWrapper ExtremeRandomTrees       0:00:42       0.9965    0.9979\n         6   StandardScalerWrapper SGD                      0:00:40       0.9966    0.9979\n         5   StandardScalerWrapper LightGBM                 0:00:44       0.9979    0.9979\n         7   MinMaxScaler RandomForest                      0:00:45       0.9851    0.9979\n         8    VotingEnsemble                                0:00:46       0.9987    0.9987\n         9    StackEnsemble                                 0:01:00       0.9988    0.9988\n\nExecution Summary\n=================\nRunId: AutoML_5adc1476-4b77-46a8-857c-5dd8dd210b6a\n\n",
          "name": "stdout"
        },
        {
          "output_type": "execute_result",
          "execution_count": 14,
          "data": {
            "text/plain": "{'runId': 'AutoML_5adc1476-4b77-46a8-857c-5dd8dd210b6a',\n 'target': 'cpucluster',\n 'status': 'Completed',\n 'startTimeUtc': '2019-06-18T01:27:09.933429Z',\n 'endTimeUtc': '2019-06-18T01:32:29.300158Z',\n 'properties': {'num_iterations': '10',\n  'training_type': 'TrainFull',\n  'acquisition_function': 'EI',\n  'primary_metric': 'AUC_weighted',\n  'train_split': '0',\n  'MaxTimeSeconds': '600',\n  'acquisition_parameter': '0',\n  'num_cross_validation': '5',\n  'target': 'cpucluster',\n  'RawAMLSettingsString': \"{'name': 'automl-remote-amlcompute', 'path': './project', 'subscription_id': 'ea8323fb-dd33-48d1-8ffb-3d771bc5f05c', 'resource_group': 'ODL-aml-workspace-70617', 'workspace_name': 'gpu-tech-immersion-aml-70617', 'region': 'southeastasia', 'compute_target': 'cpucluster', 'spark_service': None, 'iterations': 10, 'primary_metric': 'AUC_weighted', 'task_type': 'classification', 'data_script': './project/get_data.py', 'validation_size': 0.0, 'n_cross_validations': 5, 'y_min': None, 'y_max': None, 'num_classes': None, 'preprocess': False, 'lag_length': 0, 'is_timeseries': False, 'max_cores_per_iteration': 1, 'max_concurrent_iterations': 2, 'iteration_timeout_minutes': 10, 'mem_in_mb': None, 'enforce_time_on_windows': False, 'experiment_timeout_minutes': None, 'experiment_exit_score': None, 'whitelist_models': None, 'blacklist_algos': ['XGBoostClassifier', 'XGBoostClassifier'], 'auto_blacklist': True, 'blacklist_samples_reached': False, 'exclude_nan_labels': True, 'verbosity': 20, 'debug_log': 'automl_errors.log', 'show_warnings': False, 'model_explainability': False, 'service_url': None, 'sdk_url': None, 'sdk_packages': None, 'enable_onnx_compatible_models': False, 'enable_feature_sweeping': True, 'telemetry_verbosity': 'INFO', 'send_telemetry': True, 'enable_early_stopping': False, 'early_stopping_n_iters': 10, 'metrics': None, 'enable_ensembling': True, 'enable_stack_ensembling': True, 'ensemble_iterations': 10, 'enable_tf': False, 'enable_cache': True, 'enable_subsampling': False, 'subsample_seed': None, 'cost_mode': 0, 'metric_operation': 'maximize'}\",\n  'AMLSettingsJsonString': '{\\n  \"name\": \"automl-remote-amlcompute\",\\n  \"path\": \"./project\",\\n  \"subscription_id\": \"ea8323fb-dd33-48d1-8ffb-3d771bc5f05c\",\\n  \"resource_group\": \"ODL-aml-workspace-70617\",\\n  \"workspace_name\": \"gpu-tech-immersion-aml-70617\",\\n  \"region\": \"southeastasia\",\\n  \"compute_target\": \"cpucluster\",\\n  \"spark_service\": null,\\n  \"iterations\": 10,\\n  \"primary_metric\": \"AUC_weighted\",\\n  \"task_type\": \"classification\",\\n  \"data_script\": \"./project/get_data.py\",\\n  \"validation_size\": 0.0,\\n  \"n_cross_validations\": 5,\\n  \"y_min\": null,\\n  \"y_max\": null,\\n  \"num_classes\": null,\\n  \"preprocess\": false,\\n  \"lag_length\": 0,\\n  \"is_timeseries\": false,\\n  \"max_cores_per_iteration\": 1,\\n  \"max_concurrent_iterations\": 2,\\n  \"iteration_timeout_minutes\": 10,\\n  \"mem_in_mb\": null,\\n  \"enforce_time_on_windows\": false,\\n  \"experiment_timeout_minutes\": null,\\n  \"experiment_exit_score\": null,\\n  \"whitelist_models\": null,\\n  \"blacklist_algos\": [\\n    \"XGBoostClassifier\",\\n    \"XGBoostClassifier\"\\n  ],\\n  \"auto_blacklist\": true,\\n  \"blacklist_samples_reached\": false,\\n  \"exclude_nan_labels\": true,\\n  \"verbosity\": 20,\\n  \"debug_log\": \"automl_errors.log\",\\n  \"show_warnings\": false,\\n  \"model_explainability\": false,\\n  \"service_url\": null,\\n  \"sdk_url\": null,\\n  \"sdk_packages\": null,\\n  \"enable_onnx_compatible_models\": false,\\n  \"enable_feature_sweeping\": true,\\n  \"telemetry_verbosity\": \"INFO\",\\n  \"send_telemetry\": true,\\n  \"enable_early_stopping\": false,\\n  \"early_stopping_n_iters\": 10,\\n  \"metrics\": null,\\n  \"enable_ensembling\": true,\\n  \"enable_stack_ensembling\": true,\\n  \"ensemble_iterations\": 10,\\n  \"enable_tf\": false,\\n  \"enable_cache\": true,\\n  \"enable_subsampling\": false,\\n  \"subsample_seed\": null,\\n  \"cost_mode\": 0,\\n  \"metric_operation\": \"maximize\"\\n}',\n  'DataPrepJsonString': None,\n  'EnableSubsampling': 'False',\n  'runTemplate': 'AutoML',\n  'azureml.runsource': 'automl',\n  'display_task_type': 'classification',\n  'dependencies_versions': '{\"azureml-widgets\": \"1.0.33\", \"azureml-train\": \"1.0.43\", \"azureml-train-restclients-hyperdrive\": \"1.0.43\", \"azureml-train-core\": \"1.0.43\", \"azureml-train-automl\": \"1.0.43.1\", \"azureml-telemetry\": \"1.0.43.1\", \"azureml-sdk\": \"1.0.43\", \"azureml-pipeline\": \"1.0.43\", \"azureml-pipeline-steps\": \"1.0.43\", \"azureml-pipeline-core\": \"1.0.43\", \"azureml-explain-model\": \"1.0.43\", \"azureml-dataprep\": \"1.1.5\", \"azureml-dataprep-native\": \"13.0.0\", \"azureml-core\": \"1.0.43\", \"azureml-contrib-opendatasets\": \"1.0.33\", \"azureml-contrib-notebook\": \"1.0.33\", \"azureml-automl-core\": \"1.0.43\"}',\n  'ContentSnapshotId': '6db047b3-4caf-4a5c-acaa-709a326efb67',\n  'snapshotId': '6db047b3-4caf-4a5c-acaa-709a326efb67',\n  'SetupRunId': 'AutoML_5adc1476-4b77-46a8-857c-5dd8dd210b6a_setup',\n  'azureml.git.repository_uri': 'https://github.com/henry-zeng/AutoML-AIConf-2019-BJ',\n  'mlflow.source.git.repoURL': 'https://github.com/henry-zeng/AutoML-AIConf-2019-BJ',\n  'azureml.git.branch': 'master',\n  'mlflow.source.git.branch': 'master',\n  'azureml.git.commit': '756acee893ebc5c8e7cc31e8268939be84588a80',\n  'mlflow.source.git.commit': '756acee893ebc5c8e7cc31e8268939be84588a80',\n  'azureml.git.dirty': 'True',\n  'ProblemInfoJsonString': '{\"dataset_num_categorical\": 0, \"dataset_classes\": 10, \"dataset_features\": 64, \"dataset_samples\": 1797, \"is_sparse\": false, \"subsampling\": false}'},\n 'logFiles': {}}"
          },
          "metadata": {}
        }
      ]
    },
    {
      "metadata": {},
      "cell_type": "markdown",
      "source": "\n#### Retrieve All Child Runs\nYou can also use SDK methods to fetch all the child runs and see individual metrics that we log."
    },
    {
      "metadata": {
        "trusted": true
      },
      "cell_type": "code",
      "source": "children = list(remote_run.get_children())\nmetricslist = {}\nfor run in children:\n    properties = run.get_properties()\n    metrics = {k: v for k, v in run.get_metrics().items() if isinstance(v, float)}\n    metricslist[int(properties['iteration'])] = metrics\n\nrundata = pd.DataFrame(metricslist).sort_index(1)\nrundata",
      "execution_count": 15,
      "outputs": [
        {
          "output_type": "execute_result",
          "execution_count": 15,
          "data": {
            "text/html": "<div>\n<style scoped>\n    .dataframe tbody tr th:only-of-type {\n        vertical-align: middle;\n    }\n\n    .dataframe tbody tr th {\n        vertical-align: top;\n    }\n\n    .dataframe thead th {\n        text-align: right;\n    }\n</style>\n<table border=\"1\" class=\"dataframe\">\n  <thead>\n    <tr style=\"text-align: right;\">\n      <th></th>\n      <th>0</th>\n      <th>1</th>\n      <th>2</th>\n      <th>3</th>\n      <th>4</th>\n      <th>5</th>\n      <th>6</th>\n      <th>7</th>\n      <th>8</th>\n      <th>9</th>\n    </tr>\n  </thead>\n  <tbody>\n    <tr>\n      <th>AUC_macro</th>\n      <td>0.99</td>\n      <td>1.00</td>\n      <td>1.00</td>\n      <td>0.99</td>\n      <td>1.00</td>\n      <td>1.00</td>\n      <td>1.00</td>\n      <td>0.99</td>\n      <td>1.00</td>\n      <td>1.00</td>\n    </tr>\n    <tr>\n      <th>AUC_micro</th>\n      <td>0.99</td>\n      <td>1.00</td>\n      <td>1.00</td>\n      <td>0.99</td>\n      <td>1.00</td>\n      <td>1.00</td>\n      <td>1.00</td>\n      <td>0.99</td>\n      <td>1.00</td>\n      <td>1.00</td>\n    </tr>\n    <tr>\n      <th>AUC_weighted</th>\n      <td>0.99</td>\n      <td>1.00</td>\n      <td>1.00</td>\n      <td>0.99</td>\n      <td>1.00</td>\n      <td>1.00</td>\n      <td>1.00</td>\n      <td>0.99</td>\n      <td>1.00</td>\n      <td>1.00</td>\n    </tr>\n    <tr>\n      <th>accuracy</th>\n      <td>0.95</td>\n      <td>0.96</td>\n      <td>0.94</td>\n      <td>0.91</td>\n      <td>0.94</td>\n      <td>0.94</td>\n      <td>0.96</td>\n      <td>0.86</td>\n      <td>0.97</td>\n      <td>0.97</td>\n    </tr>\n    <tr>\n      <th>average_precision_score_macro</th>\n      <td>0.98</td>\n      <td>0.99</td>\n      <td>0.99</td>\n      <td>0.94</td>\n      <td>0.98</td>\n      <td>0.99</td>\n      <td>0.98</td>\n      <td>0.92</td>\n      <td>0.99</td>\n      <td>0.99</td>\n    </tr>\n    <tr>\n      <th>average_precision_score_micro</th>\n      <td>0.98</td>\n      <td>0.99</td>\n      <td>0.99</td>\n      <td>0.93</td>\n      <td>0.98</td>\n      <td>0.99</td>\n      <td>0.99</td>\n      <td>0.92</td>\n      <td>0.99</td>\n      <td>0.99</td>\n    </tr>\n    <tr>\n      <th>average_precision_score_weighted</th>\n      <td>0.98</td>\n      <td>0.99</td>\n      <td>0.99</td>\n      <td>0.94</td>\n      <td>0.98</td>\n      <td>0.99</td>\n      <td>0.98</td>\n      <td>0.92</td>\n      <td>0.99</td>\n      <td>0.99</td>\n    </tr>\n    <tr>\n      <th>balanced_accuracy</th>\n      <td>0.95</td>\n      <td>0.96</td>\n      <td>0.94</td>\n      <td>0.91</td>\n      <td>0.94</td>\n      <td>0.94</td>\n      <td>0.96</td>\n      <td>0.86</td>\n      <td>0.97</td>\n      <td>0.97</td>\n    </tr>\n    <tr>\n      <th>f1_score_macro</th>\n      <td>0.95</td>\n      <td>0.96</td>\n      <td>0.94</td>\n      <td>0.91</td>\n      <td>0.94</td>\n      <td>0.94</td>\n      <td>0.96</td>\n      <td>0.86</td>\n      <td>0.97</td>\n      <td>0.97</td>\n    </tr>\n    <tr>\n      <th>f1_score_micro</th>\n      <td>0.95</td>\n      <td>0.96</td>\n      <td>0.94</td>\n      <td>0.91</td>\n      <td>0.94</td>\n      <td>0.94</td>\n      <td>0.96</td>\n      <td>0.86</td>\n      <td>0.97</td>\n      <td>0.97</td>\n    </tr>\n    <tr>\n      <th>f1_score_weighted</th>\n      <td>0.95</td>\n      <td>0.96</td>\n      <td>0.94</td>\n      <td>0.91</td>\n      <td>0.94</td>\n      <td>0.94</td>\n      <td>0.96</td>\n      <td>0.86</td>\n      <td>0.97</td>\n      <td>0.97</td>\n    </tr>\n    <tr>\n      <th>log_loss</th>\n      <td>0.55</td>\n      <td>0.23</td>\n      <td>0.31</td>\n      <td>1.63</td>\n      <td>0.77</td>\n      <td>0.32</td>\n      <td>0.30</td>\n      <td>1.04</td>\n      <td>0.31</td>\n      <td>0.13</td>\n    </tr>\n    <tr>\n      <th>norm_macro_recall</th>\n      <td>0.95</td>\n      <td>0.96</td>\n      <td>0.94</td>\n      <td>0.90</td>\n      <td>0.94</td>\n      <td>0.94</td>\n      <td>0.95</td>\n      <td>0.85</td>\n      <td>0.96</td>\n      <td>0.97</td>\n    </tr>\n    <tr>\n      <th>precision_score_macro</th>\n      <td>0.95</td>\n      <td>0.96</td>\n      <td>0.94</td>\n      <td>0.91</td>\n      <td>0.94</td>\n      <td>0.94</td>\n      <td>0.96</td>\n      <td>0.86</td>\n      <td>0.97</td>\n      <td>0.97</td>\n    </tr>\n    <tr>\n      <th>precision_score_micro</th>\n      <td>0.95</td>\n      <td>0.96</td>\n      <td>0.94</td>\n      <td>0.91</td>\n      <td>0.94</td>\n      <td>0.94</td>\n      <td>0.96</td>\n      <td>0.86</td>\n      <td>0.97</td>\n      <td>0.97</td>\n    </tr>\n    <tr>\n      <th>precision_score_weighted</th>\n      <td>0.96</td>\n      <td>0.96</td>\n      <td>0.95</td>\n      <td>0.91</td>\n      <td>0.95</td>\n      <td>0.94</td>\n      <td>0.96</td>\n      <td>0.87</td>\n      <td>0.97</td>\n      <td>0.97</td>\n    </tr>\n    <tr>\n      <th>recall_score_macro</th>\n      <td>0.95</td>\n      <td>0.96</td>\n      <td>0.94</td>\n      <td>0.91</td>\n      <td>0.94</td>\n      <td>0.94</td>\n      <td>0.96</td>\n      <td>0.86</td>\n      <td>0.97</td>\n      <td>0.97</td>\n    </tr>\n    <tr>\n      <th>recall_score_micro</th>\n      <td>0.95</td>\n      <td>0.96</td>\n      <td>0.94</td>\n      <td>0.91</td>\n      <td>0.94</td>\n      <td>0.94</td>\n      <td>0.96</td>\n      <td>0.86</td>\n      <td>0.97</td>\n      <td>0.97</td>\n    </tr>\n    <tr>\n      <th>recall_score_weighted</th>\n      <td>0.95</td>\n      <td>0.96</td>\n      <td>0.94</td>\n      <td>0.91</td>\n      <td>0.94</td>\n      <td>0.94</td>\n      <td>0.96</td>\n      <td>0.86</td>\n      <td>0.97</td>\n      <td>0.97</td>\n    </tr>\n    <tr>\n      <th>weighted_accuracy</th>\n      <td>0.95</td>\n      <td>0.96</td>\n      <td>0.94</td>\n      <td>0.91</td>\n      <td>0.94</td>\n      <td>0.94</td>\n      <td>0.96</td>\n      <td>0.86</td>\n      <td>0.97</td>\n      <td>0.97</td>\n    </tr>\n  </tbody>\n</table>\n</div>",
            "text/plain": "                                    0    1    2    3    4    5    6    7    8  \\\nAUC_macro                        0.99 1.00 1.00 0.99 1.00 1.00 1.00 0.99 1.00   \nAUC_micro                        0.99 1.00 1.00 0.99 1.00 1.00 1.00 0.99 1.00   \nAUC_weighted                     0.99 1.00 1.00 0.99 1.00 1.00 1.00 0.99 1.00   \naccuracy                         0.95 0.96 0.94 0.91 0.94 0.94 0.96 0.86 0.97   \naverage_precision_score_macro    0.98 0.99 0.99 0.94 0.98 0.99 0.98 0.92 0.99   \naverage_precision_score_micro    0.98 0.99 0.99 0.93 0.98 0.99 0.99 0.92 0.99   \naverage_precision_score_weighted 0.98 0.99 0.99 0.94 0.98 0.99 0.98 0.92 0.99   \nbalanced_accuracy                0.95 0.96 0.94 0.91 0.94 0.94 0.96 0.86 0.97   \nf1_score_macro                   0.95 0.96 0.94 0.91 0.94 0.94 0.96 0.86 0.97   \nf1_score_micro                   0.95 0.96 0.94 0.91 0.94 0.94 0.96 0.86 0.97   \nf1_score_weighted                0.95 0.96 0.94 0.91 0.94 0.94 0.96 0.86 0.97   \nlog_loss                         0.55 0.23 0.31 1.63 0.77 0.32 0.30 1.04 0.31   \nnorm_macro_recall                0.95 0.96 0.94 0.90 0.94 0.94 0.95 0.85 0.96   \nprecision_score_macro            0.95 0.96 0.94 0.91 0.94 0.94 0.96 0.86 0.97   \nprecision_score_micro            0.95 0.96 0.94 0.91 0.94 0.94 0.96 0.86 0.97   \nprecision_score_weighted         0.96 0.96 0.95 0.91 0.95 0.94 0.96 0.87 0.97   \nrecall_score_macro               0.95 0.96 0.94 0.91 0.94 0.94 0.96 0.86 0.97   \nrecall_score_micro               0.95 0.96 0.94 0.91 0.94 0.94 0.96 0.86 0.97   \nrecall_score_weighted            0.95 0.96 0.94 0.91 0.94 0.94 0.96 0.86 0.97   \nweighted_accuracy                0.95 0.96 0.94 0.91 0.94 0.94 0.96 0.86 0.97   \n\n                                    9  \nAUC_macro                        1.00  \nAUC_micro                        1.00  \nAUC_weighted                     1.00  \naccuracy                         0.97  \naverage_precision_score_macro    0.99  \naverage_precision_score_micro    0.99  \naverage_precision_score_weighted 0.99  \nbalanced_accuracy                0.97  \nf1_score_macro                   0.97  \nf1_score_micro                   0.97  \nf1_score_weighted                0.97  \nlog_loss                         0.13  \nnorm_macro_recall                0.97  \nprecision_score_macro            0.97  \nprecision_score_micro            0.97  \nprecision_score_weighted         0.97  \nrecall_score_macro               0.97  \nrecall_score_micro               0.97  \nrecall_score_weighted            0.97  \nweighted_accuracy                0.97  "
          },
          "metadata": {}
        }
      ]
    },
    {
      "metadata": {},
      "cell_type": "markdown",
      "source": "### Cancelling Runs\n\nYou can cancel ongoing remote runs using the `cancel` and `cancel_iteration` functions."
    },
    {
      "metadata": {
        "trusted": true
      },
      "cell_type": "code",
      "source": "# Cancel the ongoing experiment and stop scheduling new iterations.\n# remote_run.cancel()\n\n# Cancel iteration 1 and move onto iteration 2.\n# remote_run.cancel_iteration(1)",
      "execution_count": 16,
      "outputs": []
    },
    {
      "metadata": {},
      "cell_type": "markdown",
      "source": "### Retrieve the Best Model\n\nBelow we select the best pipeline from our iterations. The `get_output` method returns the best run and the fitted model. The Model includes the pipeline and any pre-processing.  Overloads on `get_output` allow you to retrieve the best run and fitted model for *any* logged metric or for a particular *iteration*."
    },
    {
      "metadata": {
        "trusted": true
      },
      "cell_type": "code",
      "source": "best_run, fitted_model = remote_run.get_output()\nprint(best_run)\nprint(fitted_model)",
      "execution_count": 17,
      "outputs": [
        {
          "output_type": "stream",
          "text": "Run(Experiment: automl-remote-amlcompute,\nId: AutoML_5adc1476-4b77-46a8-857c-5dd8dd210b6a_9,\nType: azureml.scriptrun,\nStatus: Completed)\nPipeline(memory=None,\n     steps=[('stackensembleclassifier', StackEnsembleClassifier(base_learners=[('2', Pipeline(memory=None,\n     steps=[('MinMaxScaler', MinMaxScaler(copy=True, feature_range=(0, 1))), ('LightGBMClassifier', LightGBMClassifier(boosting_type='goss', class_weight=None,\n          colsample_bytree=0.792222222...7f4392756358>,\n           solver='lbfgs', tol=0.0001, verbose=0),\n            training_cv_folds=5))])\n",
          "name": "stdout"
        }
      ]
    },
    {
      "metadata": {},
      "cell_type": "markdown",
      "source": "#### Best Model Based on Any Other Metric\nShow the run and the model which has the smallest `log_loss` value:"
    },
    {
      "metadata": {
        "trusted": true
      },
      "cell_type": "code",
      "source": "lookup_metric = \"log_loss\"\nbest_run, fitted_model = remote_run.get_output(metric = lookup_metric)\nprint(best_run)\nprint(fitted_model)",
      "execution_count": 18,
      "outputs": [
        {
          "output_type": "stream",
          "text": "Run(Experiment: automl-remote-amlcompute,\nId: AutoML_5adc1476-4b77-46a8-857c-5dd8dd210b6a_9,\nType: azureml.scriptrun,\nStatus: Completed)\nPipeline(memory=None,\n     steps=[('stackensembleclassifier', StackEnsembleClassifier(base_learners=[('2', Pipeline(memory=None,\n     steps=[('MinMaxScaler', MinMaxScaler(copy=True, feature_range=(0, 1))), ('LightGBMClassifier', LightGBMClassifier(boosting_type='goss', class_weight=None,\n          colsample_bytree=0.792222222...7f4392756320>,\n           solver='lbfgs', tol=0.0001, verbose=0),\n            training_cv_folds=5))])\n",
          "name": "stdout"
        }
      ]
    },
    {
      "metadata": {},
      "cell_type": "markdown",
      "source": "### *Quiz 3 - Retrieve model from specific iteration*\n*Please fill in below cell to retrieve the model from 7th iteration*"
    },
    {
      "metadata": {
        "trusted": true
      },
      "cell_type": "code",
      "source": "iteration = 7\nseventh_run, seventh_model = remote_run.get_output(iteration = iteration)\nprint(seventh_run)\nprint(seventh_model)",
      "execution_count": 19,
      "outputs": [
        {
          "output_type": "stream",
          "text": "Run(Experiment: automl-remote-amlcompute,\nId: AutoML_5adc1476-4b77-46a8-857c-5dd8dd210b6a_7,\nType: azureml.scriptrun,\nStatus: Completed)\nPipeline(memory=None,\n     steps=[('MinMaxScaler', MinMaxScaler(copy=True, feature_range=(0, 1))), ('RandomForestClassifier', RandomForestClassifier(bootstrap=False, class_weight='balanced',\n            criterion='entropy', max_depth=None, max_features='sqrt',\n            max_leaf_nodes=None, min_impurity_decrease=0.0,\n      ...n_jobs=1,\n            oob_score=False, random_state=None, verbose=0,\n            warm_start=False))])\n",
          "name": "stdout"
        }
      ]
    },
    {
      "metadata": {},
      "cell_type": "markdown",
      "source": "## Test\n\n#### Load Test Data"
    },
    {
      "metadata": {
        "trusted": true
      },
      "cell_type": "code",
      "source": "digits = datasets.load_digits()\nX_test = digits.data[:10, :]\ny_test = digits.target[:10]\nimages = digits.images[:10]",
      "execution_count": 20,
      "outputs": []
    },
    {
      "metadata": {},
      "cell_type": "markdown",
      "source": "#### Testing Our Best Fitted Model"
    },
    {
      "metadata": {
        "trusted": true
      },
      "cell_type": "code",
      "source": "# Randomly select digits and test.\nfor index in np.random.choice(len(y_test), 2, replace = False):\n    print(index)\n    predicted = fitted_model.predict(X_test[index:index + 1])[0]\n    label = y_test[index]\n    title = \"Label value = %d  Predicted value = %d \" % (label, predicted)\n    fig = plt.figure(1, figsize=(3,3))\n    ax1 = fig.add_axes((0,0,.8,.8))\n    ax1.set_title(title)\n    plt.imshow(images[index], cmap = plt.cm.gray_r, interpolation = 'nearest')\n    plt.show()",
      "execution_count": 21,
      "outputs": [
        {
          "output_type": "stream",
          "text": "5\n",
          "name": "stdout"
        },
        {
          "output_type": "display_data",
          "data": {
            "image/png": "[encoded data removed]",
            "text/plain": "<Figure size 216x216 with 1 Axes>"
          },
          "metadata": {
            "needs_background": "light"
          }
        },
        {
          "output_type": "stream",
          "text": "9\n",
          "name": "stdout"
        },
        {
          "output_type": "display_data",
          "data": {
            "image/png": "[encoded data removed]",
            "text/plain": "<Figure size 216x216 with 1 Axes>"
          },
          "metadata": {
            "needs_background": "light"
          }
        }
      ]
    },
    {
      "metadata": {
        "trusted": true
      },
      "cell_type": "code",
      "source": "",
      "execution_count": null,
      "outputs": []
    }
  ],
  "metadata": {
    "authors": [
      {
        "name": "savitam"
      }
    ],
    "kernelspec": {
      "name": "python36",
      "display_name": "Python 3.6",
      "language": "python"
    },
    "language_info": {
      "mimetype": "text/x-python",
      "nbconvert_exporter": "python",
      "name": "python",
      "pygments_lexer": "ipython3",
      "version": "3.6.6",
      "file_extension": ".py",
      "codemirror_mode": {
        "version": 3,
        "name": "ipython"
      }
    }
  },
  "nbformat": 4,
  "nbformat_minor": 2
}
